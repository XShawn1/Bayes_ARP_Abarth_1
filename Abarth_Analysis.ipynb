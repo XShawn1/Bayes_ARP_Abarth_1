{
  "nbformat": 4,
  "nbformat_minor": 0,
  "metadata": {
    "colab": {
      "provenance": [],
      "authorship_tag": "ABX9TyMYGEUk7Eb0azyt+IoC5dK+",
      "include_colab_link": true
    },
    "kernelspec": {
      "name": "python3",
      "display_name": "Python 3"
    },
    "language_info": {
      "name": "python"
    }
  },
  "cells": [
    {
      "cell_type": "markdown",
      "metadata": {
        "id": "view-in-github",
        "colab_type": "text"
      },
      "source": [
        "<a href=\"https://colab.research.google.com/github/XShawn1/Bayes_ARP_Abarth_1/blob/Nadia/Abarth_Analysis.ipynb\" target=\"_parent\"><img src=\"https://colab.research.google.com/assets/colab-badge.svg\" alt=\"Open In Colab\"/></a>"
      ]
    },
    {
      "cell_type": "code",
      "execution_count": 1,
      "metadata": {
        "colab": {
          "base_uri": "https://localhost:8080/",
          "height": 1000
        },
        "id": "4yaoDyMA6dxO",
        "outputId": "07e0cd32-6b22-4ec8-cbad-2932d7a41244"
      },
      "outputs": [
        {
          "output_type": "stream",
          "name": "stdout",
          "text": [
            "Requirement already satisfied: pandas in /usr/local/lib/python3.10/dist-packages (1.5.3)\n",
            "Requirement already satisfied: python-dateutil>=2.8.1 in /usr/local/lib/python3.10/dist-packages (from pandas) (2.8.2)\n",
            "Requirement already satisfied: pytz>=2020.1 in /usr/local/lib/python3.10/dist-packages (from pandas) (2023.3)\n",
            "Requirement already satisfied: numpy>=1.21.0 in /usr/local/lib/python3.10/dist-packages (from pandas) (1.23.5)\n",
            "Requirement already satisfied: six>=1.5 in /usr/local/lib/python3.10/dist-packages (from python-dateutil>=2.8.1->pandas) (1.16.0)\n",
            "Requirement already satisfied: spacy in /usr/local/lib/python3.10/dist-packages (3.6.1)\n",
            "Requirement already satisfied: spacy-legacy<3.1.0,>=3.0.11 in /usr/local/lib/python3.10/dist-packages (from spacy) (3.0.12)\n",
            "Requirement already satisfied: spacy-loggers<2.0.0,>=1.0.0 in /usr/local/lib/python3.10/dist-packages (from spacy) (1.0.4)\n",
            "Requirement already satisfied: murmurhash<1.1.0,>=0.28.0 in /usr/local/lib/python3.10/dist-packages (from spacy) (1.0.9)\n",
            "Requirement already satisfied: cymem<2.1.0,>=2.0.2 in /usr/local/lib/python3.10/dist-packages (from spacy) (2.0.7)\n",
            "Requirement already satisfied: preshed<3.1.0,>=3.0.2 in /usr/local/lib/python3.10/dist-packages (from spacy) (3.0.8)\n",
            "Requirement already satisfied: thinc<8.2.0,>=8.1.8 in /usr/local/lib/python3.10/dist-packages (from spacy) (8.1.12)\n",
            "Requirement already satisfied: wasabi<1.2.0,>=0.9.1 in /usr/local/lib/python3.10/dist-packages (from spacy) (1.1.2)\n",
            "Requirement already satisfied: srsly<3.0.0,>=2.4.3 in /usr/local/lib/python3.10/dist-packages (from spacy) (2.4.7)\n",
            "Requirement already satisfied: catalogue<2.1.0,>=2.0.6 in /usr/local/lib/python3.10/dist-packages (from spacy) (2.0.9)\n",
            "Requirement already satisfied: typer<0.10.0,>=0.3.0 in /usr/local/lib/python3.10/dist-packages (from spacy) (0.9.0)\n",
            "Requirement already satisfied: pathy>=0.10.0 in /usr/local/lib/python3.10/dist-packages (from spacy) (0.10.2)\n",
            "Requirement already satisfied: smart-open<7.0.0,>=5.2.1 in /usr/local/lib/python3.10/dist-packages (from spacy) (6.3.0)\n",
            "Requirement already satisfied: tqdm<5.0.0,>=4.38.0 in /usr/local/lib/python3.10/dist-packages (from spacy) (4.66.1)\n",
            "Requirement already satisfied: numpy>=1.15.0 in /usr/local/lib/python3.10/dist-packages (from spacy) (1.23.5)\n",
            "Requirement already satisfied: requests<3.0.0,>=2.13.0 in /usr/local/lib/python3.10/dist-packages (from spacy) (2.31.0)\n",
            "Requirement already satisfied: pydantic!=1.8,!=1.8.1,<3.0.0,>=1.7.4 in /usr/local/lib/python3.10/dist-packages (from spacy) (2.2.1)\n",
            "Requirement already satisfied: jinja2 in /usr/local/lib/python3.10/dist-packages (from spacy) (3.1.2)\n",
            "Requirement already satisfied: setuptools in /usr/local/lib/python3.10/dist-packages (from spacy) (67.7.2)\n",
            "Requirement already satisfied: packaging>=20.0 in /usr/local/lib/python3.10/dist-packages (from spacy) (23.1)\n",
            "Requirement already satisfied: langcodes<4.0.0,>=3.2.0 in /usr/local/lib/python3.10/dist-packages (from spacy) (3.3.0)\n",
            "Requirement already satisfied: annotated-types>=0.4.0 in /usr/local/lib/python3.10/dist-packages (from pydantic!=1.8,!=1.8.1,<3.0.0,>=1.7.4->spacy) (0.5.0)\n",
            "Requirement already satisfied: pydantic-core==2.6.1 in /usr/local/lib/python3.10/dist-packages (from pydantic!=1.8,!=1.8.1,<3.0.0,>=1.7.4->spacy) (2.6.1)\n",
            "Requirement already satisfied: typing-extensions>=4.6.1 in /usr/local/lib/python3.10/dist-packages (from pydantic!=1.8,!=1.8.1,<3.0.0,>=1.7.4->spacy) (4.7.1)\n",
            "Requirement already satisfied: charset-normalizer<4,>=2 in /usr/local/lib/python3.10/dist-packages (from requests<3.0.0,>=2.13.0->spacy) (3.2.0)\n",
            "Requirement already satisfied: idna<4,>=2.5 in /usr/local/lib/python3.10/dist-packages (from requests<3.0.0,>=2.13.0->spacy) (3.4)\n",
            "Requirement already satisfied: urllib3<3,>=1.21.1 in /usr/local/lib/python3.10/dist-packages (from requests<3.0.0,>=2.13.0->spacy) (2.0.4)\n",
            "Requirement already satisfied: certifi>=2017.4.17 in /usr/local/lib/python3.10/dist-packages (from requests<3.0.0,>=2.13.0->spacy) (2023.7.22)\n",
            "Requirement already satisfied: blis<0.8.0,>=0.7.8 in /usr/local/lib/python3.10/dist-packages (from thinc<8.2.0,>=8.1.8->spacy) (0.7.10)\n",
            "Requirement already satisfied: confection<1.0.0,>=0.0.1 in /usr/local/lib/python3.10/dist-packages (from thinc<8.2.0,>=8.1.8->spacy) (0.1.1)\n",
            "Requirement already satisfied: click<9.0.0,>=7.1.1 in /usr/local/lib/python3.10/dist-packages (from typer<0.10.0,>=0.3.0->spacy) (8.1.7)\n",
            "Requirement already satisfied: MarkupSafe>=2.0 in /usr/local/lib/python3.10/dist-packages (from jinja2->spacy) (2.1.3)\n",
            "2023-08-30 14:48:04.865278: I tensorflow/core/platform/cpu_feature_guard.cc:182] This TensorFlow binary is optimized to use available CPU instructions in performance-critical operations.\n",
            "To enable the following instructions: AVX2 FMA, in other operations, rebuild TensorFlow with the appropriate compiler flags.\n",
            "2023-08-30 14:48:05.961747: W tensorflow/compiler/tf2tensorrt/utils/py_utils.cc:38] TF-TRT Warning: Could not find TensorRT\n",
            "Collecting en-core-web-sm==3.6.0\n",
            "  Downloading https://github.com/explosion/spacy-models/releases/download/en_core_web_sm-3.6.0/en_core_web_sm-3.6.0-py3-none-any.whl (12.8 MB)\n",
            "\u001b[2K     \u001b[90m━━━━━━━━━━━━━━━━━━━━━━━━━━━━━━━━━━━━━━━━\u001b[0m \u001b[32m12.8/12.8 MB\u001b[0m \u001b[31m78.0 MB/s\u001b[0m eta \u001b[36m0:00:00\u001b[0m\n",
            "\u001b[?25hRequirement already satisfied: spacy<3.7.0,>=3.6.0 in /usr/local/lib/python3.10/dist-packages (from en-core-web-sm==3.6.0) (3.6.1)\n",
            "Requirement already satisfied: spacy-legacy<3.1.0,>=3.0.11 in /usr/local/lib/python3.10/dist-packages (from spacy<3.7.0,>=3.6.0->en-core-web-sm==3.6.0) (3.0.12)\n",
            "Requirement already satisfied: spacy-loggers<2.0.0,>=1.0.0 in /usr/local/lib/python3.10/dist-packages (from spacy<3.7.0,>=3.6.0->en-core-web-sm==3.6.0) (1.0.4)\n",
            "Requirement already satisfied: murmurhash<1.1.0,>=0.28.0 in /usr/local/lib/python3.10/dist-packages (from spacy<3.7.0,>=3.6.0->en-core-web-sm==3.6.0) (1.0.9)\n",
            "Requirement already satisfied: cymem<2.1.0,>=2.0.2 in /usr/local/lib/python3.10/dist-packages (from spacy<3.7.0,>=3.6.0->en-core-web-sm==3.6.0) (2.0.7)\n",
            "Requirement already satisfied: preshed<3.1.0,>=3.0.2 in /usr/local/lib/python3.10/dist-packages (from spacy<3.7.0,>=3.6.0->en-core-web-sm==3.6.0) (3.0.8)\n",
            "Requirement already satisfied: thinc<8.2.0,>=8.1.8 in /usr/local/lib/python3.10/dist-packages (from spacy<3.7.0,>=3.6.0->en-core-web-sm==3.6.0) (8.1.12)\n",
            "Requirement already satisfied: wasabi<1.2.0,>=0.9.1 in /usr/local/lib/python3.10/dist-packages (from spacy<3.7.0,>=3.6.0->en-core-web-sm==3.6.0) (1.1.2)\n",
            "Requirement already satisfied: srsly<3.0.0,>=2.4.3 in /usr/local/lib/python3.10/dist-packages (from spacy<3.7.0,>=3.6.0->en-core-web-sm==3.6.0) (2.4.7)\n",
            "Requirement already satisfied: catalogue<2.1.0,>=2.0.6 in /usr/local/lib/python3.10/dist-packages (from spacy<3.7.0,>=3.6.0->en-core-web-sm==3.6.0) (2.0.9)\n",
            "Requirement already satisfied: typer<0.10.0,>=0.3.0 in /usr/local/lib/python3.10/dist-packages (from spacy<3.7.0,>=3.6.0->en-core-web-sm==3.6.0) (0.9.0)\n",
            "Requirement already satisfied: pathy>=0.10.0 in /usr/local/lib/python3.10/dist-packages (from spacy<3.7.0,>=3.6.0->en-core-web-sm==3.6.0) (0.10.2)\n",
            "Requirement already satisfied: smart-open<7.0.0,>=5.2.1 in /usr/local/lib/python3.10/dist-packages (from spacy<3.7.0,>=3.6.0->en-core-web-sm==3.6.0) (6.3.0)\n",
            "Requirement already satisfied: tqdm<5.0.0,>=4.38.0 in /usr/local/lib/python3.10/dist-packages (from spacy<3.7.0,>=3.6.0->en-core-web-sm==3.6.0) (4.66.1)\n",
            "Requirement already satisfied: numpy>=1.15.0 in /usr/local/lib/python3.10/dist-packages (from spacy<3.7.0,>=3.6.0->en-core-web-sm==3.6.0) (1.23.5)\n",
            "Requirement already satisfied: requests<3.0.0,>=2.13.0 in /usr/local/lib/python3.10/dist-packages (from spacy<3.7.0,>=3.6.0->en-core-web-sm==3.6.0) (2.31.0)\n",
            "Requirement already satisfied: pydantic!=1.8,!=1.8.1,<3.0.0,>=1.7.4 in /usr/local/lib/python3.10/dist-packages (from spacy<3.7.0,>=3.6.0->en-core-web-sm==3.6.0) (2.2.1)\n",
            "Requirement already satisfied: jinja2 in /usr/local/lib/python3.10/dist-packages (from spacy<3.7.0,>=3.6.0->en-core-web-sm==3.6.0) (3.1.2)\n",
            "Requirement already satisfied: setuptools in /usr/local/lib/python3.10/dist-packages (from spacy<3.7.0,>=3.6.0->en-core-web-sm==3.6.0) (67.7.2)\n",
            "Requirement already satisfied: packaging>=20.0 in /usr/local/lib/python3.10/dist-packages (from spacy<3.7.0,>=3.6.0->en-core-web-sm==3.6.0) (23.1)\n",
            "Requirement already satisfied: langcodes<4.0.0,>=3.2.0 in /usr/local/lib/python3.10/dist-packages (from spacy<3.7.0,>=3.6.0->en-core-web-sm==3.6.0) (3.3.0)\n",
            "Requirement already satisfied: annotated-types>=0.4.0 in /usr/local/lib/python3.10/dist-packages (from pydantic!=1.8,!=1.8.1,<3.0.0,>=1.7.4->spacy<3.7.0,>=3.6.0->en-core-web-sm==3.6.0) (0.5.0)\n",
            "Requirement already satisfied: pydantic-core==2.6.1 in /usr/local/lib/python3.10/dist-packages (from pydantic!=1.8,!=1.8.1,<3.0.0,>=1.7.4->spacy<3.7.0,>=3.6.0->en-core-web-sm==3.6.0) (2.6.1)\n",
            "Requirement already satisfied: typing-extensions>=4.6.1 in /usr/local/lib/python3.10/dist-packages (from pydantic!=1.8,!=1.8.1,<3.0.0,>=1.7.4->spacy<3.7.0,>=3.6.0->en-core-web-sm==3.6.0) (4.7.1)\n",
            "Requirement already satisfied: charset-normalizer<4,>=2 in /usr/local/lib/python3.10/dist-packages (from requests<3.0.0,>=2.13.0->spacy<3.7.0,>=3.6.0->en-core-web-sm==3.6.0) (3.2.0)\n",
            "Requirement already satisfied: idna<4,>=2.5 in /usr/local/lib/python3.10/dist-packages (from requests<3.0.0,>=2.13.0->spacy<3.7.0,>=3.6.0->en-core-web-sm==3.6.0) (3.4)\n",
            "Requirement already satisfied: urllib3<3,>=1.21.1 in /usr/local/lib/python3.10/dist-packages (from requests<3.0.0,>=2.13.0->spacy<3.7.0,>=3.6.0->en-core-web-sm==3.6.0) (2.0.4)\n",
            "Requirement already satisfied: certifi>=2017.4.17 in /usr/local/lib/python3.10/dist-packages (from requests<3.0.0,>=2.13.0->spacy<3.7.0,>=3.6.0->en-core-web-sm==3.6.0) (2023.7.22)\n",
            "Requirement already satisfied: blis<0.8.0,>=0.7.8 in /usr/local/lib/python3.10/dist-packages (from thinc<8.2.0,>=8.1.8->spacy<3.7.0,>=3.6.0->en-core-web-sm==3.6.0) (0.7.10)\n",
            "Requirement already satisfied: confection<1.0.0,>=0.0.1 in /usr/local/lib/python3.10/dist-packages (from thinc<8.2.0,>=8.1.8->spacy<3.7.0,>=3.6.0->en-core-web-sm==3.6.0) (0.1.1)\n",
            "Requirement already satisfied: click<9.0.0,>=7.1.1 in /usr/local/lib/python3.10/dist-packages (from typer<0.10.0,>=0.3.0->spacy<3.7.0,>=3.6.0->en-core-web-sm==3.6.0) (8.1.7)\n",
            "Requirement already satisfied: MarkupSafe>=2.0 in /usr/local/lib/python3.10/dist-packages (from jinja2->spacy<3.7.0,>=3.6.0->en-core-web-sm==3.6.0) (2.1.3)\n",
            "\u001b[38;5;2m✔ Download and installation successful\u001b[0m\n",
            "You can now load the package via spacy.load('en_core_web_sm')\n",
            "Requirement already satisfied: gensim in /usr/local/lib/python3.10/dist-packages (4.3.1)\n",
            "Requirement already satisfied: numpy>=1.18.5 in /usr/local/lib/python3.10/dist-packages (from gensim) (1.23.5)\n",
            "Requirement already satisfied: scipy>=1.7.0 in /usr/local/lib/python3.10/dist-packages (from gensim) (1.10.1)\n",
            "Requirement already satisfied: smart-open>=1.8.1 in /usr/local/lib/python3.10/dist-packages (from gensim) (6.3.0)\n",
            "Requirement already satisfied: matplotlib in /usr/local/lib/python3.10/dist-packages (3.7.1)\n",
            "Requirement already satisfied: contourpy>=1.0.1 in /usr/local/lib/python3.10/dist-packages (from matplotlib) (1.1.0)\n",
            "Requirement already satisfied: cycler>=0.10 in /usr/local/lib/python3.10/dist-packages (from matplotlib) (0.11.0)\n",
            "Requirement already satisfied: fonttools>=4.22.0 in /usr/local/lib/python3.10/dist-packages (from matplotlib) (4.42.1)\n",
            "Requirement already satisfied: kiwisolver>=1.0.1 in /usr/local/lib/python3.10/dist-packages (from matplotlib) (1.4.4)\n",
            "Requirement already satisfied: numpy>=1.20 in /usr/local/lib/python3.10/dist-packages (from matplotlib) (1.23.5)\n",
            "Requirement already satisfied: packaging>=20.0 in /usr/local/lib/python3.10/dist-packages (from matplotlib) (23.1)\n",
            "Requirement already satisfied: pillow>=6.2.0 in /usr/local/lib/python3.10/dist-packages (from matplotlib) (9.4.0)\n",
            "Requirement already satisfied: pyparsing>=2.3.1 in /usr/local/lib/python3.10/dist-packages (from matplotlib) (3.1.1)\n",
            "Requirement already satisfied: python-dateutil>=2.7 in /usr/local/lib/python3.10/dist-packages (from matplotlib) (2.8.2)\n",
            "Requirement already satisfied: six>=1.5 in /usr/local/lib/python3.10/dist-packages (from python-dateutil>=2.7->matplotlib) (1.16.0)\n",
            "Collecting pyLDAvis\n",
            "  Downloading pyLDAvis-3.4.1-py3-none-any.whl (2.6 MB)\n",
            "\u001b[2K     \u001b[90m━━━━━━━━━━━━━━━━━━━━━━━━━━━━━━━━━━━━━━━━\u001b[0m \u001b[32m2.6/2.6 MB\u001b[0m \u001b[31m17.9 MB/s\u001b[0m eta \u001b[36m0:00:00\u001b[0m\n",
            "\u001b[?25hCollecting numpy>=1.24.2 (from pyLDAvis)\n",
            "  Downloading numpy-1.25.2-cp310-cp310-manylinux_2_17_x86_64.manylinux2014_x86_64.whl (18.2 MB)\n",
            "\u001b[2K     \u001b[90m━━━━━━━━━━━━━━━━━━━━━━━━━━━━━━━━━━━━━━━━\u001b[0m \u001b[32m18.2/18.2 MB\u001b[0m \u001b[31m22.5 MB/s\u001b[0m eta \u001b[36m0:00:00\u001b[0m\n",
            "\u001b[?25hRequirement already satisfied: scipy in /usr/local/lib/python3.10/dist-packages (from pyLDAvis) (1.10.1)\n",
            "Collecting pandas>=2.0.0 (from pyLDAvis)\n",
            "  Downloading pandas-2.1.0-cp310-cp310-manylinux_2_17_x86_64.manylinux2014_x86_64.whl (12.7 MB)\n",
            "\u001b[2K     \u001b[90m━━━━━━━━━━━━━━━━━━━━━━━━━━━━━━━━━━━━━━━━\u001b[0m \u001b[32m12.7/12.7 MB\u001b[0m \u001b[31m57.5 MB/s\u001b[0m eta \u001b[36m0:00:00\u001b[0m\n",
            "\u001b[?25hRequirement already satisfied: joblib>=1.2.0 in /usr/local/lib/python3.10/dist-packages (from pyLDAvis) (1.3.2)\n",
            "Requirement already satisfied: jinja2 in /usr/local/lib/python3.10/dist-packages (from pyLDAvis) (3.1.2)\n",
            "Requirement already satisfied: numexpr in /usr/local/lib/python3.10/dist-packages (from pyLDAvis) (2.8.5)\n",
            "Collecting funcy (from pyLDAvis)\n",
            "  Downloading funcy-2.0-py2.py3-none-any.whl (30 kB)\n",
            "Requirement already satisfied: scikit-learn>=1.0.0 in /usr/local/lib/python3.10/dist-packages (from pyLDAvis) (1.2.2)\n",
            "Requirement already satisfied: gensim in /usr/local/lib/python3.10/dist-packages (from pyLDAvis) (4.3.1)\n",
            "Requirement already satisfied: setuptools in /usr/local/lib/python3.10/dist-packages (from pyLDAvis) (67.7.2)\n",
            "Requirement already satisfied: python-dateutil>=2.8.2 in /usr/local/lib/python3.10/dist-packages (from pandas>=2.0.0->pyLDAvis) (2.8.2)\n",
            "Requirement already satisfied: pytz>=2020.1 in /usr/local/lib/python3.10/dist-packages (from pandas>=2.0.0->pyLDAvis) (2023.3)\n",
            "Collecting tzdata>=2022.1 (from pandas>=2.0.0->pyLDAvis)\n",
            "  Downloading tzdata-2023.3-py2.py3-none-any.whl (341 kB)\n",
            "\u001b[2K     \u001b[90m━━━━━━━━━━━━━━━━━━━━━━━━━━━━━━━━━━━━━━\u001b[0m \u001b[32m341.8/341.8 kB\u001b[0m \u001b[31m33.3 MB/s\u001b[0m eta \u001b[36m0:00:00\u001b[0m\n",
            "\u001b[?25hRequirement already satisfied: threadpoolctl>=2.0.0 in /usr/local/lib/python3.10/dist-packages (from scikit-learn>=1.0.0->pyLDAvis) (3.2.0)\n",
            "Requirement already satisfied: smart-open>=1.8.1 in /usr/local/lib/python3.10/dist-packages (from gensim->pyLDAvis) (6.3.0)\n",
            "Requirement already satisfied: MarkupSafe>=2.0 in /usr/local/lib/python3.10/dist-packages (from jinja2->pyLDAvis) (2.1.3)\n",
            "Requirement already satisfied: six>=1.5 in /usr/local/lib/python3.10/dist-packages (from python-dateutil>=2.8.2->pandas>=2.0.0->pyLDAvis) (1.16.0)\n",
            "Installing collected packages: funcy, tzdata, numpy, pandas, pyLDAvis\n",
            "  Attempting uninstall: numpy\n",
            "    Found existing installation: numpy 1.23.5\n",
            "    Uninstalling numpy-1.23.5:\n",
            "      Successfully uninstalled numpy-1.23.5\n",
            "  Attempting uninstall: pandas\n",
            "    Found existing installation: pandas 1.5.3\n",
            "    Uninstalling pandas-1.5.3:\n",
            "      Successfully uninstalled pandas-1.5.3\n",
            "\u001b[31mERROR: pip's dependency resolver does not currently take into account all the packages that are installed. This behaviour is the source of the following dependency conflicts.\n",
            "google-colab 1.0.0 requires pandas==1.5.3, but you have pandas 2.1.0 which is incompatible.\n",
            "numba 0.56.4 requires numpy<1.24,>=1.18, but you have numpy 1.25.2 which is incompatible.\n",
            "tensorflow 2.12.0 requires numpy<1.24,>=1.22, but you have numpy 1.25.2 which is incompatible.\u001b[0m\u001b[31m\n",
            "\u001b[0mSuccessfully installed funcy-2.0 numpy-1.25.2 pandas-2.1.0 pyLDAvis-3.4.1 tzdata-2023.3\n"
          ]
        },
        {
          "output_type": "display_data",
          "data": {
            "application/vnd.colab-display-data+json": {
              "pip_warning": {
                "packages": [
                  "numpy"
                ]
              }
            }
          },
          "metadata": {}
        },
        {
          "output_type": "stream",
          "name": "stdout",
          "text": [
            "Requirement already satisfied: nltk in /usr/local/lib/python3.10/dist-packages (3.8.1)\n",
            "Requirement already satisfied: click in /usr/local/lib/python3.10/dist-packages (from nltk) (8.1.7)\n",
            "Requirement already satisfied: joblib in /usr/local/lib/python3.10/dist-packages (from nltk) (1.3.2)\n",
            "Requirement already satisfied: regex>=2021.8.3 in /usr/local/lib/python3.10/dist-packages (from nltk) (2023.6.3)\n",
            "Requirement already satisfied: tqdm in /usr/local/lib/python3.10/dist-packages (from nltk) (4.66.1)\n"
          ]
        }
      ],
      "source": [
        "!pip install pandas\n",
        "!pip install spacy\n",
        "!python -m spacy download en_core_web_sm\n",
        "!pip install gensim\n",
        "!pip install matplotlib\n",
        "!pip install pyLDAvis\n",
        "!pip install nltk"
      ]
    },
    {
      "cell_type": "code",
      "source": [
        "import pandas as pd\n",
        "import string\n",
        "import spacy\n",
        "import gensim\n",
        "from gensim.models.phrases import Phrases, Phraser\n",
        "from gensim import corpora\n",
        "from gensim.models import CoherenceModel\n",
        "import pyLDAvis\n",
        "import pyLDAvis.gensim_models as gensimvis\n",
        "from spacy.lang.en.stop_words import STOP_WORDS\n",
        "import seaborn as sns\n",
        "import matplotlib.pyplot as plt\n",
        "from dateutil import parser\n",
        "import nltk\n",
        "from nltk.sentiment.vader import SentimentIntensityAnalyzer"
      ],
      "metadata": {
        "id": "6euoiXjj6oHR"
      },
      "execution_count": 3,
      "outputs": []
    },
    {
      "cell_type": "code",
      "source": [
        "from google.colab import files\n",
        "uploaded = files.upload()"
      ],
      "metadata": {
        "colab": {
          "base_uri": "https://localhost:8080/",
          "height": 127
        },
        "id": "ODC4BNfM6s3y",
        "outputId": "48c68d93-c7d7-411d-c94f-bedda5d0ba12"
      },
      "execution_count": 4,
      "outputs": [
        {
          "output_type": "stream",
          "name": "stderr",
          "text": [
            "/usr/local/lib/python3.10/dist-packages/ipykernel/ipkernel.py:283: DeprecationWarning: `should_run_async` will not call `transform_cell` automatically in the future. Please pass the result to `transformed_cell` argument and any exception that happen during thetransform in `preprocessing_exc_tuple` in IPython 7.17 and above.\n",
            "  and should_run_async(code)\n"
          ]
        },
        {
          "output_type": "display_data",
          "data": {
            "text/plain": [
              "<IPython.core.display.HTML object>"
            ],
            "text/html": [
              "\n",
              "     <input type=\"file\" id=\"files-77574161-dd65-4f48-9323-a945a065a051\" name=\"files[]\" multiple disabled\n",
              "        style=\"border:none\" />\n",
              "     <output id=\"result-77574161-dd65-4f48-9323-a945a065a051\">\n",
              "      Upload widget is only available when the cell has been executed in the\n",
              "      current browser session. Please rerun this cell to enable.\n",
              "      </output>\n",
              "      <script>// Copyright 2017 Google LLC\n",
              "//\n",
              "// Licensed under the Apache License, Version 2.0 (the \"License\");\n",
              "// you may not use this file except in compliance with the License.\n",
              "// You may obtain a copy of the License at\n",
              "//\n",
              "//      http://www.apache.org/licenses/LICENSE-2.0\n",
              "//\n",
              "// Unless required by applicable law or agreed to in writing, software\n",
              "// distributed under the License is distributed on an \"AS IS\" BASIS,\n",
              "// WITHOUT WARRANTIES OR CONDITIONS OF ANY KIND, either express or implied.\n",
              "// See the License for the specific language governing permissions and\n",
              "// limitations under the License.\n",
              "\n",
              "/**\n",
              " * @fileoverview Helpers for google.colab Python module.\n",
              " */\n",
              "(function(scope) {\n",
              "function span(text, styleAttributes = {}) {\n",
              "  const element = document.createElement('span');\n",
              "  element.textContent = text;\n",
              "  for (const key of Object.keys(styleAttributes)) {\n",
              "    element.style[key] = styleAttributes[key];\n",
              "  }\n",
              "  return element;\n",
              "}\n",
              "\n",
              "// Max number of bytes which will be uploaded at a time.\n",
              "const MAX_PAYLOAD_SIZE = 100 * 1024;\n",
              "\n",
              "function _uploadFiles(inputId, outputId) {\n",
              "  const steps = uploadFilesStep(inputId, outputId);\n",
              "  const outputElement = document.getElementById(outputId);\n",
              "  // Cache steps on the outputElement to make it available for the next call\n",
              "  // to uploadFilesContinue from Python.\n",
              "  outputElement.steps = steps;\n",
              "\n",
              "  return _uploadFilesContinue(outputId);\n",
              "}\n",
              "\n",
              "// This is roughly an async generator (not supported in the browser yet),\n",
              "// where there are multiple asynchronous steps and the Python side is going\n",
              "// to poll for completion of each step.\n",
              "// This uses a Promise to block the python side on completion of each step,\n",
              "// then passes the result of the previous step as the input to the next step.\n",
              "function _uploadFilesContinue(outputId) {\n",
              "  const outputElement = document.getElementById(outputId);\n",
              "  const steps = outputElement.steps;\n",
              "\n",
              "  const next = steps.next(outputElement.lastPromiseValue);\n",
              "  return Promise.resolve(next.value.promise).then((value) => {\n",
              "    // Cache the last promise value to make it available to the next\n",
              "    // step of the generator.\n",
              "    outputElement.lastPromiseValue = value;\n",
              "    return next.value.response;\n",
              "  });\n",
              "}\n",
              "\n",
              "/**\n",
              " * Generator function which is called between each async step of the upload\n",
              " * process.\n",
              " * @param {string} inputId Element ID of the input file picker element.\n",
              " * @param {string} outputId Element ID of the output display.\n",
              " * @return {!Iterable<!Object>} Iterable of next steps.\n",
              " */\n",
              "function* uploadFilesStep(inputId, outputId) {\n",
              "  const inputElement = document.getElementById(inputId);\n",
              "  inputElement.disabled = false;\n",
              "\n",
              "  const outputElement = document.getElementById(outputId);\n",
              "  outputElement.innerHTML = '';\n",
              "\n",
              "  const pickedPromise = new Promise((resolve) => {\n",
              "    inputElement.addEventListener('change', (e) => {\n",
              "      resolve(e.target.files);\n",
              "    });\n",
              "  });\n",
              "\n",
              "  const cancel = document.createElement('button');\n",
              "  inputElement.parentElement.appendChild(cancel);\n",
              "  cancel.textContent = 'Cancel upload';\n",
              "  const cancelPromise = new Promise((resolve) => {\n",
              "    cancel.onclick = () => {\n",
              "      resolve(null);\n",
              "    };\n",
              "  });\n",
              "\n",
              "  // Wait for the user to pick the files.\n",
              "  const files = yield {\n",
              "    promise: Promise.race([pickedPromise, cancelPromise]),\n",
              "    response: {\n",
              "      action: 'starting',\n",
              "    }\n",
              "  };\n",
              "\n",
              "  cancel.remove();\n",
              "\n",
              "  // Disable the input element since further picks are not allowed.\n",
              "  inputElement.disabled = true;\n",
              "\n",
              "  if (!files) {\n",
              "    return {\n",
              "      response: {\n",
              "        action: 'complete',\n",
              "      }\n",
              "    };\n",
              "  }\n",
              "\n",
              "  for (const file of files) {\n",
              "    const li = document.createElement('li');\n",
              "    li.append(span(file.name, {fontWeight: 'bold'}));\n",
              "    li.append(span(\n",
              "        `(${file.type || 'n/a'}) - ${file.size} bytes, ` +\n",
              "        `last modified: ${\n",
              "            file.lastModifiedDate ? file.lastModifiedDate.toLocaleDateString() :\n",
              "                                    'n/a'} - `));\n",
              "    const percent = span('0% done');\n",
              "    li.appendChild(percent);\n",
              "\n",
              "    outputElement.appendChild(li);\n",
              "\n",
              "    const fileDataPromise = new Promise((resolve) => {\n",
              "      const reader = new FileReader();\n",
              "      reader.onload = (e) => {\n",
              "        resolve(e.target.result);\n",
              "      };\n",
              "      reader.readAsArrayBuffer(file);\n",
              "    });\n",
              "    // Wait for the data to be ready.\n",
              "    let fileData = yield {\n",
              "      promise: fileDataPromise,\n",
              "      response: {\n",
              "        action: 'continue',\n",
              "      }\n",
              "    };\n",
              "\n",
              "    // Use a chunked sending to avoid message size limits. See b/62115660.\n",
              "    let position = 0;\n",
              "    do {\n",
              "      const length = Math.min(fileData.byteLength - position, MAX_PAYLOAD_SIZE);\n",
              "      const chunk = new Uint8Array(fileData, position, length);\n",
              "      position += length;\n",
              "\n",
              "      const base64 = btoa(String.fromCharCode.apply(null, chunk));\n",
              "      yield {\n",
              "        response: {\n",
              "          action: 'append',\n",
              "          file: file.name,\n",
              "          data: base64,\n",
              "        },\n",
              "      };\n",
              "\n",
              "      let percentDone = fileData.byteLength === 0 ?\n",
              "          100 :\n",
              "          Math.round((position / fileData.byteLength) * 100);\n",
              "      percent.textContent = `${percentDone}% done`;\n",
              "\n",
              "    } while (position < fileData.byteLength);\n",
              "  }\n",
              "\n",
              "  // All done.\n",
              "  yield {\n",
              "    response: {\n",
              "      action: 'complete',\n",
              "    }\n",
              "  };\n",
              "}\n",
              "\n",
              "scope.google = scope.google || {};\n",
              "scope.google.colab = scope.google.colab || {};\n",
              "scope.google.colab._files = {\n",
              "  _uploadFiles,\n",
              "  _uploadFilesContinue,\n",
              "};\n",
              "})(self);\n",
              "</script> "
            ]
          },
          "metadata": {}
        },
        {
          "output_type": "stream",
          "name": "stdout",
          "text": [
            "Saving merged.csv to merged (1).csv\n"
          ]
        }
      ]
    },
    {
      "cell_type": "code",
      "source": [
        "# Load the CSV file into a DataFrame\n",
        "df = pd.read_csv('merged.csv')"
      ],
      "metadata": {
        "colab": {
          "base_uri": "https://localhost:8080/"
        },
        "id": "VIMPoBAJ6vx7",
        "outputId": "9b4fb0f7-2fd7-4f6c-c07b-a43f76014546"
      },
      "execution_count": 5,
      "outputs": [
        {
          "output_type": "stream",
          "name": "stderr",
          "text": [
            "/usr/local/lib/python3.10/dist-packages/ipykernel/ipkernel.py:283: DeprecationWarning: `should_run_async` will not call `transform_cell` automatically in the future. Please pass the result to `transformed_cell` argument and any exception that happen during thetransform in `preprocessing_exc_tuple` in IPython 7.17 and above.\n",
            "  and should_run_async(code)\n"
          ]
        }
      ]
    },
    {
      "cell_type": "code",
      "source": [
        "# NLP Pre-processing\n",
        "nlp = spacy.load(\"en_core_web_sm\", disable=[\"parser\", \"ner\"])"
      ],
      "metadata": {
        "colab": {
          "base_uri": "https://localhost:8080/"
        },
        "id": "kp1m-JEQ61XA",
        "outputId": "f45ee9ab-67df-4ba6-c2b7-06e67a16e08f"
      },
      "execution_count": 6,
      "outputs": [
        {
          "output_type": "stream",
          "name": "stderr",
          "text": [
            "/usr/local/lib/python3.10/dist-packages/ipykernel/ipkernel.py:283: DeprecationWarning: `should_run_async` will not call `transform_cell` automatically in the future. Please pass the result to `transformed_cell` argument and any exception that happen during thetransform in `preprocessing_exc_tuple` in IPython 7.17 and above.\n",
            "  and should_run_async(code)\n"
          ]
        }
      ]
    },
    {
      "cell_type": "code",
      "source": [
        "# Tokenization, noise removal, and text cleaning processes\n",
        "def clean_text(text):\n",
        "    doc = nlp(text)\n",
        "    cleaned_tokens = [token.lemma_ for token in doc if not token.is_stop and token.is_alpha and len(token) > 2]\n",
        "    return cleaned_tokens\n",
        "\n",
        "cleaned_comments = [clean_text(comment) for comment in df['Comment']]"
      ],
      "metadata": {
        "colab": {
          "base_uri": "https://localhost:8080/"
        },
        "id": "ieNrgcAJ7KkQ",
        "outputId": "57776c37-78a7-4155-8ba7-e0d8bd67492b"
      },
      "execution_count": 7,
      "outputs": [
        {
          "output_type": "stream",
          "name": "stderr",
          "text": [
            "/usr/local/lib/python3.10/dist-packages/ipykernel/ipkernel.py:283: DeprecationWarning: `should_run_async` will not call `transform_cell` automatically in the future. Please pass the result to `transformed_cell` argument and any exception that happen during thetransform in `preprocessing_exc_tuple` in IPython 7.17 and above.\n",
            "  and should_run_async(code)\n"
          ]
        }
      ]
    },
    {
      "cell_type": "code",
      "source": [
        "# Add custom stopwords\n",
        "custom_stopwords = {\"abarth\", \"ev\", \"electric\", \"car\", \"500\", \"500e\", \"Abarth\", \"point\", \"version\", \"Mini\", \"Cooper\", \"fact\", \"think\", \"hot_hatch\", \"people\", \"Gen\", \"BrownEaredDog\", \"tax\", \"high\", \"EVs\", \"Julian_Scott\", \"base\", \"figure\", \"trip\", \"mean\", \"near\", \"far\", \"live\", \"etc\", \"sell\", \"company\", \"gen_mini\", \"Fiat\", \"know\", \"month\", \"pay\", \"surely\", \"cooper\",\n",
        "                    \"Tesla\", \"hot hatch\", \"Julian Scott\", \"Honda\", \"otolith\", \"Iceblue\", \"kind\", \"majority\", \"discount\", \"stbox\", \"answer\", \"gen mini\", \"bodhi\", \"couple\", \"Yaris\", \"knock\", \"week\", \"presumably\", \"kid\", \"decade\", \"bet\", \"white\", \"actual\", \"Picanto\", \"instead\", \"Tuesday\", \"ice\", \"wife\", \"JCW\", \"biggbn\", \"article\", \"half\", \"aware\", \"day\", \"way\", \"thing\"\n",
        "                    \"standard\", \"lot\", \"mountain\", \"imagine\", \"combustion\", \"winding\", \"humdrum\", \"mate\", \"spa\", \"Julian_Scott\", \"hot_hatch\", \"std\", \"house\", \"word\", \"RWD\", \"believe\", \"vvt\", \"Europe\", \"non\", \"age\", \"single\", \"involve\", \"Minis\", \"Polos\", \"worry\", \"young\", \"ntiz\", \"skiing\", \"surfing\", \"freedom\", \"gig\", \"partying\", \"Ferrari\", \"century\", \"rent\", \"read\"\n",
        "                    \"JerryF\", \"geemy\", \"fiat\", \"come\", \"understand\", \"believe\", \"extra\", \"outside\", \"end\", \"Model\", \"house\", \"planet\", \"necessarily\", \"especially\", \"Julian_Scott\", \"Julian Scott\", \"thank\", \"WLTP\", \"differ\", \"reckon\", \"brum\", \"easily\", \"hour\", \"RWD\", \"world\", \"stick\", \"brmm\", \"mention\", \"add\", \"winter\", \"plenty\", \"Ireland\", \"wonder\"}\n",
        "all_stopwords = STOP_WORDS.union(custom_stopwords)"
      ],
      "metadata": {
        "colab": {
          "base_uri": "https://localhost:8080/"
        },
        "id": "DTSQ7bNf7awJ",
        "outputId": "8e2d5231-07b9-4800-d3b1-025d457b674e"
      },
      "execution_count": 8,
      "outputs": [
        {
          "output_type": "stream",
          "name": "stderr",
          "text": [
            "/usr/local/lib/python3.10/dist-packages/ipykernel/ipkernel.py:283: DeprecationWarning: `should_run_async` will not call `transform_cell` automatically in the future. Please pass the result to `transformed_cell` argument and any exception that happen during thetransform in `preprocessing_exc_tuple` in IPython 7.17 and above.\n",
            "  and should_run_async(code)\n"
          ]
        }
      ]
    },
    {
      "cell_type": "code",
      "source": [
        "# Remove stopwords from the cleaned tokens\n",
        "cleaned_comments = [[token for token in tokens if token not in all_stopwords] for tokens in cleaned_comments]"
      ],
      "metadata": {
        "colab": {
          "base_uri": "https://localhost:8080/"
        },
        "id": "MGFHb6ee7gLb",
        "outputId": "c5151f6e-e087-474f-9c3c-0083a3bf3e29"
      },
      "execution_count": 9,
      "outputs": [
        {
          "output_type": "stream",
          "name": "stderr",
          "text": [
            "/usr/local/lib/python3.10/dist-packages/ipykernel/ipkernel.py:283: DeprecationWarning: `should_run_async` will not call `transform_cell` automatically in the future. Please pass the result to `transformed_cell` argument and any exception that happen during thetransform in `preprocessing_exc_tuple` in IPython 7.17 and above.\n",
            "  and should_run_async(code)\n"
          ]
        }
      ]
    },
    {
      "cell_type": "code",
      "source": [
        "# Creating bigram models and applying to comments\n",
        "bigram = Phrases(cleaned_comments, min_count=5, threshold=10)\n",
        "bigram_mod = Phraser(bigram)\n",
        "comments_bigrams = [bigram_mod[comment] for comment in cleaned_comments]"
      ],
      "metadata": {
        "colab": {
          "base_uri": "https://localhost:8080/"
        },
        "id": "_4JgKZjT7lh3",
        "outputId": "14a7bb66-3b00-4743-ea27-05dbb0e236b7"
      },
      "execution_count": 10,
      "outputs": [
        {
          "output_type": "stream",
          "name": "stderr",
          "text": [
            "/usr/local/lib/python3.10/dist-packages/ipykernel/ipkernel.py:283: DeprecationWarning: `should_run_async` will not call `transform_cell` automatically in the future. Please pass the result to `transformed_cell` argument and any exception that happen during thetransform in `preprocessing_exc_tuple` in IPython 7.17 and above.\n",
            "  and should_run_async(code)\n"
          ]
        }
      ]
    },
    {
      "cell_type": "code",
      "source": [
        "# Creating dictionary and corpus\n",
        "id2word = corpora.Dictionary(comments_bigrams)\n",
        "corpus = [id2word.doc2bow(text) for text in comments_bigrams]"
      ],
      "metadata": {
        "colab": {
          "base_uri": "https://localhost:8080/"
        },
        "id": "5xcY8hRK7rhh",
        "outputId": "40de908c-04ab-48f6-9b90-c17c63909515"
      },
      "execution_count": 11,
      "outputs": [
        {
          "output_type": "stream",
          "name": "stderr",
          "text": [
            "/usr/local/lib/python3.10/dist-packages/ipykernel/ipkernel.py:283: DeprecationWarning: `should_run_async` will not call `transform_cell` automatically in the future. Please pass the result to `transformed_cell` argument and any exception that happen during thetransform in `preprocessing_exc_tuple` in IPython 7.17 and above.\n",
            "  and should_run_async(code)\n"
          ]
        }
      ]
    },
    {
      "cell_type": "code",
      "source": [
        "# Creating the LDA Model\n",
        "num_topics = 3  # Experiment with different numbers\n",
        "lda_model = gensim.models.LdaModel(\n",
        "    corpus=corpus,\n",
        "    id2word=id2word,\n",
        "    num_topics=num_topics,\n",
        "    random_state=100,\n",
        "    update_every=1,\n",
        "    chunksize=100,\n",
        "    passes=10,\n",
        "    alpha='auto',\n",
        "    per_word_topics=True\n",
        ")"
      ],
      "metadata": {
        "colab": {
          "base_uri": "https://localhost:8080/"
        },
        "id": "8lzut23_7tEX",
        "outputId": "e44dacb1-2647-485b-e7c0-e32bfcd43752"
      },
      "execution_count": 12,
      "outputs": [
        {
          "output_type": "stream",
          "name": "stderr",
          "text": [
            "/usr/local/lib/python3.10/dist-packages/ipykernel/ipkernel.py:283: DeprecationWarning: `should_run_async` will not call `transform_cell` automatically in the future. Please pass the result to `transformed_cell` argument and any exception that happen during thetransform in `preprocessing_exc_tuple` in IPython 7.17 and above.\n",
            "  and should_run_async(code)\n"
          ]
        }
      ]
    },
    {
      "cell_type": "code",
      "source": [
        "# Print the topics and their top words\n",
        "topics = lda_model.show_topics(num_topics=num_topics, num_words=10, formatted=True)\n",
        "for topic_num, topic_words in topics:\n",
        "    print(f\"Topic {topic_num + 1}: {topic_words}\")"
      ],
      "metadata": {
        "colab": {
          "base_uri": "https://localhost:8080/"
        },
        "id": "kk_BO_oJ7w-Z",
        "outputId": "b2470956-e98a-423f-cf4f-899fabc4c008"
      },
      "execution_count": 13,
      "outputs": [
        {
          "output_type": "stream",
          "name": "stdout",
          "text": [
            "Topic 1: 0.010*\"range\" + 0.009*\"battery\" + 0.008*\"mile\" + 0.008*\"price\" + 0.007*\"charge\" + 0.007*\"manufacturer\" + 0.007*\"city\" + 0.006*\"look\" + 0.006*\"new\" + 0.006*\"need\"\n",
            "Topic 2: 0.029*\"like\" + 0.014*\"good\" + 0.014*\"buy\" + 0.013*\"hot_hatch\" + 0.012*\"drive\" + 0.012*\"city\" + 0.011*\"year\" + 0.010*\"want\" + 0.009*\"small\" + 0.009*\"thing\"\n",
            "Topic 3: 0.016*\"buy\" + 0.012*\"cost\" + 0.011*\"price\" + 0.011*\"like\" + 0.009*\"love\" + 0.009*\"range\" + 0.008*\"use\" + 0.007*\"look\" + 0.007*\"mile\" + 0.007*\"time\"\n"
          ]
        },
        {
          "output_type": "stream",
          "name": "stderr",
          "text": [
            "/usr/local/lib/python3.10/dist-packages/ipykernel/ipkernel.py:283: DeprecationWarning: `should_run_async` will not call `transform_cell` automatically in the future. Please pass the result to `transformed_cell` argument and any exception that happen during thetransform in `preprocessing_exc_tuple` in IPython 7.17 and above.\n",
            "  and should_run_async(code)\n"
          ]
        }
      ]
    },
    {
      "cell_type": "code",
      "source": [
        "# Calculate Coherence Score\n",
        "coherence_model_lda = CoherenceModel(model=lda_model, texts=cleaned_comments, dictionary=id2word, coherence='c_v')\n",
        "coherence_lda = coherence_model_lda.get_coherence()\n",
        "print(f\"Coherence Score: {coherence_lda}\")"
      ],
      "metadata": {
        "colab": {
          "base_uri": "https://localhost:8080/"
        },
        "id": "ZoYgviGV70MN",
        "outputId": "66ef4d87-3df6-4056-c463-010f63c27d83"
      },
      "execution_count": 14,
      "outputs": [
        {
          "output_type": "stream",
          "name": "stderr",
          "text": [
            "/usr/local/lib/python3.10/dist-packages/ipykernel/ipkernel.py:283: DeprecationWarning: `should_run_async` will not call `transform_cell` automatically in the future. Please pass the result to `transformed_cell` argument and any exception that happen during thetransform in `preprocessing_exc_tuple` in IPython 7.17 and above.\n",
            "  and should_run_async(code)\n",
            "/usr/local/lib/python3.10/dist-packages/gensim/topic_coherence/direct_confirmation_measure.py:204: RuntimeWarning: divide by zero encountered in scalar divide\n",
            "  m_lr_i = np.log(numerator / denominator)\n",
            "/usr/local/lib/python3.10/dist-packages/gensim/topic_coherence/indirect_confirmation_measure.py:323: RuntimeWarning: invalid value encountered in scalar divide\n",
            "  return cv1.T.dot(cv2)[0, 0] / (_magnitude(cv1) * _magnitude(cv2))\n"
          ]
        },
        {
          "output_type": "stream",
          "name": "stdout",
          "text": [
            "Coherence Score: nan\n"
          ]
        }
      ]
    },
    {
      "cell_type": "code",
      "source": [
        "# Visualizing the Coherence Scores\n",
        "coherence_scores = []\n",
        "for num_topics in range(1, 10):\n",
        "    lda_model = gensim.models.LdaModel(\n",
        "        corpus=corpus,\n",
        "        id2word=id2word,\n",
        "        num_topics=num_topics,\n",
        "        random_state=100,\n",
        "        update_every=1,\n",
        "        chunksize=100,\n",
        "        passes=10,\n",
        "        alpha='auto',\n",
        "        per_word_topics=True\n",
        "    )\n",
        "    coherence_model = CoherenceModel(model=lda_model, texts=cleaned_comments, dictionary=id2word, coherence='c_v')\n",
        "    coherence_scores.append(coherence_model.get_coherence())\n",
        "\n",
        "plt.figure(figsize=(10, 6))\n",
        "sns.lineplot(x=range(1, 10), y=coherence_scores)\n",
        "plt.xlabel(\"Number of Topics\")\n",
        "plt.ylabel(\"Coherence Score\")\n",
        "plt.title(\"Coherence Score vs. Number of Topics\")\n",
        "plt.show()"
      ],
      "metadata": {
        "colab": {
          "base_uri": "https://localhost:8080/",
          "height": 1000
        },
        "id": "JI-xzqen753h",
        "outputId": "26a58851-1487-4caf-c169-c75d3951a837"
      },
      "execution_count": 15,
      "outputs": [
        {
          "output_type": "stream",
          "name": "stderr",
          "text": [
            "/usr/local/lib/python3.10/dist-packages/ipykernel/ipkernel.py:283: DeprecationWarning: `should_run_async` will not call `transform_cell` automatically in the future. Please pass the result to `transformed_cell` argument and any exception that happen during thetransform in `preprocessing_exc_tuple` in IPython 7.17 and above.\n",
            "  and should_run_async(code)\n",
            "/usr/local/lib/python3.10/dist-packages/seaborn/_oldcore.py:1498: FutureWarning: is_categorical_dtype is deprecated and will be removed in a future version. Use isinstance(dtype, CategoricalDtype) instead\n",
            "  if pd.api.types.is_categorical_dtype(vector):\n",
            "/usr/local/lib/python3.10/dist-packages/seaborn/_oldcore.py:1119: FutureWarning: use_inf_as_na option is deprecated and will be removed in a future version. Convert inf values to NaN before operating instead.\n",
            "  with pd.option_context('mode.use_inf_as_na', True):\n"
          ]
        },
        {
          "output_type": "error",
          "ename": "KeyError",
          "evalue": "ignored",
          "traceback": [
            "\u001b[0;31m---------------------------------------------------------------------------\u001b[0m",
            "\u001b[0;31mKeyError\u001b[0m                                  Traceback (most recent call last)",
            "\u001b[0;32m/usr/local/lib/python3.10/dist-packages/pandas/core/indexes/base.py\u001b[0m in \u001b[0;36mget_loc\u001b[0;34m(self, key)\u001b[0m\n\u001b[1;32m   3789\u001b[0m         \u001b[0;32mtry\u001b[0m\u001b[0;34m:\u001b[0m\u001b[0;34m\u001b[0m\u001b[0;34m\u001b[0m\u001b[0m\n\u001b[0;32m-> 3790\u001b[0;31m             \u001b[0;32mreturn\u001b[0m \u001b[0mself\u001b[0m\u001b[0;34m.\u001b[0m\u001b[0m_engine\u001b[0m\u001b[0;34m.\u001b[0m\u001b[0mget_loc\u001b[0m\u001b[0;34m(\u001b[0m\u001b[0mcasted_key\u001b[0m\u001b[0;34m)\u001b[0m\u001b[0;34m\u001b[0m\u001b[0;34m\u001b[0m\u001b[0m\n\u001b[0m\u001b[1;32m   3791\u001b[0m         \u001b[0;32mexcept\u001b[0m \u001b[0mKeyError\u001b[0m \u001b[0;32mas\u001b[0m \u001b[0merr\u001b[0m\u001b[0;34m:\u001b[0m\u001b[0;34m\u001b[0m\u001b[0;34m\u001b[0m\u001b[0m\n",
            "\u001b[0;32mindex.pyx\u001b[0m in \u001b[0;36mpandas._libs.index.IndexEngine.get_loc\u001b[0;34m()\u001b[0m\n",
            "\u001b[0;32mindex.pyx\u001b[0m in \u001b[0;36mpandas._libs.index.IndexEngine.get_loc\u001b[0;34m()\u001b[0m\n",
            "\u001b[0;32mpandas/_libs/hashtable_class_helper.pxi\u001b[0m in \u001b[0;36mpandas._libs.hashtable.PyObjectHashTable.get_item\u001b[0;34m()\u001b[0m\n",
            "\u001b[0;32mpandas/_libs/hashtable_class_helper.pxi\u001b[0m in \u001b[0;36mpandas._libs.hashtable.PyObjectHashTable.get_item\u001b[0;34m()\u001b[0m\n",
            "\u001b[0;31mKeyError\u001b[0m: 'y'",
            "\nThe above exception was the direct cause of the following exception:\n",
            "\u001b[0;31mKeyError\u001b[0m                                  Traceback (most recent call last)",
            "\u001b[0;32m<ipython-input-15-e17713cc33db>\u001b[0m in \u001b[0;36m<cell line: 19>\u001b[0;34m()\u001b[0m\n\u001b[1;32m     17\u001b[0m \u001b[0;34m\u001b[0m\u001b[0m\n\u001b[1;32m     18\u001b[0m \u001b[0mplt\u001b[0m\u001b[0;34m.\u001b[0m\u001b[0mfigure\u001b[0m\u001b[0;34m(\u001b[0m\u001b[0mfigsize\u001b[0m\u001b[0;34m=\u001b[0m\u001b[0;34m(\u001b[0m\u001b[0;36m10\u001b[0m\u001b[0;34m,\u001b[0m \u001b[0;36m6\u001b[0m\u001b[0;34m)\u001b[0m\u001b[0;34m)\u001b[0m\u001b[0;34m\u001b[0m\u001b[0;34m\u001b[0m\u001b[0m\n\u001b[0;32m---> 19\u001b[0;31m \u001b[0msns\u001b[0m\u001b[0;34m.\u001b[0m\u001b[0mlineplot\u001b[0m\u001b[0;34m(\u001b[0m\u001b[0mx\u001b[0m\u001b[0;34m=\u001b[0m\u001b[0mrange\u001b[0m\u001b[0;34m(\u001b[0m\u001b[0;36m1\u001b[0m\u001b[0;34m,\u001b[0m \u001b[0;36m10\u001b[0m\u001b[0;34m)\u001b[0m\u001b[0;34m,\u001b[0m \u001b[0my\u001b[0m\u001b[0;34m=\u001b[0m\u001b[0mcoherence_scores\u001b[0m\u001b[0;34m)\u001b[0m\u001b[0;34m\u001b[0m\u001b[0;34m\u001b[0m\u001b[0m\n\u001b[0m\u001b[1;32m     20\u001b[0m \u001b[0mplt\u001b[0m\u001b[0;34m.\u001b[0m\u001b[0mxlabel\u001b[0m\u001b[0;34m(\u001b[0m\u001b[0;34m\"Number of Topics\"\u001b[0m\u001b[0;34m)\u001b[0m\u001b[0;34m\u001b[0m\u001b[0;34m\u001b[0m\u001b[0m\n\u001b[1;32m     21\u001b[0m \u001b[0mplt\u001b[0m\u001b[0;34m.\u001b[0m\u001b[0mylabel\u001b[0m\u001b[0;34m(\u001b[0m\u001b[0;34m\"Coherence Score\"\u001b[0m\u001b[0;34m)\u001b[0m\u001b[0;34m\u001b[0m\u001b[0;34m\u001b[0m\u001b[0m\n",
            "\u001b[0;32m/usr/local/lib/python3.10/dist-packages/seaborn/relational.py\u001b[0m in \u001b[0;36mlineplot\u001b[0;34m(data, x, y, hue, size, style, units, palette, hue_order, hue_norm, sizes, size_order, size_norm, dashes, markers, style_order, estimator, errorbar, n_boot, seed, orient, sort, err_style, err_kws, legend, ci, ax, **kwargs)\u001b[0m\n\u001b[1;32m    643\u001b[0m     \u001b[0mkwargs\u001b[0m\u001b[0;34m[\u001b[0m\u001b[0;34m\"color\"\u001b[0m\u001b[0;34m]\u001b[0m \u001b[0;34m=\u001b[0m \u001b[0m_default_color\u001b[0m\u001b[0;34m(\u001b[0m\u001b[0max\u001b[0m\u001b[0;34m.\u001b[0m\u001b[0mplot\u001b[0m\u001b[0;34m,\u001b[0m \u001b[0mhue\u001b[0m\u001b[0;34m,\u001b[0m \u001b[0mcolor\u001b[0m\u001b[0;34m,\u001b[0m \u001b[0mkwargs\u001b[0m\u001b[0;34m)\u001b[0m\u001b[0;34m\u001b[0m\u001b[0;34m\u001b[0m\u001b[0m\n\u001b[1;32m    644\u001b[0m \u001b[0;34m\u001b[0m\u001b[0m\n\u001b[0;32m--> 645\u001b[0;31m     \u001b[0mp\u001b[0m\u001b[0;34m.\u001b[0m\u001b[0mplot\u001b[0m\u001b[0;34m(\u001b[0m\u001b[0max\u001b[0m\u001b[0;34m,\u001b[0m \u001b[0mkwargs\u001b[0m\u001b[0;34m)\u001b[0m\u001b[0;34m\u001b[0m\u001b[0;34m\u001b[0m\u001b[0m\n\u001b[0m\u001b[1;32m    646\u001b[0m     \u001b[0;32mreturn\u001b[0m \u001b[0max\u001b[0m\u001b[0;34m\u001b[0m\u001b[0;34m\u001b[0m\u001b[0m\n\u001b[1;32m    647\u001b[0m \u001b[0;34m\u001b[0m\u001b[0m\n",
            "\u001b[0;32m/usr/local/lib/python3.10/dist-packages/seaborn/relational.py\u001b[0m in \u001b[0;36mplot\u001b[0;34m(self, ax, kws)\u001b[0m\n\u001b[1;32m    457\u001b[0m                     \u001b[0mlines\u001b[0m\u001b[0;34m.\u001b[0m\u001b[0mextend\u001b[0m\u001b[0;34m(\u001b[0m\u001b[0max\u001b[0m\u001b[0;34m.\u001b[0m\u001b[0mplot\u001b[0m\u001b[0;34m(\u001b[0m\u001b[0munit_data\u001b[0m\u001b[0;34m[\u001b[0m\u001b[0;34m\"x\"\u001b[0m\u001b[0;34m]\u001b[0m\u001b[0;34m,\u001b[0m \u001b[0munit_data\u001b[0m\u001b[0;34m[\u001b[0m\u001b[0;34m\"y\"\u001b[0m\u001b[0;34m]\u001b[0m\u001b[0;34m,\u001b[0m \u001b[0;34m**\u001b[0m\u001b[0mkws\u001b[0m\u001b[0;34m)\u001b[0m\u001b[0;34m)\u001b[0m\u001b[0;34m\u001b[0m\u001b[0;34m\u001b[0m\u001b[0m\n\u001b[1;32m    458\u001b[0m             \u001b[0;32melse\u001b[0m\u001b[0;34m:\u001b[0m\u001b[0;34m\u001b[0m\u001b[0;34m\u001b[0m\u001b[0m\n\u001b[0;32m--> 459\u001b[0;31m                 \u001b[0mlines\u001b[0m \u001b[0;34m=\u001b[0m \u001b[0max\u001b[0m\u001b[0;34m.\u001b[0m\u001b[0mplot\u001b[0m\u001b[0;34m(\u001b[0m\u001b[0msub_data\u001b[0m\u001b[0;34m[\u001b[0m\u001b[0;34m\"x\"\u001b[0m\u001b[0;34m]\u001b[0m\u001b[0;34m,\u001b[0m \u001b[0msub_data\u001b[0m\u001b[0;34m[\u001b[0m\u001b[0;34m\"y\"\u001b[0m\u001b[0;34m]\u001b[0m\u001b[0;34m,\u001b[0m \u001b[0;34m**\u001b[0m\u001b[0mkws\u001b[0m\u001b[0;34m)\u001b[0m\u001b[0;34m\u001b[0m\u001b[0;34m\u001b[0m\u001b[0m\n\u001b[0m\u001b[1;32m    460\u001b[0m \u001b[0;34m\u001b[0m\u001b[0m\n\u001b[1;32m    461\u001b[0m             \u001b[0;32mfor\u001b[0m \u001b[0mline\u001b[0m \u001b[0;32min\u001b[0m \u001b[0mlines\u001b[0m\u001b[0;34m:\u001b[0m\u001b[0;34m\u001b[0m\u001b[0;34m\u001b[0m\u001b[0m\n",
            "\u001b[0;32m/usr/local/lib/python3.10/dist-packages/pandas/core/frame.py\u001b[0m in \u001b[0;36m__getitem__\u001b[0;34m(self, key)\u001b[0m\n\u001b[1;32m   3894\u001b[0m             \u001b[0;32mif\u001b[0m \u001b[0mself\u001b[0m\u001b[0;34m.\u001b[0m\u001b[0mcolumns\u001b[0m\u001b[0;34m.\u001b[0m\u001b[0mnlevels\u001b[0m \u001b[0;34m>\u001b[0m \u001b[0;36m1\u001b[0m\u001b[0;34m:\u001b[0m\u001b[0;34m\u001b[0m\u001b[0;34m\u001b[0m\u001b[0m\n\u001b[1;32m   3895\u001b[0m                 \u001b[0;32mreturn\u001b[0m \u001b[0mself\u001b[0m\u001b[0;34m.\u001b[0m\u001b[0m_getitem_multilevel\u001b[0m\u001b[0;34m(\u001b[0m\u001b[0mkey\u001b[0m\u001b[0;34m)\u001b[0m\u001b[0;34m\u001b[0m\u001b[0;34m\u001b[0m\u001b[0m\n\u001b[0;32m-> 3896\u001b[0;31m             \u001b[0mindexer\u001b[0m \u001b[0;34m=\u001b[0m \u001b[0mself\u001b[0m\u001b[0;34m.\u001b[0m\u001b[0mcolumns\u001b[0m\u001b[0;34m.\u001b[0m\u001b[0mget_loc\u001b[0m\u001b[0;34m(\u001b[0m\u001b[0mkey\u001b[0m\u001b[0;34m)\u001b[0m\u001b[0;34m\u001b[0m\u001b[0;34m\u001b[0m\u001b[0m\n\u001b[0m\u001b[1;32m   3897\u001b[0m             \u001b[0;32mif\u001b[0m \u001b[0mis_integer\u001b[0m\u001b[0;34m(\u001b[0m\u001b[0mindexer\u001b[0m\u001b[0;34m)\u001b[0m\u001b[0;34m:\u001b[0m\u001b[0;34m\u001b[0m\u001b[0;34m\u001b[0m\u001b[0m\n\u001b[1;32m   3898\u001b[0m                 \u001b[0mindexer\u001b[0m \u001b[0;34m=\u001b[0m \u001b[0;34m[\u001b[0m\u001b[0mindexer\u001b[0m\u001b[0;34m]\u001b[0m\u001b[0;34m\u001b[0m\u001b[0;34m\u001b[0m\u001b[0m\n",
            "\u001b[0;32m/usr/local/lib/python3.10/dist-packages/pandas/core/indexes/base.py\u001b[0m in \u001b[0;36mget_loc\u001b[0;34m(self, key)\u001b[0m\n\u001b[1;32m   3795\u001b[0m             ):\n\u001b[1;32m   3796\u001b[0m                 \u001b[0;32mraise\u001b[0m \u001b[0mInvalidIndexError\u001b[0m\u001b[0;34m(\u001b[0m\u001b[0mkey\u001b[0m\u001b[0;34m)\u001b[0m\u001b[0;34m\u001b[0m\u001b[0;34m\u001b[0m\u001b[0m\n\u001b[0;32m-> 3797\u001b[0;31m             \u001b[0;32mraise\u001b[0m \u001b[0mKeyError\u001b[0m\u001b[0;34m(\u001b[0m\u001b[0mkey\u001b[0m\u001b[0;34m)\u001b[0m \u001b[0;32mfrom\u001b[0m \u001b[0merr\u001b[0m\u001b[0;34m\u001b[0m\u001b[0;34m\u001b[0m\u001b[0m\n\u001b[0m\u001b[1;32m   3798\u001b[0m         \u001b[0;32mexcept\u001b[0m \u001b[0mTypeError\u001b[0m\u001b[0;34m:\u001b[0m\u001b[0;34m\u001b[0m\u001b[0;34m\u001b[0m\u001b[0m\n\u001b[1;32m   3799\u001b[0m             \u001b[0;31m# If we have a listlike key, _check_indexing_error will raise\u001b[0m\u001b[0;34m\u001b[0m\u001b[0;34m\u001b[0m\u001b[0m\n",
            "\u001b[0;31mKeyError\u001b[0m: 'y'"
          ]
        },
        {
          "output_type": "display_data",
          "data": {
            "text/plain": [
              "<Figure size 1000x600 with 1 Axes>"
            ],
            "image/png": "[encoded data removed]"
          },
          "metadata": {}
        }
      ]
    },
    {
      "cell_type": "code",
      "source": [
        "# PyLDAvis Visualization\n",
        "lda_vis = gensimvis.prepare(lda_model, corpus, id2word)\n",
        "pyLDAvis.display(lda_vis)"
      ],
      "metadata": {
        "colab": {
          "base_uri": "https://localhost:8080/",
          "height": 916
        },
        "id": "tQn6yfgY8GnB",
        "outputId": "e51cfc74-93d7-4e61-aa44-8029d854c0d3"
      },
      "execution_count": 16,
      "outputs": [
        {
          "output_type": "stream",
          "name": "stderr",
          "text": [
            "/usr/local/lib/python3.10/dist-packages/ipykernel/ipkernel.py:283: DeprecationWarning: `should_run_async` will not call `transform_cell` automatically in the future. Please pass the result to `transformed_cell` argument and any exception that happen during thetransform in `preprocessing_exc_tuple` in IPython 7.17 and above.\n",
            "  and should_run_async(code)\n"
          ]
        },
        {
          "output_type": "execute_result",
          "data": {
            "text/plain": [
              "<IPython.core.display.HTML object>"
            ],
            "text/html": [
              "\n",
              "<link rel=\"stylesheet\" type=\"text/css\" href=\"https://cdn.jsdelivr.net/gh/bmabey/pyLDAvis@3.4.0/pyLDAvis/js/ldavis.v1.0.0.css\">\n",
              "\n",
              "\n",
              "<div id=\"ldavis_el8061389101712825924799765856\" style=\"background-color:white;\"></div>\n",
              "<script type=\"text/javascript\">\n",
              "\n",
              "var ldavis_el8061389101712825924799765856_data = {\"mdsDat\": {\"x\": [0.298688944968799, -0.06265970983760484, 0.0976778449869383, -0.08825550086156524, 0.03409875630206271, -0.045749824688960015, -0.036536511520050864, -0.116728890946829, -0.0805351084027907], \"y\": [0.03371718865299955, -0.2188444464735457, -0.15478517610437995, 0.09119853595698121, 0.1623214907410512, 0.08384316294194087, -0.03690714554212083, 0.013422492670867219, 0.026033897156206437], \"topics\": [1, 2, 3, 4, 5, 6, 7, 8, 9], \"cluster\": [1, 1, 1, 1, 1, 1, 1, 1, 1], \"Freq\": [28.20457045916208, 14.07719472304044, 13.080966299780048, 11.496522095330327, 7.9289599319182615, 7.375489614748679, 7.098839929548208, 5.468938846052236, 5.268518100419722]}, \"tinfo\": {\"Term\": [\"hot_hatch\", \"range\", \"like\", \"city\", \"cost\", \"Julian_Scott\", \"good\", \"want\", \"cheap\", \"mile\", \"year\", \"battery\", \"price\", \"buy\", \"new\", \"use\", \"drive\", \"motor\", \"fine\", \"small\", \"expensive\", \"look\", \"market\", \"engine\", \"look_fantastic\", \"time\", \"speed\", \"stop\", \"thing\", \"charge\", \"quick\", \"range\", \"mile_range\", \"grand\", \"load\", \"fit\", \"feel\", \"drop\", \"size\", \"travel\", \"fuel\", \"friend\", \"mileage\", \"charge\", \"maybe\", \"definitely\", \"case\", \"weight\", \"slow\", \"away\", \"begin\", \"require\", \"hot\", \"bargain\", \"heavy\", \"future\", \"tank\", \"mind\", \"fall\", \"scrape\", \"mile\", \"mini\", \"efficiency\", \"time\", \"price\", \"great\", \"need\", \"bit\", \"current\", \"fun\", \"look\", \"yes\", \"suspect\", \"battery\", \"drive\", \"small\", \"city\", \"like\", \"buy\", \"run\", \"consider\", \"little\", \"petrol\", \"second\", \"good\", \"use\", \"large\", \"noise\", \"big\", \"double\", \"powertrain\", \"short\", \"include\", \"available\", \"motor_power\", \"powerful\", \"difference\", \"massively\", \"optimum\", \"agree\", \"accept_powerful\", \"clever_drivetrain\", \"efficient_remove\", \"loss_system\", \"moment\", \"possible\", \"deal\", \"benefit\", \"inefficient\", \"colour\", \"basic\", \"overpriced\", \"maintenance\", \"business\", \"switch\", \"roof\", \"BMW\", \"match\", \"clever\", \"vehicle\", \"compare\", \"miss\", \"infrastructure\", \"engine\", \"want\", \"struggle\", \"performance\", \"value\", \"power\", \"efficient\", \"like\", \"standard\", \"cheap\", \"sure\", \"manufacturer\", \"look\", \"model\", \"year\", \"Julian_Scott\", \"cost\", \"sound\", \"little\", \"new\", \"bad\", \"matter\", \"warm\", \"pretty\", \"money\", \"seriously\", \"Bravo_FIAT\", \"gen_mini\", \"gain\", \"basis\", \"local\", \"bvb\", \"person\", \"like_idea\", \"Thursday\", \"handling\", \"julian\", \"respectively\", \"question\", \"year_ago\", \"handle\", \"BEV\", \"lack\", \"acknowledge\", \"capability\", \"fluff\", \"fundamental\", \"nonsense\", \"repetitive\", \"flawed\", \"line\", \"hot_hatch\", \"issue\", \"want\", \"good\", \"thing\", \"market\", \"new\", \"buy\", \"absolutely\", \"drive\", \"sure\", \"find\", \"cheap\", \"price\", \"motor\", \"technology\", \"ground\", \"appeal\", \"allow\", \"relatively\", \"tyre\", \"guess\", \"major\", \"selling\", \"commute\", \"stay\", \"internal\", \"purchase\", \"term\", \"stuff\", \"product\", \"today\", \"control\", \"access\", \"chinese\", \"door\", \"petrol_equivalent\", \"durable\", \"optimise\", \"running\", \"circumstance\", \"release\", \"european\", \"true\", \"hard\", \"brand\", \"cost\", \"number\", \"market\", \"year\", \"old\", \"battery\", \"bearing\", \"expensive\", \"right\", \"strange\", \"price\", \"value\", \"power\", \"stop\", \"suppose\", \"head\", \"break\", \"timing\", \"lap\", \"poor\", \"post\", \"random\", \"generator\", \"bloody\", \"power_output\", \"feel_sorry\", \"mile_commute\", \"hit\", \"pound\", \"buy_micro\", \"overly\", \"manage\", \"Millenials\", \"useful\", \"transcontinental\", \"dial\", \"remove\", \"joy\", \"refuelling\", \"order\", \"source\", \"stone\", \"waller\", \"try\", \"daily\", \"speed\", \"problem\", \"use\", \"range_anxiety\", \"everyday\", \"gallon\", \"fast\", \"petrol\", \"love\", \"year\", \"power\", \"time\", \"like\", \"buy\", \"improve\", \"eat\", \"late\", \"greatly\", \"norm\", \"vastly\", \"sit\", \"motorway\", \"rich\", \"Friday\", \"boom\", \"Spa\", \"biking\", \"convoy\", \"racing\", \"rack\", \"rally\", \"ski\", \"spontaneity\", \"teen\", \"ticket\", \"tomorrow\", \"economy\", \"accept\", \"banger\", \"gas\", \"arguably\", \"ease\", \"inlaw\", \"japanese\", \"memory\", \"afford\", \"probably\", \"charging\", \"hoot\", \"manufacturer\", \"city\", \"year\", \"like\", \"cost\", \"produce\", \"edit\", \"comparison\", \"driveway\", \"usually\", \"drivetrain\", \"lose\", \"perfect\", \"choice\", \"family\", \"weekend\", \"runabout\", \"loss\", \"Terminator\", \"fat\", \"interior\", \"material\", \"hybrid\", \"work_life\", \"clean\", \"apart\", \"iPhone\", \"salary\", \"tick\", \"cause\", \"cylinder\", \"effectively\", \"interference\", \"overlap\", \"pool\", \"air\", \"Earthdweller\", \"fine\", \"low\", \"struggle\", \"model\", \"average\", \"manufacture\", \"year\", \"buy\", \"like\", \"small\", \"engine\", \"cheap\", \"scheme\", \"look_fantastic\", \"exhaust\", \"cabin\", \"worth\", \"note\", \"level\", \"consumer\", \"maybe_look\", \"viable_upwards\", \"grid\", \"reality\", \"lord_trumpton\", \"seriously_offwhat\", \"vaguely_comparable\", \"zero\", \"iPhones\", \"pipe\", \"certain\", \"rely\", \"Audi\", \"Panda_Citroen\", \"big_choice\", \"material_ilk\", \"pisstake_normal\", \"settle_Kia\", \"soon_handbag\", \"woefully_cheap\", \"Cork\", \"Macs\", \"Sound\", \"Julian_Scott\", \"ask\", \"comparable\", \"demand\", \"overnight\", \"new\", \"place\", \"type\", \"sound\", \"noise\", \"hear\", \"tune\", \"SDK\", \"spend\", \"folk\", \"original\", \"lower\", \"energy\", \"rip\", \"seemingly\", \"crap\", \"quickly\", \"cake\", \"normal\", \"phone\", \"dash\", \"generally\", \"VVTI\", \"analogous\", \"bugger\", \"cam\", \"transport\", \"physical\", \"suggest\", \"choose\", \"New\", \"adept\", \"dumb\", \"plug\", \"mug\", \"stroke\", \"long_journey\", \"fine\", \"form\", \"limit\", \"cheap\", \"efficient\", \"expensive\", \"power\", \"DonkeyApple\", \"old\", \"small\", \"fun\"], \"Freq\": [74.0, 117.0, 186.0, 92.0, 77.0, 39.0, 88.0, 60.0, 58.0, 97.0, 77.0, 71.0, 106.0, 140.0, 68.0, 43.0, 108.0, 28.0, 26.0, 60.0, 43.0, 96.0, 37.0, 48.0, 16.0, 56.0, 26.0, 18.0, 54.0, 46.0, 31.09920016496367, 114.00820263822557, 23.580116134969316, 19.066938462286434, 17.76313818966442, 16.460294879726256, 16.044425339716298, 14.92417617608256, 14.743868981718315, 14.380961345242515, 14.297290068477208, 13.698154304751638, 13.616760536215816, 44.09290244430952, 14.831353943652966, 12.70360486535923, 12.205749750943177, 12.023106025157599, 11.829999454896901, 11.24876424479533, 11.064292374014212, 10.811123803727854, 10.621034499034483, 10.592778129656583, 10.501544801551567, 10.223030098733416, 9.423915104288236, 9.41281717026882, 8.874572879158363, 8.61885293303234, 87.4635561904069, 29.66093246969511, 25.043573354567297, 47.12950873114144, 84.54844009377365, 30.845113980788028, 48.39476764646187, 26.889656678574028, 25.91448179865007, 37.413938787577656, 71.71834695432997, 20.486893228563943, 17.910913374633218, 51.71791185532397, 73.26428239524202, 44.411045318135166, 62.09402214350958, 97.19886978513217, 72.88657174225047, 27.667601234566767, 19.108970844641917, 30.89703550219386, 32.29670675184845, 28.496258516996267, 44.664766345497235, 25.555949748130015, 19.46035715406877, 20.957451297213616, 20.30089305060188, 16.5910261097122, 15.818071449815923, 13.43938902139734, 13.056244889226633, 9.935593264012233, 9.824063507976977, 8.880668768847322, 8.56937967657908, 8.408220388894742, 8.332570232691836, 8.022115421837603, 7.945538286285798, 7.945538286285798, 7.945538286285798, 7.945538286285798, 7.624331300560079, 7.55778046791503, 7.374179638654472, 6.870919407835421, 6.811281641521131, 6.659004858496096, 6.594509877508728, 6.453164773407064, 6.450760518917827, 6.427058913887683, 6.416338162044973, 6.356527569072413, 11.140101588636062, 6.103421356886127, 6.067013064594619, 12.299370964306561, 19.541120604911026, 8.461332377707944, 8.262387683495982, 23.160448626621754, 26.33279191974867, 13.945425476808765, 11.468606572795046, 12.783723173135272, 20.969140147644026, 14.43099611357827, 41.67721777221564, 12.620866256321301, 18.835271394117697, 13.286717093785445, 12.078472571040129, 16.656475565198644, 9.668563507775227, 13.879294141597878, 10.473297062248562, 11.100548636739779, 9.72152623720174, 9.5571523736736, 9.52312123350901, 21.12434464385229, 18.72395137312024, 17.477569548155614, 17.217542893918658, 16.683241809589497, 16.304727503660768, 15.919824401016948, 14.85601090996957, 14.438690795839957, 13.905179551324064, 13.56158609288807, 11.396519097685433, 10.762041943656959, 10.279499456481211, 9.97346718805606, 9.563680481387568, 9.134679935786505, 9.134679935786505, 8.852562586143693, 8.823734162940735, 8.63071760605924, 8.198225559693977, 7.5388122429841244, 6.8724108148764715, 6.8724108148764715, 6.8724108148764715, 6.8724108148764715, 6.8724108148764715, 6.8724108148764715, 6.83341448154503, 11.732115610507417, 61.232879009651285, 7.167974420859768, 33.47395439244022, 41.97574342365687, 27.28944441618932, 21.11615133325698, 29.535851042513098, 40.06935042726237, 11.004236613643894, 26.761016761746994, 15.459517145552992, 12.002137899275878, 15.49550814569476, 11.152664450124215, 28.06987839526798, 17.101697668698968, 14.666207656412281, 12.699978948914586, 9.812241847440824, 9.790986909171913, 9.421329337438308, 9.321157822301181, 8.208241427488566, 8.208241427488566, 8.115170075400702, 7.827394378593836, 7.488737708523137, 14.123599171649502, 7.018234340332738, 6.790186110716358, 6.714791065878269, 6.567745771694865, 6.255038988225461, 11.578135223404358, 5.762315131446359, 5.424099855807564, 5.316356950571418, 5.024098983127192, 5.024098983127192, 5.021783907825551, 6.665233634348476, 4.737483550608262, 4.5575194061366915, 4.478152132192295, 10.012495059080676, 7.109295679695081, 52.88608445816277, 12.454504621101401, 16.03653591711142, 23.961923067396523, 12.025782315386842, 18.951500896041644, 7.236154877358925, 11.58848489633385, 7.81848308693808, 7.236154877358925, 10.484046097485177, 7.837887119776693, 7.831685784633098, 18.283159355519512, 14.748679978338892, 13.19279836768412, 13.026589050926852, 12.72780555201768, 10.90609682131709, 9.868175752772387, 9.805526686279752, 8.587561011185624, 8.425266707991137, 8.299694240872848, 7.071859174106274, 6.605636722059753, 6.548268145153262, 6.41953198601713, 5.676971434360615, 5.66425471987211, 5.279096234234112, 5.0717567088728455, 4.9742127831350125, 4.924606977244051, 7.420675909184623, 4.514144265156206, 4.513631879791638, 4.508041215645422, 4.481589653055398, 4.382898391177388, 4.2189563132871735, 4.190014504728419, 4.190014504728419, 11.761170650411529, 8.39821116783407, 18.646685709820403, 9.643887245209235, 17.174398134239613, 6.23344494895083, 6.214258816141643, 5.878377377909396, 8.783533811477469, 10.14925850546033, 7.6554939802370905, 7.74214374357334, 6.85254496383887, 6.485073950189858, 6.867378918370084, 6.266632299455207, 12.589565668219613, 9.129403117867891, 8.215341722466432, 7.648097614823133, 7.648097614823133, 7.648097614823133, 7.463726733998209, 6.9283502451042125, 6.638211105610095, 6.544394953221234, 6.521930475767445, 6.116028895824492, 6.116028895824492, 6.116028895824492, 6.116028895824492, 6.116028895824492, 6.116028895824492, 6.116028895824492, 6.116028895824492, 6.116028895824492, 6.116028895824492, 6.116028895824492, 5.974822080216382, 5.887137355468213, 4.582903630222262, 3.860520450433462, 3.8311980923762476, 3.8311980923762476, 3.8311980923762476, 3.8311980923762476, 9.464238253415813, 10.90256984493712, 13.078445874794086, 7.4638609117125725, 5.9896894648735035, 12.668714879346735, 24.586388524009976, 20.25129590345726, 28.00080141282087, 8.287195946448247, 14.734126833509777, 13.954651617006851, 9.63589665843378, 8.419376430346878, 8.008112048099127, 7.8035609494713105, 7.753503475011041, 7.461408049333322, 7.413714003906212, 6.55156828995361, 6.455505160032595, 6.0072942733683945, 10.824615893780313, 5.5031157550622805, 5.442432753694973, 5.197404268489705, 4.962624967988742, 4.8380925408052455, 4.812315476816204, 4.651102361656293, 4.215280660306041, 4.180834256564796, 4.095270677950325, 4.095270677950325, 4.094648722941599, 4.094648722941599, 4.094648722941599, 4.094648722941599, 4.094648722941599, 4.094648722941599, 8.571755407484757, 5.379437426604142, 12.059660081235386, 9.009035731982861, 8.39273140239343, 7.285235529689645, 7.01989288468026, 5.148254769112239, 11.149656712034906, 12.243509981814801, 12.66599966159584, 9.039929861480001, 8.335251667395905, 7.708782929135205, 5.251827312501669, 16.256980761106096, 7.523017995163776, 7.077881963956073, 6.144712541119142, 6.10001270904428, 5.754566849810067, 5.595301113738877, 5.297769382457097, 5.25977342649757, 5.221339823340129, 5.054534897080596, 4.7928188207946745, 4.325930442038743, 4.325930442038743, 4.186256284923568, 4.125192293082333, 4.005727120977133, 3.869559634924744, 3.530806664846924, 3.425862284952027, 3.3919687373846665, 3.3919687373846665, 3.3919687373846665, 3.3919687373846665, 3.3919687373846665, 3.3919687373846665, 3.3919687373846665, 3.083902343635932, 3.083902343635932, 3.0832379378131565, 28.641270909181866, 8.833344082292179, 6.435729005747449, 6.494307198127726, 5.296447285064234, 14.207301310769488, 4.623993514862761, 4.419116639511009, 4.663269451539201, 4.285665068670784, 3.446901700942146, 9.504100833899539, 8.899894409084908, 8.575557953081582, 8.433015404144212, 6.797949841064798, 5.88726211798855, 5.889795298280046, 5.636016263246361, 4.5459034624459145, 4.445933101650184, 4.389165577989276, 4.367081690891417, 4.303998269015336, 4.224865491782687, 4.161299013358448, 3.967282276178938, 3.951213222229109, 3.951213222229109, 3.951213222229109, 3.951213222229109, 3.672107088422136, 3.650435401738468, 3.5655494592384094, 9.8160136517416, 3.1602097416692745, 3.1517702174971065, 3.1517702174971065, 3.1461120170897425, 2.9848172893951865, 2.623747367094327, 7.914275001299826, 14.148309390988556, 5.0279453860464685, 4.896988550034668, 15.936718212289044, 8.996922035254642, 11.265445552113581, 6.676741162637126, 3.968842581170462, 4.494532765320603, 4.2684949357655775, 4.132044544305006], \"Total\": [74.0, 117.0, 186.0, 92.0, 77.0, 39.0, 88.0, 60.0, 58.0, 97.0, 77.0, 71.0, 106.0, 140.0, 68.0, 43.0, 108.0, 28.0, 26.0, 60.0, 43.0, 96.0, 37.0, 48.0, 16.0, 56.0, 26.0, 18.0, 54.0, 46.0, 31.752975171980257, 117.15018210915244, 24.32739598131496, 19.722753631017515, 18.416918755271677, 17.114237164233522, 16.698171101858154, 15.577837129987318, 15.397748875969107, 15.034630103743012, 14.95224048691435, 14.352375618117758, 14.271812853511689, 46.33309787130002, 15.592434537612503, 13.357728888549309, 12.860076779162412, 12.677297378020295, 12.483754390392491, 11.902409798627954, 11.721329297622495, 11.464980692440996, 11.275192401909312, 11.246527930496073, 11.155121417653167, 10.877071794105388, 10.077438438685977, 10.066821629727308, 9.528582531043458, 9.273174271578362, 97.5553304227135, 33.11766207300213, 28.384418562960093, 56.15799459353646, 106.65363137832684, 36.095949588442636, 59.291670852291624, 31.16873571103284, 30.099453594023696, 45.59797070621216, 96.06230846549904, 23.571667625714813, 20.195439512583334, 71.22699548993737, 108.02530005262983, 60.41628389745824, 92.33522574894545, 186.8072783185986, 140.4104142923636, 37.529907304016575, 22.380024906932217, 45.50670881806369, 48.931354004345174, 41.515698459135216, 88.80519034845959, 43.3037812804673, 23.420073949039033, 34.544274942008386, 41.71978723791411, 17.26765218122765, 16.493878701191274, 14.116566818309709, 13.73213420076669, 10.61229811033942, 10.499877192957243, 9.556546945460344, 9.245177907050453, 9.084150880494503, 9.008447919438927, 8.698143472925986, 8.621343421607051, 8.621343421607051, 8.621343421607051, 8.621343421607051, 8.300752218527021, 8.233715865973528, 8.05002469090477, 7.547346044304129, 7.487510737940509, 7.334912023420583, 7.271973446406142, 7.129301735528247, 7.127642766060626, 7.104369901978817, 7.092546814045642, 7.034605641486712, 12.34226232160028, 6.782081965144836, 6.742807831677467, 14.929238281366565, 32.367675412013114, 10.574287462161454, 10.264500294005547, 48.45046812421796, 60.39427318204881, 22.936054808106572, 17.05244079059546, 21.225431472214527, 49.04869431390541, 26.573609006134596, 186.8072783185986, 24.30043290474447, 58.40917065364445, 35.37842105455909, 28.561229250430614, 96.06230846549904, 17.551240749200954, 77.33029257898794, 39.70571512713773, 77.05909276434429, 30.59110616368776, 45.50670881806369, 68.24517392203741, 21.785840562632906, 19.385095168013606, 18.13845210756737, 17.87913056690686, 17.34454191778521, 16.965555437367996, 16.580657818295148, 15.51682588439628, 15.101257040467512, 14.566038212786733, 14.224022460077428, 12.057310791304074, 11.42353888633661, 10.940307470073133, 10.63503217776987, 10.22504960121007, 9.795484779483116, 9.795484779483116, 9.515324776161185, 9.484701318476697, 9.292943931361446, 8.859404011936002, 8.20034926765802, 7.533282550173946, 7.533282550173946, 7.533282550173946, 7.533282550173946, 7.533282550173946, 7.533282550173946, 7.494872634682998, 13.125668098540402, 74.89219423002547, 7.887195044888482, 60.39427318204881, 88.80519034845959, 54.00085466159434, 37.71711664714153, 68.24517392203741, 140.4104142923636, 16.065924385271572, 108.02530005262983, 35.37842105455909, 20.269938913596476, 58.40917065364445, 106.65363137832684, 28.723793488640844, 17.7561925630124, 15.321261889859972, 13.354385818899598, 10.465715131324881, 10.444449214396855, 10.074557108802368, 9.977754610354078, 8.861111975436131, 8.861111975436131, 8.768843439007718, 8.483188113646655, 8.141649831215219, 15.437711775183827, 7.672085797883867, 7.446084951669181, 7.367656749335643, 7.221955834793739, 6.907883826637417, 12.882959945329484, 6.415252410749407, 6.077041957676891, 5.969325760027098, 5.677013751982259, 5.677013751982259, 5.675508588162683, 7.575221199114093, 5.390466339835145, 5.210469737170706, 5.131127721253116, 11.787207793366749, 8.476024208093081, 77.05909276434429, 16.556684318509557, 37.71711664714153, 77.33029257898794, 26.530049861112573, 71.22699548993737, 11.837751346815768, 43.859427100166826, 17.295062878614385, 11.837751346815768, 106.65363137832684, 21.225431472214527, 49.04869431390541, 18.952422613346197, 15.419647667009823, 13.862329508317401, 13.695693862255014, 13.398800451499435, 11.575075855722211, 10.540613508151782, 10.474759517140393, 9.258101038540195, 9.094159140715291, 8.968733798976364, 7.742344503266616, 7.2745065507819, 7.2171729609414985, 7.089002074337767, 6.3470196760126925, 6.366068768742306, 5.947976541056641, 5.740657937172938, 5.643080595312713, 5.593848184989985, 8.487769823759782, 5.183057036224629, 5.182678541623172, 5.17825590427912, 5.150654248488106, 5.051811764990572, 4.888768318710025, 4.858892888596235, 4.858892888596235, 14.753754964360896, 10.284039210334926, 26.710408971435804, 15.758571174922428, 43.3037812804673, 10.135058479909288, 10.138758557807181, 9.211205329379052, 26.13586656900898, 48.931354004345174, 33.31360001944639, 77.33029257898794, 49.04869431390541, 56.15799459353646, 186.8072783185986, 140.4104142923636, 13.265876618062542, 9.804948208435752, 8.890920047841318, 8.323367269432353, 8.323367269432353, 8.323367269432353, 8.139570583923183, 7.6035325854283045, 7.313647373325031, 7.220060148809474, 7.1972406878218464, 6.791220776303967, 6.791220776303967, 6.791220776303967, 6.791220776303967, 6.791220776303967, 6.791220776303967, 6.791220776303967, 6.791220776303967, 6.791220776303967, 6.791220776303967, 6.791220776303967, 6.650977429140302, 6.562499765048562, 5.258284518275462, 4.53581996010721, 4.506610544294124, 4.506610544294124, 4.506610544294124, 4.506610544294124, 13.626047493858485, 19.851363968035468, 25.794244196881518, 11.715986563081493, 8.610300286801442, 28.561229250430614, 92.33522574894545, 77.33029257898794, 186.8072783185986, 77.05909276434429, 15.405011590148085, 14.625859942025514, 10.307085629208917, 9.092991199458742, 8.681196099194114, 8.47467392188491, 8.424558380837222, 8.133044395600882, 8.084996482522472, 7.222597907418194, 7.126748400668762, 6.678050416944786, 12.130079028715533, 6.174899404511106, 6.115197399952168, 5.871990095693231, 5.63505820975295, 5.510432810501315, 5.483106153328527, 5.321783985032666, 4.886576026665542, 4.8515468692059125, 4.766094673671947, 4.766094673671947, 4.7656703945592245, 4.7656703945592245, 4.7656703945592245, 4.7656703945592245, 4.7656703945592245, 4.7656703945592245, 11.254814013999766, 6.681357558998759, 26.803316114561355, 22.388930580204587, 22.936054808106572, 17.551240749200954, 16.404973495082317, 8.078232215880258, 77.33029257898794, 140.4104142923636, 186.8072783185986, 60.41628389745824, 48.45046812421796, 58.40917065364445, 11.928801934091283, 16.92217707292817, 8.18822822167505, 7.743224048884455, 6.810139417152292, 6.7644238319763685, 6.4189514388553235, 6.259677958321408, 5.9617893288314905, 5.923814617358545, 5.885618142765984, 5.719287457974313, 5.456857808165077, 4.989950798222581, 4.989950798222581, 4.85035262187834, 4.789373429589171, 4.670470721761186, 4.535159141983667, 4.195390681074789, 4.090418535253728, 4.05598769425193, 4.05598769425193, 4.05598769425193, 4.05598769425193, 4.05598769425193, 4.05598769425193, 4.05598769425193, 3.7480163395313264, 3.7480163395313264, 3.747464849429834, 39.70571512713773, 11.660653294821783, 8.461849983487358, 9.2317884973192, 7.950803660049536, 68.24517392203741, 8.98101173956048, 8.21174353626576, 30.59110616368776, 34.544274942008386, 6.251089574307413, 10.180096639517568, 9.57395282682026, 9.250242298279074, 9.106932621781564, 7.471413802324657, 6.56168608133301, 6.579792973306777, 6.3098219970119045, 5.2210907734440255, 5.119755952973603, 5.0632017835731515, 5.040548882842406, 4.977835766742232, 4.89895972831044, 4.83533720645215, 4.640876342216145, 4.624710344814109, 4.624710344814109, 4.624710344814109, 4.624710344814109, 4.3467161976917765, 4.324759436524637, 4.239554283504736, 11.870656254355097, 3.8337652757784553, 3.8254151302800032, 3.8254151302800032, 3.8208633028543, 3.658301695321119, 3.297530638312223, 12.897410414157457, 26.803316114561355, 7.368681022696617, 7.711167957528237, 58.40917065364445, 26.573609006134596, 43.859427100166826, 49.04869431390541, 8.449932134444966, 26.530049861112573, 60.41628389745824, 45.59797070621216], \"Category\": [\"Default\", \"Default\", \"Default\", \"Default\", \"Default\", \"Default\", \"Default\", \"Default\", \"Default\", \"Default\", \"Default\", \"Default\", \"Default\", \"Default\", \"Default\", \"Default\", \"Default\", \"Default\", \"Default\", \"Default\", \"Default\", \"Default\", \"Default\", \"Default\", \"Default\", \"Default\", \"Default\", \"Default\", \"Default\", \"Default\", \"Topic1\", \"Topic1\", \"Topic1\", \"Topic1\", \"Topic1\", \"Topic1\", \"Topic1\", \"Topic1\", \"Topic1\", \"Topic1\", \"Topic1\", \"Topic1\", \"Topic1\", \"Topic1\", \"Topic1\", \"Topic1\", \"Topic1\", \"Topic1\", \"Topic1\", \"Topic1\", \"Topic1\", \"Topic1\", \"Topic1\", \"Topic1\", \"Topic1\", \"Topic1\", \"Topic1\", \"Topic1\", \"Topic1\", \"Topic1\", \"Topic1\", \"Topic1\", \"Topic1\", \"Topic1\", \"Topic1\", \"Topic1\", \"Topic1\", \"Topic1\", \"Topic1\", \"Topic1\", \"Topic1\", \"Topic1\", \"Topic1\", \"Topic1\", \"Topic1\", \"Topic1\", \"Topic1\", \"Topic1\", \"Topic1\", \"Topic1\", \"Topic1\", \"Topic1\", \"Topic1\", \"Topic1\", \"Topic1\", \"Topic1\", \"Topic1\", \"Topic1\", \"Topic1\", \"Topic2\", \"Topic2\", \"Topic2\", \"Topic2\", \"Topic2\", \"Topic2\", \"Topic2\", \"Topic2\", \"Topic2\", \"Topic2\", \"Topic2\", \"Topic2\", \"Topic2\", \"Topic2\", \"Topic2\", \"Topic2\", \"Topic2\", \"Topic2\", \"Topic2\", \"Topic2\", \"Topic2\", \"Topic2\", \"Topic2\", \"Topic2\", \"Topic2\", \"Topic2\", \"Topic2\", \"Topic2\", \"Topic2\", \"Topic2\", \"Topic2\", \"Topic2\", \"Topic2\", \"Topic2\", \"Topic2\", \"Topic2\", \"Topic2\", \"Topic2\", \"Topic2\", \"Topic2\", \"Topic2\", \"Topic2\", \"Topic2\", \"Topic2\", \"Topic2\", \"Topic2\", \"Topic2\", \"Topic2\", \"Topic2\", \"Topic2\", \"Topic2\", \"Topic2\", \"Topic2\", \"Topic2\", \"Topic3\", \"Topic3\", \"Topic3\", \"Topic3\", \"Topic3\", \"Topic3\", \"Topic3\", \"Topic3\", \"Topic3\", \"Topic3\", \"Topic3\", \"Topic3\", \"Topic3\", \"Topic3\", \"Topic3\", \"Topic3\", \"Topic3\", \"Topic3\", \"Topic3\", \"Topic3\", \"Topic3\", \"Topic3\", \"Topic3\", \"Topic3\", \"Topic3\", \"Topic3\", \"Topic3\", \"Topic3\", \"Topic3\", \"Topic3\", \"Topic3\", \"Topic3\", \"Topic3\", \"Topic3\", \"Topic3\", \"Topic3\", \"Topic3\", \"Topic3\", \"Topic3\", \"Topic3\", \"Topic3\", \"Topic3\", \"Topic3\", \"Topic3\", \"Topic3\", \"Topic4\", \"Topic4\", \"Topic4\", \"Topic4\", \"Topic4\", \"Topic4\", \"Topic4\", \"Topic4\", \"Topic4\", \"Topic4\", \"Topic4\", \"Topic4\", \"Topic4\", \"Topic4\", \"Topic4\", \"Topic4\", \"Topic4\", \"Topic4\", \"Topic4\", \"Topic4\", \"Topic4\", \"Topic4\", \"Topic4\", \"Topic4\", \"Topic4\", \"Topic4\", \"Topic4\", \"Topic4\", \"Topic4\", \"Topic4\", \"Topic4\", \"Topic4\", \"Topic4\", \"Topic4\", \"Topic4\", \"Topic4\", \"Topic4\", \"Topic4\", \"Topic4\", \"Topic4\", \"Topic4\", \"Topic4\", \"Topic4\", \"Topic4\", \"Topic4\", \"Topic5\", \"Topic5\", \"Topic5\", \"Topic5\", \"Topic5\", \"Topic5\", \"Topic5\", \"Topic5\", \"Topic5\", \"Topic5\", \"Topic5\", \"Topic5\", \"Topic5\", \"Topic5\", \"Topic5\", \"Topic5\", \"Topic5\", \"Topic5\", \"Topic5\", \"Topic5\", \"Topic5\", \"Topic5\", \"Topic5\", \"Topic5\", \"Topic5\", \"Topic5\", \"Topic5\", \"Topic5\", \"Topic5\", \"Topic5\", \"Topic5\", \"Topic5\", \"Topic5\", \"Topic5\", \"Topic5\", \"Topic5\", \"Topic5\", \"Topic5\", \"Topic5\", \"Topic5\", \"Topic5\", \"Topic5\", \"Topic5\", \"Topic5\", \"Topic5\", \"Topic5\", \"Topic6\", \"Topic6\", \"Topic6\", \"Topic6\", \"Topic6\", \"Topic6\", \"Topic6\", \"Topic6\", \"Topic6\", \"Topic6\", \"Topic6\", \"Topic6\", \"Topic6\", \"Topic6\", \"Topic6\", \"Topic6\", \"Topic6\", \"Topic6\", \"Topic6\", \"Topic6\", \"Topic6\", \"Topic6\", \"Topic6\", \"Topic6\", \"Topic6\", \"Topic6\", \"Topic6\", \"Topic6\", \"Topic6\", \"Topic6\", \"Topic6\", \"Topic6\", \"Topic6\", \"Topic6\", \"Topic6\", \"Topic6\", \"Topic6\", \"Topic6\", \"Topic6\", \"Topic6\", \"Topic7\", \"Topic7\", \"Topic7\", \"Topic7\", \"Topic7\", \"Topic7\", \"Topic7\", \"Topic7\", \"Topic7\", \"Topic7\", \"Topic7\", \"Topic7\", \"Topic7\", \"Topic7\", \"Topic7\", \"Topic7\", \"Topic7\", \"Topic7\", \"Topic7\", \"Topic7\", \"Topic7\", \"Topic7\", \"Topic7\", \"Topic7\", \"Topic7\", \"Topic7\", \"Topic7\", \"Topic7\", \"Topic7\", \"Topic7\", \"Topic7\", \"Topic7\", \"Topic7\", \"Topic7\", \"Topic7\", \"Topic7\", \"Topic7\", \"Topic7\", \"Topic7\", \"Topic7\", \"Topic7\", \"Topic7\", \"Topic7\", \"Topic7\", \"Topic7\", \"Topic8\", \"Topic8\", \"Topic8\", \"Topic8\", \"Topic8\", \"Topic8\", \"Topic8\", \"Topic8\", \"Topic8\", \"Topic8\", \"Topic8\", \"Topic8\", \"Topic8\", \"Topic8\", \"Topic8\", \"Topic8\", \"Topic8\", \"Topic8\", \"Topic8\", \"Topic8\", \"Topic8\", \"Topic8\", \"Topic8\", \"Topic8\", \"Topic8\", \"Topic8\", \"Topic8\", \"Topic8\", \"Topic8\", \"Topic8\", \"Topic8\", \"Topic8\", \"Topic8\", \"Topic8\", \"Topic8\", \"Topic8\", \"Topic8\", \"Topic8\", \"Topic8\", \"Topic8\", \"Topic8\", \"Topic9\", \"Topic9\", \"Topic9\", \"Topic9\", \"Topic9\", \"Topic9\", \"Topic9\", \"Topic9\", \"Topic9\", \"Topic9\", \"Topic9\", \"Topic9\", \"Topic9\", \"Topic9\", \"Topic9\", \"Topic9\", \"Topic9\", \"Topic9\", \"Topic9\", \"Topic9\", \"Topic9\", \"Topic9\", \"Topic9\", \"Topic9\", \"Topic9\", \"Topic9\", \"Topic9\", \"Topic9\", \"Topic9\", \"Topic9\", \"Topic9\", \"Topic9\", \"Topic9\", \"Topic9\", \"Topic9\", \"Topic9\", \"Topic9\", \"Topic9\", \"Topic9\", \"Topic9\", \"Topic9\", \"Topic9\"], \"logprob\": [30.0, 29.0, 28.0, 27.0, 26.0, 25.0, 24.0, 23.0, 22.0, 21.0, 20.0, 19.0, 18.0, 17.0, 16.0, 15.0, 14.0, 13.0, 12.0, 11.0, 10.0, 9.0, 8.0, 7.0, 6.0, 5.0, 4.0, 3.0, 2.0, 1.0, -4.6885, -3.3894, -4.9652, -5.1777, -5.2485, -5.3247, -5.3503, -5.4227, -5.4348, -5.4597, -5.4656, -5.5084, -5.5143, -4.3393, -5.4289, -5.5838, -5.6237, -5.6388, -5.655, -5.7054, -5.7219, -5.7451, -5.7628, -5.7655, -5.7741, -5.801, -5.8824, -5.8836, -5.9425, -5.9717, -3.6544, -4.7358, -4.905, -4.2727, -3.6883, -4.6967, -4.2462, -4.8339, -4.8708, -4.5036, -3.8529, -5.1059, -5.2402, -4.1798, -3.8316, -4.3322, -3.997, -3.5489, -3.8367, -4.8054, -5.1755, -4.695, -4.6507, -4.7759, -4.3265, -4.8848, -5.1573, -5.0831, -5.115, -4.6219, -4.6696, -4.8325, -4.8614, -5.1346, -5.1459, -5.2468, -5.2825, -5.3015, -5.3105, -5.3485, -5.3581, -5.3581, -5.3581, -5.3581, -5.3994, -5.4081, -5.4327, -5.5034, -5.5121, -5.5347, -5.5445, -5.5661, -5.5665, -5.5702, -5.5719, -5.5812, -5.0202, -5.6219, -5.6278, -4.9212, -4.4582, -5.2952, -5.319, -4.2883, -4.1599, -4.7956, -4.9911, -4.8825, -4.3877, -4.7613, -3.7008, -4.8954, -4.495, -4.8439, -4.9393, -4.6179, -5.1618, -4.8003, -5.0819, -5.0237, -5.1564, -5.1734, -5.177, -4.3069, -4.4275, -4.4964, -4.5114, -4.5429, -4.5659, -4.5898, -4.6589, -4.6874, -4.7251, -4.7501, -4.924, -4.9813, -5.0272, -5.0574, -5.0993, -5.1452, -5.1452, -5.1766, -5.1799, -5.202, -5.2534, -5.3373, -5.4298, -5.4298, -5.4298, -5.4298, -5.4298, -5.4298, -5.4355, -4.895, -3.2426, -5.3877, -3.8465, -3.6202, -4.0508, -4.3073, -3.9717, -3.6667, -4.959, -4.0704, -4.6191, -4.8722, -4.6168, -4.9456, -3.8935, -4.389, -4.5427, -4.6866, -4.9446, -4.9467, -4.9852, -4.9959, -5.1231, -5.1231, -5.1345, -5.1706, -5.2148, -4.5804, -5.2797, -5.3127, -5.3239, -5.346, -5.3948, -4.7791, -5.4769, -5.5374, -5.5574, -5.614, -5.614, -5.6144, -5.3313, -5.6727, -5.7114, -5.729, -4.9244, -5.2668, -3.2601, -4.7061, -4.4533, -4.0517, -4.7411, -4.2863, -5.2491, -4.7782, -5.1717, -5.2491, -4.8783, -5.1692, -5.17, -3.9507, -4.1655, -4.277, -4.2897, -4.3129, -4.4674, -4.5674, -4.5737, -4.7064, -4.7254, -4.7405, -4.9006, -4.9688, -4.9775, -4.9973, -5.1203, -5.1225, -5.1929, -5.233, -5.2524, -5.2624, -4.8524, -5.3495, -5.3496, -5.3508, -5.3567, -5.379, -5.4171, -5.424, -5.424, -4.3919, -4.7287, -3.931, -4.5904, -4.0133, -5.0268, -5.0298, -5.0854, -4.6838, -4.5393, -4.8213, -4.81, -4.9321, -4.9872, -4.9299, -5.0214, -4.2515, -4.5728, -4.6783, -4.7499, -4.7499, -4.7499, -4.7743, -4.8487, -4.8915, -4.9057, -4.9091, -4.9734, -4.9734, -4.9734, -4.9734, -4.9734, -4.9734, -4.9734, -4.9734, -4.9734, -4.9734, -4.9734, -4.9968, -5.0115, -5.262, -5.4335, -5.4411, -5.4411, -5.4411, -5.4411, -4.5368, -4.3953, -4.2134, -4.7742, -4.9943, -4.2452, -3.5821, -3.7761, -3.4521, -4.6696, -4.0559, -4.1103, -4.4806, -4.6156, -4.6656, -4.6915, -4.6979, -4.7363, -4.7428, -4.8664, -4.8812, -4.9531, -4.3643, -5.0408, -5.0519, -5.0979, -5.1442, -5.1696, -5.1749, -5.209, -5.3074, -5.3156, -5.3363, -5.3363, -5.3364, -5.3364, -5.3364, -5.3364, -5.3364, -5.3364, -4.5976, -5.0635, -4.2562, -4.5479, -4.6187, -4.7602, -4.7973, -5.1074, -4.3347, -4.2411, -4.2072, -4.5444, -4.6256, -4.7037, -5.0875, -3.6967, -4.4673, -4.5283, -4.6697, -4.677, -4.7352, -4.7633, -4.818, -4.8252, -4.8325, -4.865, -4.9181, -5.0206, -5.0206, -5.0534, -5.0681, -5.0975, -5.1321, -5.2237, -5.2539, -5.2638, -5.2638, -5.2638, -5.2638, -5.2638, -5.2638, -5.2638, -5.359, -5.359, -5.3593, -3.1304, -4.3067, -4.6234, -4.6143, -4.8182, -3.8315, -4.954, -4.9993, -4.9455, -5.03, -5.2478, -4.1962, -4.2619, -4.299, -4.3158, -4.5313, -4.6751, -4.6747, -4.7187, -4.9337, -4.9559, -4.9688, -4.9738, -4.9884, -5.0069, -5.0221, -5.0698, -5.0739, -5.0739, -5.0739, -5.0739, -5.1471, -5.1531, -5.1766, -4.1639, -5.2973, -5.2999, -5.2999, -5.3017, -5.3544, -5.4833, -4.3792, -3.7983, -4.8329, -4.8593, -3.6793, -4.251, -4.0262, -4.5493, -5.0694, -4.945, -4.9966, -5.0291], \"loglift\": [30.0, 29.0, 28.0, 27.0, 26.0, 25.0, 24.0, 23.0, 22.0, 21.0, 20.0, 19.0, 18.0, 17.0, 16.0, 15.0, 14.0, 13.0, 12.0, 11.0, 10.0, 9.0, 8.0, 7.0, 6.0, 5.0, 4.0, 3.0, 2.0, 1.0, 1.2449, 1.2385, 1.2345, 1.2319, 1.2295, 1.2267, 1.2257, 1.2228, 1.2223, 1.2212, 1.2209, 1.219, 1.2187, 1.2161, 1.2156, 1.2155, 1.2135, 1.2127, 1.2119, 1.2092, 1.208, 1.207, 1.2059, 1.2058, 1.2053, 1.2037, 1.1986, 1.1985, 1.1946, 1.1925, 1.1565, 1.1555, 1.1405, 1.0904, 1.0334, 1.1085, 1.0626, 1.118, 1.116, 1.0679, 0.9734, 1.1254, 1.1456, 0.9456, 0.8774, 0.9579, 0.8689, 0.6124, 0.61, 0.9608, 1.1077, 0.8785, 0.8502, 0.8894, 0.5784, 0.7383, 1.0805, 0.7659, 0.5454, 1.9206, 1.9188, 1.9115, 1.9101, 1.8947, 1.8941, 1.8873, 1.8847, 1.8833, 1.8826, 1.8797, 1.879, 1.879, 1.879, 1.879, 1.8756, 1.875, 1.8729, 1.8667, 1.866, 1.8639, 1.8628, 1.861, 1.8608, 1.8604, 1.8604, 1.8593, 1.8581, 1.8552, 1.855, 1.7668, 1.456, 1.7377, 1.7436, 1.2225, 1.1305, 1.4631, 1.5639, 1.4536, 1.1109, 1.3501, 0.4605, 1.3055, 0.8289, 0.9813, 1.1, 0.2084, 1.3644, 0.2429, 0.6279, 0.023, 0.8142, 0.4, -0.0088, 2.0032, 1.9993, 1.9969, 1.9963, 1.9951, 1.9943, 1.9933, 1.9905, 1.9891, 1.9876, 1.9863, 1.9776, 1.9744, 1.9717, 1.9698, 1.9671, 1.9642, 1.9642, 1.9618, 1.9618, 1.9601, 1.9565, 1.9499, 1.9422, 1.9422, 1.9422, 1.9422, 1.9422, 1.9422, 1.9416, 1.9218, 1.8326, 1.9384, 1.4439, 1.2847, 1.3515, 1.4539, 1.1965, 0.7801, 1.6556, 0.6386, 1.2061, 1.51, 0.7071, -0.2239, 2.1401, 2.1256, 2.1194, 2.1129, 2.0987, 2.0985, 2.0961, 2.0951, 2.0866, 2.0866, 2.0857, 2.0827, 2.0795, 2.0742, 2.074, 2.0709, 2.0703, 2.0682, 2.0638, 2.0563, 2.0558, 2.0495, 2.0473, 2.0409, 2.0409, 2.0408, 2.0351, 2.034, 2.0292, 2.027, 1.9999, 1.9873, 1.7867, 1.8784, 1.3079, 0.9915, 1.3719, 0.8391, 1.6709, 0.8321, 1.3692, 1.6709, -0.1566, 1.1669, 0.3285, 2.4987, 2.4902, 2.4851, 2.4846, 2.4833, 2.4751, 2.4687, 2.4686, 2.4595, 2.4583, 2.4571, 2.4441, 2.4382, 2.4374, 2.4354, 2.4231, 2.4178, 2.4154, 2.4108, 2.4085, 2.4072, 2.4003, 2.3965, 2.3964, 2.396, 2.3955, 2.3926, 2.3873, 2.3865, 2.3865, 2.308, 2.3321, 2.1753, 2.0436, 1.6098, 2.0486, 2.0451, 2.0855, 1.4442, 0.9616, 1.0641, 0.2332, 0.5665, 0.376, -0.7686, -0.5747, 2.5547, 2.5356, 2.528, 2.5224, 2.5224, 2.5224, 2.5203, 2.514, 2.5101, 2.5088, 2.5085, 2.5023, 2.5023, 2.5023, 2.5023, 2.5023, 2.5023, 2.5023, 2.5023, 2.5023, 2.5023, 2.5023, 2.4998, 2.4984, 2.4695, 2.4458, 2.4446, 2.4446, 2.4446, 2.4446, 2.2425, 2.0077, 1.9278, 2.1561, 2.2441, 1.7941, 1.2838, 1.2671, 0.7092, 0.3771, 2.6007, 2.5983, 2.5779, 2.5683, 2.5645, 2.5627, 2.5622, 2.559, 2.5586, 2.5477, 2.5463, 2.5394, 2.5314, 2.5301, 2.5287, 2.5232, 2.5182, 2.5151, 2.5147, 2.5105, 2.4975, 2.4965, 2.4935, 2.4935, 2.4935, 2.4935, 2.4935, 2.4935, 2.4935, 2.4935, 2.3729, 2.4285, 1.8466, 1.7349, 1.6399, 1.766, 1.7964, 2.1947, 0.7086, 0.2057, -0.0459, 0.7456, 0.8852, 0.6201, 1.8249, 2.866, 2.8214, 2.8162, 2.8033, 2.8027, 2.7968, 2.7939, 2.788, 2.7872, 2.7863, 2.7825, 2.7763, 2.7633, 2.7633, 2.7588, 2.7568, 2.7526, 2.7474, 2.7336, 2.7288, 2.7273, 2.7273, 2.7273, 2.7273, 2.7273, 2.7273, 2.7273, 2.7111, 2.7111, 2.711, 2.5794, 2.6284, 2.6324, 2.5544, 2.4998, 1.3367, 2.2422, 2.2865, 1.0251, 0.8191, 2.3108, 2.8747, 2.8704, 2.8677, 2.8665, 2.849, 2.835, 2.8326, 2.8305, 2.8049, 2.8023, 2.8006, 2.8, 2.798, 2.7954, 2.7933, 2.7866, 2.786, 2.786, 2.786, 2.786, 2.7748, 2.7739, 2.7703, 2.7534, 2.7502, 2.7497, 2.7497, 2.7491, 2.74, 2.7149, 2.4551, 2.3045, 2.5612, 2.4894, 1.6446, 1.8604, 1.5842, 0.9492, 2.1877, 1.168, 0.2934, 0.5423]}, \"token.table\": {\"Topic\": [8, 3, 2, 7, 3, 8, 4, 9, 7, 9, 6, 2, 8, 8, 5, 9, 8, 9, 8, 6, 7, 3, 9, 3, 6, 8, 6, 2, 4, 6, 3, 9, 3, 6, 2, 2, 7, 4, 9, 7, 4, 6, 5, 8, 2, 3, 4, 7, 1, 3, 6, 1, 2, 3, 1, 4, 2, 4, 1, 2, 1, 2, 4, 5, 7, 8, 6, 1, 9, 5, 6, 4, 7, 5, 9, 2, 1, 2, 3, 5, 7, 9, 5, 3, 8, 9, 9, 3, 1, 7, 8, 1, 8, 5, 6, 2, 3, 7, 9, 4, 7, 4, 9, 4, 1, 6, 7, 7, 2, 2, 2, 4, 2, 8, 1, 2, 4, 7, 1, 8, 8, 4, 6, 1, 2, 4, 6, 9, 1, 4, 7, 5, 8, 9, 2, 1, 2, 8, 5, 2, 4, 2, 1, 2, 3, 5, 6, 7, 7, 1, 9, 4, 6, 6, 6, 7, 7, 1, 7, 2, 6, 7, 9, 2, 9, 1, 2, 7, 4, 1, 5, 8, 1, 2, 4, 5, 9, 1, 7, 1, 3, 5, 7, 1, 5, 1, 3, 4, 7, 7, 9, 1, 3, 3, 9, 6, 9, 1, 1, 1, 6, 9, 3, 1, 3, 3, 5, 6, 3, 9, 5, 1, 3, 4, 1, 1, 2, 7, 6, 8, 4, 4, 3, 3, 4, 9, 5, 3, 8, 1, 5, 3, 6, 1, 1, 3, 7, 7, 8, 6, 2, 2, 2, 4, 6, 7, 7, 4, 3, 6, 5, 3, 3, 5, 1, 2, 4, 6, 8, 1, 2, 5, 6, 7, 3, 3, 5, 9, 3, 5, 1, 2, 3, 7, 1, 3, 7, 9, 1, 2, 3, 4, 8, 8, 7, 3, 7, 2, 1, 2, 3, 5, 1, 3, 4, 7, 9, 2, 4, 5, 6, 7, 2, 3, 6, 3, 4, 2, 2, 7, 8, 3, 1, 8, 6, 9, 1, 2, 5, 7, 5, 1, 1, 1, 1, 3, 2, 3, 2, 7, 2, 3, 4, 2, 6, 9, 1, 3, 4, 1, 2, 3, 4, 7, 8, 1, 2, 8, 3, 6, 9, 8, 4, 5, 3, 4, 7, 9, 4, 2, 5, 9, 7, 5, 6, 8, 2, 7, 2, 3, 5, 7, 3, 1, 2, 4, 5, 4, 9, 9, 8, 8, 8, 9, 9, 7, 5, 2, 5, 5, 1, 2, 4, 5, 7, 9, 5, 2, 2, 3, 1, 3, 4, 1, 3, 6, 4, 5, 7, 4, 3, 4, 3, 1, 9, 6, 6, 6, 5, 1, 6, 1, 5, 8, 5, 4, 4, 8, 5, 3, 1, 3, 6, 1, 2, 4, 9, 2, 1, 2, 3, 7, 7, 4, 7, 2, 7, 1, 1, 2, 5, 9, 4, 3, 8, 8, 2, 6, 1, 6, 1, 1, 3, 7, 9, 8, 1, 2, 3, 8, 9, 5, 3, 5, 9, 9, 6, 1, 2, 3, 4, 5, 5, 2, 4, 9, 2, 7, 4, 9, 5, 1, 2, 3, 7, 1, 6, 2, 1, 4, 6, 4, 1, 3, 4, 6, 7, 6, 1, 5, 9, 5, 4, 6, 5, 9, 1, 4, 4, 5, 9, 4, 8, 4, 1, 5, 5, 7, 8, 2, 4, 6, 2, 7, 9, 8, 5, 2, 3, 3, 7, 1, 8, 7, 8, 2, 4, 5, 6, 7, 3, 1, 3, 8], \"Freq\": [0.7334212805228036, 0.9029952792785888, 0.8912466542498308, 0.08102242311362098, 0.9649798081198897, 0.8004234048710517, 0.47337658295438373, 0.47337658295438373, 0.7483509086062563, 0.14967018172125127, 0.9695210089287469, 0.25185291255880904, 0.7303734464205462, 0.8004234048710517, 0.8860408628849157, 0.78252052074076, 0.7396472144754147, 0.9400505896360382, 0.800541197993209, 0.8834935864455022, 0.9716757483719763, 0.9402886453792532, 0.8649190331423406, 0.6846789351308191, 0.1244870791146944, 0.18673061867204158, 0.9142857470190858, 0.9279296286875868, 0.9314629596710353, 0.07762191330591961, 0.9292098037446329, 0.7842286125376446, 0.4029949787269805, 0.5541180957495981, 0.9197364960581483, 0.17770173700891168, 0.7996578165401025, 0.95550087829823, 0.8649190331423406, 0.8185690713031809, 0.9734629638752792, 0.8875850177611754, 0.1715169767450467, 0.7718263953527101, 0.9423029673711422, 0.1828713713496278, 0.3657427426992556, 0.4266998664824649, 0.9241825971466737, 0.9639288389918367, 0.9508804597054838, 0.9780796409327728, 0.9625997745439302, 0.9611398649023288, 0.7300602761960713, 0.2667527932254876, 0.33790201219896027, 0.5913285213481805, 0.9384601115362567, 0.9274783425735191, 0.47938883019576856, 0.16778609056851898, 0.14381664905873057, 0.09587776603915371, 0.11984720754894214, 0.7396472144754147, 0.8834935864455022, 0.8662526529891545, 0.12833372636876364, 0.8919876739917367, 0.9725949573764305, 0.8258588965940254, 0.11797984237057506, 0.9492034599157967, 0.8649190331423406, 0.8445506192363081, 0.5199044555769122, 0.042731873061116074, 0.2848791537407738, 0.042731873061116074, 0.08546374612223215, 0.021365936530558037, 0.9424968874763464, 0.9123095680616756, 0.9040162025285153, 0.7935643702644479, 0.8649190331423406, 0.9292098037446329, 0.9331204009173552, 0.839336267268219, 0.8819977149137948, 0.9496451137849515, 0.04316568699022507, 0.3414138432528157, 0.5974742256924275, 0.3252913846811227, 0.2568089879061495, 0.1369647935499464, 0.2739295870998928, 0.9352710721009809, 0.8658012424782207, 0.08424134088063756, 0.8424134088063756, 0.9240654254186843, 0.6714663823812452, 0.27075257354082466, 0.05415051470816493, 0.9395345647366236, 0.8898370159404836, 0.9279296286875868, 0.95434000812127, 0.9123209982758319, 0.11817746733296172, 0.7090648039977704, 0.2780551857814198, 0.6179004128475996, 0.09268506192713993, 0.9702063570386301, 0.8489713518645257, 0.08936540545942376, 0.9585157639018472, 0.8685728003796855, 0.8834935864455022, 0.051908215585050654, 0.1427475928588893, 0.6877838565019212, 0.10381643117010131, 0.7812872403960509, 0.8638030560515673, 0.09966958339056546, 0.839336267268219, 0.7779044630596521, 0.09723805788245651, 0.827243236451535, 0.869562550275016, 0.9732193330517461, 0.21664274485716128, 0.6499282345714839, 0.9646816473472634, 0.9734804554855048, 0.8227687145855056, 0.9844997931149768, 0.6757676207743414, 0.009257090695538924, 0.24994144877955093, 0.027771272086616772, 0.0370283627821557, 0.9439891226187337, 0.879798498042778, 0.962906459660245, 0.7842286125376446, 0.8807447398298331, 0.8875850177611754, 0.9179038796203728, 0.9021230434059003, 0.9572086739168624, 0.839336267268219, 0.8807649148967754, 0.10569178978761305, 0.526838488395312, 0.07526264119933028, 0.03763132059966514, 0.3386818853969863, 0.9279296286875868, 0.9118827939330448, 0.3302341673764428, 0.4747116156036365, 0.1651170836882214, 0.9596063795037045, 0.29589421455252035, 0.5917884291050407, 0.9770123381299032, 0.2964015004188359, 0.022800115416833532, 0.2736013850020024, 0.1368006925010012, 0.25080126958516885, 0.9445266355912463, 0.9691803544553452, 0.5739239584956594, 0.07652319446608792, 0.34435437509739564, 0.8176350938465387, 0.9581887682429807, 0.9622645812653239, 0.2960048387701542, 0.5920096775403084, 0.09866827959005141, 0.049334139795025704, 0.44770579687640955, 0.5223234296891445, 0.9348941379308375, 0.9339718419772814, 0.9292098037446329, 0.8784516513129733, 0.2714189953181183, 0.6785474882952957, 0.9754482722934776, 0.9363145283980875, 0.811439619503927, 0.08772320210853264, 0.08772320210853264, 0.9292098037446329, 0.9193650818246231, 0.9270751409954533, 0.32569027534665074, 0.6513805506933015, 0.8818692177335573, 0.9666925511540346, 0.861906180006057, 0.8796855076115117, 0.5067271386213584, 0.4729453293799345, 0.022521206160949263, 0.9633543244245136, 0.8588221214140248, 0.05540787880090482, 0.08311181820135724, 0.9611494652386754, 0.849528440125784, 0.979031629889925, 0.9020065487139315, 0.9684767353031335, 0.977990365818525, 0.8483773405290691, 0.08483773405290691, 0.9377933190954664, 0.31994422351907975, 0.47991633527861965, 0.9860941524663565, 0.846381470492164, 0.23227993605121533, 0.696839808153646, 0.9755931081173647, 0.17358284309405497, 0.8145041099028734, 0.9073697424404531, 0.8244793068761405, 0.8351823174379446, 0.9799578553519388, 0.9466846019662541, 0.9348901450691472, 0.7793852375523812, 0.09742315469404765, 0.8875850177611754, 0.839336267268219, 0.8515000738279879, 0.8597765987382416, 0.887514504226258, 0.8875850177611754, 0.9655760727986008, 0.9187906675992924, 0.9755682031193241, 0.950317746260132, 0.8112698551397872, 0.042698413428409854, 0.12809524028522956, 0.8997943921385695, 0.934732106505851, 0.5192517169195471, 0.22483064031568015, 0.03747177338594669, 0.14988709354378676, 0.06959043628818672, 0.914051092929032, 0.1296820411003657, 0.2593640822007314, 0.6484102055018286, 0.9142391770011632, 0.07618659808343027, 0.6812182380391061, 0.2197478187222923, 0.08789912748891691, 0.02197478187222923, 0.9773621874097512, 0.9842504143461392, 0.310139777796728, 0.620279555593456, 0.7495135308543927, 0.1769684725628427, 0.06245946090453272, 0.010409910150755453, 0.9455048207477125, 0.9162782274660918, 0.949604672239801, 0.08243969372604253, 0.9068366309864678, 0.9279296286875868, 0.5103020985446324, 0.09005331150787631, 0.15008885251312717, 0.2401421640210035, 0.31265450464119643, 0.08932985846891327, 0.17865971693782653, 0.4019843631101097, 0.9143991232785549, 0.8417930298877951, 0.9028212285519901, 0.8709803048223973, 0.2475789190694943, 0.6189472976737358, 0.4201499835592363, 0.10503749588980907, 0.4551624821891726, 0.5567763887272525, 0.4242105818874305, 0.880654681460389, 0.8846840882837762, 0.8873022804531434, 0.7396472144754147, 0.9801344711142284, 0.9620050008109114, 0.8386743851916685, 0.6604996793132029, 0.29355541302809013, 0.8918016024652208, 0.010250593131784147, 0.06150355879070488, 0.020501186263568293, 0.9699088601427716, 0.9865420868897591, 0.9809545671386234, 0.8940259727482421, 0.9058610458029982, 0.09058610458029982, 0.7565521581124812, 0.1891380395281203, 0.5697602889103589, 0.39883220223725124, 0.9637680766020515, 0.9801354270745014, 0.9748016051944157, 0.9523920914720285, 0.9206247124415647, 0.8200526500690002, 0.8095572162163954, 0.08432887668920785, 0.10119465202704943, 0.08791830477059577, 0.14653050795099296, 0.4395915238529789, 0.08791830477059577, 0.043959152385297885, 0.20514271113139015, 0.6079154949772141, 0.2605352121330917, 0.11579342761470744, 0.9292098037446329, 0.9611494652386754, 0.8035620674198777, 0.886993504404199, 0.7247827988472663, 0.2415942662824221, 0.3015448535483645, 0.4523172803225468, 0.037693106693545565, 0.15077242677418226, 0.8807447398298331, 0.8880553089214356, 0.7917951392647475, 0.9369043376799742, 0.839336267268219, 0.8406220107774273, 0.2515468983405307, 0.6288672458513267, 0.8415971468986266, 0.8606863136989957, 0.6450689455591939, 0.17592789424341654, 0.05864263141447218, 0.05864263141447218, 0.9629240211329614, 0.6539774067392117, 0.020436793960600365, 0.10218396980300183, 0.20436793960600366, 0.8376155366627709, 0.8164998738169921, 0.9249069361449587, 0.8564447222338312, 0.7396472144754147, 0.5567301485617137, 0.4453841188493709, 0.7851628708514408, 0.839336267268219, 0.9487113811986666, 0.9716147763928341, 0.9546758551961485, 0.9453255710984819, 0.08155161021006, 0.428145953602815, 0.16310322042012, 0.142715317867605, 0.04077580510503, 0.142715317867605, 0.9041189005535197, 0.9417627571301033, 0.9700568489596323, 0.950829232796472, 0.7969723946715321, 0.10313760401631593, 0.09376145819665084, 0.34891504985783167, 0.11630501661927722, 0.5039884053502013, 0.380745178823583, 0.6345752980393049, 0.9737091018868755, 0.950098550754445, 0.06477643931709512, 0.9068701504393317, 0.9458426498008526, 0.976286468656811, 0.7900139419640433, 0.8834935864455022, 0.8834935864455022, 0.8834935864455022, 0.9721216005889592, 0.9731098829516346, 0.017072103209677798, 0.296002238758355, 0.59200447751671, 0.8742347778006119, 0.7766003709478534, 0.957446371247206, 0.9275635325000311, 0.9534272977350626, 0.9647520987157427, 0.9292098037446329, 0.9594433950728269, 0.9187906675992924, 0.9571147804488096, 0.404739783204582, 0.115639938058452, 0.462559752233808, 0.9508984568568456, 0.8529262770061897, 0.7460716535530411, 0.10658166479329158, 0.07993624859496869, 0.07993624859496869, 0.8984658134319694, 0.8809783162743194, 0.839261549313345, 0.5029842924001128, 0.4191535770000939, 0.9705414496074313, 0.6744436692438402, 0.16861091731096006, 0.14452364340939433, 0.9576542942772501, 0.9028212285519901, 0.9430873076373744, 0.8016111103590038, 0.7396472144754147, 0.9209037981627742, 0.8599962280351745, 0.9741683749246057, 0.8834935864455022, 0.9612492864514549, 0.7282804760828911, 0.03310365800376778, 0.14896646101695502, 0.06620731600753556, 0.7396472144754147, 0.22882467742566096, 0.3268923963223728, 0.19613543779342368, 0.1634461981611864, 0.06537847926447456, 0.8182019967465874, 0.18719294060031114, 0.7113331742811823, 0.07487717624012445, 0.9729474871889973, 0.8834935864455022, 0.12345459077868007, 0.5349698933742802, 0.3703637723360402, 0.9430416834834342, 0.8232328004982274, 0.9497466559934398, 0.33790201219896027, 0.5913285213481805, 0.9097716834362732, 0.610392681615489, 0.3487958180659937, 0.9400913426902037, 0.943495408364791, 0.9727848731649261, 0.1413290884940629, 0.36745563008456356, 0.42398726548218874, 0.02826581769881258, 0.8912903325914049, 0.09903225917682276, 0.8459584627792615, 0.8930840961975187, 0.9574124598880723, 0.8834935864455022, 0.9123985555441464, 0.2592551560106486, 0.49999208659196515, 0.11110935257599225, 0.11110935257599225, 0.839261549313345, 0.8834935864455022, 0.8369244724669975, 0.10684142201706352, 0.03561380733902117, 0.9702361078558487, 0.9692665200575713, 0.8834935864455022, 0.82471604972191, 0.9202349125356074, 0.9311835345064172, 0.7795557267912103, 0.135558710635441, 0.813352263812646, 0.9823089459859878, 0.36533045470197817, 0.4871072729359709, 0.8933395188297157, 0.6004094615111041, 0.39257541714187577, 0.8938390593825084, 0.9215319995758015, 0.8016111103590038, 0.6124728261480973, 0.37690635455267524, 0.9611494652386754, 0.8037918461638731, 0.06698265384698943, 0.06698265384698943, 0.8440507211938246, 0.8232328004982274, 0.43050439437572474, 0.5464094236307275, 0.9372354321738178, 0.8418986700073444, 0.9465739930346209, 0.7396472144754147, 0.9118918839396796, 0.8810392317208893, 0.1810416013323614, 0.3103570308554767, 0.10345234361849223, 0.25863085904623057, 0.1422469724754268, 0.9488965121619093, 0.848476243495882, 0.1272714365243823, 0.8246823090670398], \"Term\": [\"Audi\", \"BEV\", \"BMW\", \"BMW\", \"Bravo_FIAT\", \"Cork\", \"DonkeyApple\", \"DonkeyApple\", \"Earthdweller\", \"Earthdweller\", \"Friday\", \"Julian_Scott\", \"Julian_Scott\", \"Macs\", \"Millenials\", \"New\", \"Panda_Citroen\", \"SDK\", \"Sound\", \"Spa\", \"Terminator\", \"Thursday\", \"VVTI\", \"absolutely\", \"absolutely\", \"absolutely\", \"accept\", \"accept_powerful\", \"access\", \"access\", \"acknowledge\", \"adept\", \"afford\", \"afford\", \"agree\", \"air\", \"air\", \"allow\", \"analogous\", \"apart\", \"appeal\", \"arguably\", \"ask\", \"ask\", \"available\", \"average\", \"average\", \"average\", \"away\", \"bad\", \"banger\", \"bargain\", \"basic\", \"basis\", \"battery\", \"battery\", \"bearing\", \"bearing\", \"begin\", \"benefit\", \"big\", \"big\", \"big\", \"big\", \"big\", \"big_choice\", \"biking\", \"bit\", \"bit\", \"bloody\", \"boom\", \"brand\", \"brand\", \"break\", \"bugger\", \"business\", \"buy\", \"buy\", \"buy\", \"buy\", \"buy\", \"buy\", \"buy_micro\", \"bvb\", \"cabin\", \"cake\", \"cam\", \"capability\", \"case\", \"cause\", \"certain\", \"charge\", \"charge\", \"charging\", \"charging\", \"cheap\", \"cheap\", \"cheap\", \"cheap\", \"chinese\", \"choice\", \"choose\", \"choose\", \"circumstance\", \"city\", \"city\", \"city\", \"clean\", \"clever\", \"clever_drivetrain\", \"colour\", \"commute\", \"comparable\", \"comparable\", \"compare\", \"compare\", \"compare\", \"comparison\", \"consider\", \"consider\", \"consumer\", \"control\", \"convoy\", \"cost\", \"cost\", \"cost\", \"cost\", \"crap\", \"current\", \"current\", \"cylinder\", \"daily\", \"daily\", \"dash\", \"deal\", \"definitely\", \"demand\", \"demand\", \"dial\", \"difference\", \"door\", \"double\", \"drive\", \"drive\", \"drive\", \"drive\", \"drive\", \"drivetrain\", \"driveway\", \"drop\", \"dumb\", \"durable\", \"ease\", \"eat\", \"economy\", \"edit\", \"effectively\", \"efficiency\", \"efficiency\", \"efficient\", \"efficient\", \"efficient\", \"efficient\", \"efficient_remove\", \"energy\", \"engine\", \"engine\", \"engine\", \"european\", \"everyday\", \"everyday\", \"exhaust\", \"expensive\", \"expensive\", \"expensive\", \"expensive\", \"expensive\", \"fall\", \"family\", \"fast\", \"fast\", \"fast\", \"fat\", \"feel\", \"feel_sorry\", \"find\", \"find\", \"find\", \"find\", \"fine\", \"fine\", \"fit\", \"flawed\", \"fluff\", \"folk\", \"form\", \"form\", \"friend\", \"fuel\", \"fun\", \"fun\", \"fun\", \"fundamental\", \"future\", \"gain\", \"gallon\", \"gallon\", \"gas\", \"gen_mini\", \"generally\", \"generator\", \"good\", \"good\", \"good\", \"grand\", \"great\", \"great\", \"great\", \"greatly\", \"grid\", \"ground\", \"guess\", \"handle\", \"handling\", \"hard\", \"hard\", \"head\", \"hear\", \"hear\", \"heavy\", \"hit\", \"hoot\", \"hoot\", \"hot\", \"hot_hatch\", \"hot_hatch\", \"hybrid\", \"iPhone\", \"iPhones\", \"improve\", \"include\", \"inefficient\", \"infrastructure\", \"infrastructure\", \"inlaw\", \"interference\", \"interior\", \"internal\", \"issue\", \"japanese\", \"joy\", \"julian\", \"lack\", \"lap\", \"large\", \"large\", \"large\", \"late\", \"level\", \"like\", \"like\", \"like\", \"like\", \"like\", \"like_idea\", \"limit\", \"limit\", \"limit\", \"line\", \"line\", \"little\", \"little\", \"little\", \"little\", \"load\", \"local\", \"long_journey\", \"long_journey\", \"look\", \"look\", \"look\", \"look\", \"look_fantastic\", \"lord_trumpton\", \"lose\", \"loss\", \"loss\", \"loss_system\", \"love\", \"love\", \"love\", \"love\", \"low\", \"low\", \"low\", \"low\", \"lower\", \"maintenance\", \"major\", \"manage\", \"manufacture\", \"manufacture\", \"manufacturer\", \"manufacturer\", \"manufacturer\", \"market\", \"market\", \"massively\", \"match\", \"material\", \"material_ilk\", \"matter\", \"maybe\", \"maybe_look\", \"memory\", \"memory\", \"mile\", \"mile\", \"mile\", \"mile\", \"mile_commute\", \"mile_range\", \"mileage\", \"mind\", \"mini\", \"mini\", \"miss\", \"miss\", \"model\", \"model\", \"moment\", \"money\", \"motor\", \"motor_power\", \"motorway\", \"mug\", \"need\", \"need\", \"need\", \"new\", \"new\", \"new\", \"new\", \"new\", \"new\", \"noise\", \"noise\", \"noise\", \"nonsense\", \"norm\", \"normal\", \"note\", \"number\", \"number\", \"old\", \"old\", \"old\", \"old\", \"optimise\", \"optimum\", \"order\", \"original\", \"overlap\", \"overly\", \"overnight\", \"overnight\", \"overpriced\", \"perfect\", \"performance\", \"performance\", \"performance\", \"performance\", \"person\", \"petrol\", \"petrol\", \"petrol\", \"petrol\", \"petrol_equivalent\", \"phone\", \"physical\", \"pipe\", \"pisstake_normal\", \"place\", \"place\", \"plug\", \"pool\", \"poor\", \"possible\", \"post\", \"pound\", \"power\", \"power\", \"power\", \"power\", \"power\", \"power\", \"power_output\", \"powerful\", \"powertrain\", \"pretty\", \"price\", \"price\", \"price\", \"probably\", \"probably\", \"probably\", \"problem\", \"problem\", \"produce\", \"product\", \"purchase\", \"purchase\", \"question\", \"quick\", \"quickly\", \"racing\", \"rack\", \"rally\", \"random\", \"range\", \"range\", \"range_anxiety\", \"range_anxiety\", \"reality\", \"refuelling\", \"relatively\", \"release\", \"rely\", \"remove\", \"repetitive\", \"require\", \"respectively\", \"rich\", \"right\", \"right\", \"right\", \"rip\", \"roof\", \"run\", \"run\", \"run\", \"run\", \"runabout\", \"running\", \"salary\", \"scheme\", \"scheme\", \"scrape\", \"second\", \"second\", \"second\", \"seemingly\", \"selling\", \"seriously\", \"seriously_offwhat\", \"settle_Kia\", \"short\", \"sit\", \"size\", \"ski\", \"slow\", \"small\", \"small\", \"small\", \"small\", \"soon_handbag\", \"sound\", \"sound\", \"sound\", \"sound\", \"sound\", \"source\", \"speed\", \"speed\", \"speed\", \"spend\", \"spontaneity\", \"standard\", \"standard\", \"standard\", \"stay\", \"stone\", \"stop\", \"strange\", \"strange\", \"stroke\", \"struggle\", \"struggle\", \"stuff\", \"suggest\", \"suppose\", \"sure\", \"sure\", \"sure\", \"sure\", \"suspect\", \"suspect\", \"switch\", \"tank\", \"technology\", \"teen\", \"term\", \"thing\", \"thing\", \"thing\", \"thing\", \"tick\", \"ticket\", \"time\", \"time\", \"time\", \"timing\", \"today\", \"tomorrow\", \"transcontinental\", \"transport\", \"travel\", \"true\", \"try\", \"try\", \"tune\", \"type\", \"type\", \"tyre\", \"use\", \"use\", \"useful\", \"usually\", \"vaguely_comparable\", \"value\", \"value\", \"vastly\", \"vehicle\", \"vehicle\", \"vehicle\", \"viable_upwards\", \"waller\", \"want\", \"want\", \"warm\", \"weekend\", \"weight\", \"woefully_cheap\", \"work_life\", \"worth\", \"year\", \"year\", \"year\", \"year\", \"year\", \"year_ago\", \"yes\", \"yes\", \"zero\"]}, \"R\": 30, \"lambda.step\": 0.01, \"plot.opts\": {\"xlab\": \"PC1\", \"ylab\": \"PC2\"}, \"topic.order\": [4, 7, 8, 6, 3, 9, 2, 1, 5]};\n",
              "\n",
              "function LDAvis_load_lib(url, callback){\n",
              "  var s = document.createElement('script');\n",
              "  s.src = url;\n",
              "  s.async = true;\n",
              "  s.onreadystatechange = s.onload = callback;\n",
              "  s.onerror = function(){console.warn(\"failed to load library \" + url);};\n",
              "  document.getElementsByTagName(\"head\")[0].appendChild(s);\n",
              "}\n",
              "\n",
              "if(typeof(LDAvis) !== \"undefined\"){\n",
              "   // already loaded: just create the visualization\n",
              "   !function(LDAvis){\n",
              "       new LDAvis(\"#\" + \"ldavis_el8061389101712825924799765856\", ldavis_el8061389101712825924799765856_data);\n",
              "   }(LDAvis);\n",
              "}else if(typeof define === \"function\" && define.amd){\n",
              "   // require.js is available: use it to load d3/LDAvis\n",
              "   require.config({paths: {d3: \"https://d3js.org/d3.v5\"}});\n",
              "   require([\"d3\"], function(d3){\n",
              "      window.d3 = d3;\n",
              "      LDAvis_load_lib(\"https://cdn.jsdelivr.net/gh/bmabey/pyLDAvis@3.4.0/pyLDAvis/js/ldavis.v3.0.0.js\", function(){\n",
              "        new LDAvis(\"#\" + \"ldavis_el8061389101712825924799765856\", ldavis_el8061389101712825924799765856_data);\n",
              "      });\n",
              "    });\n",
              "}else{\n",
              "    // require.js not available: dynamically load d3 & LDAvis\n",
              "    LDAvis_load_lib(\"https://d3js.org/d3.v5.js\", function(){\n",
              "         LDAvis_load_lib(\"https://cdn.jsdelivr.net/gh/bmabey/pyLDAvis@3.4.0/pyLDAvis/js/ldavis.v3.0.0.js\", function(){\n",
              "                 new LDAvis(\"#\" + \"ldavis_el8061389101712825924799765856\", ldavis_el8061389101712825924799765856_data);\n",
              "            })\n",
              "         });\n",
              "}\n",
              "</script>"
            ]
          },
          "metadata": {},
          "execution_count": 16
        }
      ]
    },
    {
      "cell_type": "code",
      "source": [
        "from tabulate import tabulate"
      ],
      "metadata": {
        "colab": {
          "base_uri": "https://localhost:8080/"
        },
        "id": "ZIwJDYxb8K0h",
        "outputId": "d4a66457-94cd-47fa-b5f2-2cc472116821"
      },
      "execution_count": 17,
      "outputs": [
        {
          "output_type": "stream",
          "name": "stderr",
          "text": [
            "/usr/local/lib/python3.10/dist-packages/ipykernel/ipkernel.py:283: DeprecationWarning: `should_run_async` will not call `transform_cell` automatically in the future. Please pass the result to `transformed_cell` argument and any exception that happen during thetransform in `preprocessing_exc_tuple` in IPython 7.17 and above.\n",
            "  and should_run_async(code)\n"
          ]
        }
      ]
    },
    {
      "cell_type": "code",
      "source": [
        "# Create a list to store document data\n",
        "document_data = []"
      ],
      "metadata": {
        "colab": {
          "base_uri": "https://localhost:8080/"
        },
        "id": "khoXvVx88OBh",
        "outputId": "c8e1351d-3c44-41b0-bf82-1cdbc7911411"
      },
      "execution_count": 18,
      "outputs": [
        {
          "output_type": "stream",
          "name": "stderr",
          "text": [
            "/usr/local/lib/python3.10/dist-packages/ipykernel/ipkernel.py:283: DeprecationWarning: `should_run_async` will not call `transform_cell` automatically in the future. Please pass the result to `transformed_cell` argument and any exception that happen during thetransform in `preprocessing_exc_tuple` in IPython 7.17 and above.\n",
            "  and should_run_async(code)\n"
          ]
        }
      ]
    },
    {
      "cell_type": "code",
      "source": [
        "# Loop through documents and their topics\n",
        "for doc_idx, doc_topics in enumerate(lda_model.get_document_topics(corpus)):\n",
        "    topics_str = \", \".join([f\"{topic_idx}:{prob:.4f}\" for topic_idx, prob in doc_topics])\n",
        "    document_data.append([doc_idx + 1, topics_str])"
      ],
      "metadata": {
        "colab": {
          "base_uri": "https://localhost:8080/"
        },
        "id": "dq3M7Ess8RD-",
        "outputId": "d03ebbbc-db49-4132-9750-49f02f0fc95e"
      },
      "execution_count": 19,
      "outputs": [
        {
          "output_type": "stream",
          "name": "stderr",
          "text": [
            "/usr/local/lib/python3.10/dist-packages/ipykernel/ipkernel.py:283: DeprecationWarning: `should_run_async` will not call `transform_cell` automatically in the future. Please pass the result to `transformed_cell` argument and any exception that happen during thetransform in `preprocessing_exc_tuple` in IPython 7.17 and above.\n",
            "  and should_run_async(code)\n"
          ]
        }
      ]
    },
    {
      "cell_type": "code",
      "source": [
        "# Define table headers\n",
        "headers = [\"Document\", \"Topics and Scores\"]\n",
        "\n",
        "# Print the table using tabulate\n",
        "table = tabulate(document_data, headers=headers, tablefmt=\"pretty\")\n",
        "print(table)"
      ],
      "metadata": {
        "colab": {
          "base_uri": "https://localhost:8080/"
        },
        "id": "Gu7teCjD8VAZ",
        "outputId": "1dbab3c0-13be-4606-beee-b2298da329c5"
      },
      "execution_count": 37,
      "outputs": [
        {
          "output_type": "stream",
          "name": "stdout",
          "text": [
            "+----------+------------------------------------------------------------------------------------------+\n",
            "| Document |                                    Topics and Scores                                     |\n",
            "+----------+------------------------------------------------------------------------------------------+\n",
            "|    1     |                          2:0.6003, 3:0.3453, 6:0.0114, 7:0.0130                          |\n",
            "|    2     |                     1:0.0138, 2:0.0657, 3:0.7771, 5:0.0917, 7:0.0459                     |\n",
            "|    3     |                1:0.0107, 2:0.0143, 3:0.1069, 5:0.0138, 6:0.0189, 7:0.8096                |\n",
            "|    4     |                                         3:0.9702                                         |\n",
            "|    5     |                     2:0.0122, 3:0.0441, 5:0.0118, 6:0.0160, 7:0.8847                     |\n",
            "|    6     |                               3:0.0324, 6:0.0117, 7:0.9153                               |\n",
            "|    7     |                          2:0.6540, 3:0.2823, 6:0.0131, 7:0.0151                          |\n",
            "|    8     |                1:0.1925, 2:0.0144, 3:0.4288, 5:0.0138, 6:0.0194, 7:0.3052                |\n",
            "|    9     |                     0:0.5365, 2:0.1131, 3:0.2325, 7:0.0832, 8:0.0224                     |\n",
            "|    10    |                               3:0.2585, 6:0.0475, 7:0.6857                               |\n",
            "|    11    |                                    3:0.0222, 7:0.9447                                    |\n",
            "|    12    |                                         3:0.9809                                         |\n",
            "|    13    |                                         3:0.9851                                         |\n",
            "|    14    |                          1:0.5196, 3:0.0994, 6:0.0134, 7:0.3334                          |\n",
            "|    15    |                                    3:0.0796, 7:0.8961                                    |\n",
            "|    16    | 0:0.0364, 1:0.0445, 2:0.0594, 3:0.2140, 4:0.0384, 5:0.4089, 6:0.0776, 7:0.0879, 8:0.0330 |\n",
            "|    17    |                          2:0.0101, 3:0.1013, 6:0.8372, 7:0.0159                          |\n",
            "|    18    |                          2:0.3904, 3:0.3542, 5:0.1381, 6:0.0921                          |\n",
            "|    19    | 0:0.0177, 1:0.0217, 2:0.5412, 3:0.2754, 4:0.0187, 5:0.0280, 6:0.0378, 7:0.0435, 8:0.0161 |\n",
            "|    20    |      0:0.0105, 1:0.8228, 2:0.0172, 3:0.0619, 4:0.0111, 5:0.0166, 6:0.0250, 7:0.0254      |\n",
            "|    21    |                                    3:0.0152, 7:0.9633                                    |\n",
            "|    22    | 0:0.0117, 1:0.0143, 2:0.0192, 3:0.2001, 4:0.0124, 5:0.0185, 6:0.0253, 7:0.6878, 8:0.0106 |\n",
            "|    23    |      0:0.0105, 1:0.0129, 2:0.0173, 3:0.0649, 4:0.0111, 5:0.0167, 6:0.1209, 7:0.7362      |\n",
            "|    24    | 0:0.0561, 1:0.0686, 2:0.0916, 3:0.3299, 4:0.0592, 5:0.0885, 6:0.1196, 7:0.1355, 8:0.0509 |\n",
            "|    25    |                               3:0.1859, 6:0.7691, 7:0.0114                               |\n",
            "|    26    | 0:0.0132, 1:0.0161, 2:0.0215, 3:0.8419, 4:0.0139, 5:0.0208, 6:0.0285, 7:0.0320, 8:0.0120 |\n",
            "|    27    | 0:0.0132, 1:0.0162, 2:0.0216, 3:0.8417, 4:0.0139, 5:0.0208, 6:0.0287, 7:0.0319, 8:0.0120 |\n",
            "|    28    |                                    1:0.9453, 3:0.0197                                    |\n",
            "|    29    |           1:0.0117, 2:0.0156, 3:0.0677, 4:0.0101, 5:0.8326, 6:0.0206, 7:0.0236           |\n",
            "|    30    | 0:0.0364, 1:0.0445, 2:0.0594, 3:0.2141, 4:0.3895, 5:0.0574, 6:0.0776, 7:0.0880, 8:0.0330 |\n",
            "|    31    | 0:0.0117, 1:0.0143, 2:0.0191, 3:0.0706, 4:0.0124, 5:0.0185, 6:0.8142, 7:0.0286, 8:0.0106 |\n",
            "|    32    |                1:0.7821, 2:0.0115, 3:0.1427, 5:0.0110, 6:0.0152, 7:0.0169                |\n",
            "|    33    |                          0:0.0455, 3:0.0708, 5:0.5820, 7:0.2813                          |\n",
            "|    34    |                     2:0.0132, 3:0.9034, 5:0.0127, 6:0.0174, 7:0.0196                     |\n",
            "|    35    |                                    3:0.0295, 4:0.9283                                    |\n",
            "|    36    |                                    1:0.8295, 3:0.1453                                    |\n",
            "|    37    |                               2:0.8903, 3:0.0216, 4:0.0633                               |\n",
            "|    38    | 0:0.0151, 1:0.0185, 2:0.1709, 3:0.0924, 4:0.0160, 5:0.0239, 6:0.6126, 7:0.0370, 8:0.0137 |\n",
            "|    39    |                               1:0.8036, 3:0.1393, 6:0.0400                               |\n",
            "|    40    | 0:0.0364, 1:0.0445, 2:0.0595, 3:0.5608, 4:0.0384, 5:0.0574, 6:0.0776, 7:0.0925, 8:0.0330 |\n",
            "|    41    | 0:0.0132, 1:0.0162, 2:0.0216, 3:0.2045, 4:0.0139, 5:0.1479, 6:0.5382, 7:0.0325, 8:0.0120 |\n",
            "|    42    |                1:0.0107, 2:0.0143, 3:0.0580, 5:0.0141, 6:0.8558, 7:0.0213                |\n",
            "|    43    |      0:0.8164, 1:0.0129, 2:0.0172, 3:0.0674, 4:0.0111, 5:0.0166, 6:0.0229, 7:0.0260      |\n",
            "|    44    |                               2:0.8958, 3:0.0662, 4:0.0267                               |\n",
            "|    45    |                          1:0.6555, 3:0.2805, 6:0.0128, 7:0.0154                          |\n",
            "|    46    |                               3:0.0271, 4:0.8930, 7:0.0503                               |\n",
            "|    47    |           1:0.2430, 2:0.0132, 3:0.4129, 4:0.2650, 5:0.0129, 6:0.0172, 7:0.0205           |\n",
            "|    48    |                                    1:0.9545, 3:0.0172                                    |\n",
            "|    49    | 0:0.0117, 1:0.0143, 2:0.1343, 3:0.7444, 4:0.0124, 5:0.0185, 6:0.0253, 7:0.0284, 8:0.0106 |\n",
            "|    50    | 0:0.0117, 1:0.0143, 2:0.0191, 3:0.8599, 4:0.0124, 5:0.0185, 6:0.0252, 7:0.0283, 8:0.0106 |\n",
            "|    51    |                     2:0.0114, 3:0.9163, 5:0.0110, 6:0.0152, 7:0.0169                     |\n",
            "|    52    |                     2:0.0122, 3:0.9103, 5:0.0118, 6:0.0162, 7:0.0181                     |\n",
            "|    53    |                1:0.0107, 2:0.4615, 3:0.0753, 5:0.3864, 6:0.0191, 7:0.0211                |\n",
            "|    54    |                               3:0.9299, 6:0.0124, 7:0.0148                               |\n",
            "|    55    |                                    3:0.0819, 7:0.9015                                    |\n",
            "|    56    |                               1:0.1228, 3:0.3098, 6:0.5436                               |\n",
            "|    57    |           1:0.0222, 2:0.0245, 3:0.1864, 4:0.0142, 5:0.0143, 6:0.2855, 8:0.4491           |\n",
            "|    58    |                                    3:0.9532, 7:0.0101                                    |\n",
            "|    59    |                               1:0.0236, 3:0.8730, 7:0.0858                               |\n",
            "|    60    | 0:0.0105, 1:0.0129, 2:0.0172, 3:0.3886, 4:0.0111, 5:0.0166, 6:0.0225, 7:0.0257, 8:0.4951 |\n",
            "|    61    |                               3:0.0244, 4:0.9051, 7:0.0445                               |\n",
            "|    62    |                          2:0.0293, 3:0.0153, 5:0.8571, 8:0.0776                          |\n",
            "|    63    |                2:0.0114, 3:0.5601, 5:0.0110, 6:0.0154, 7:0.0182, 8:0.3610                |\n",
            "|    64    |                                    3:0.9480, 7:0.0106                                    |\n",
            "|    65    |                                         3:0.9555                                         |\n",
            "|    66    |                1:0.0107, 2:0.0143, 3:0.1617, 5:0.0138, 6:0.7523, 7:0.0213                |\n",
            "|    67    |                          2:0.0554, 3:0.8152, 7:0.0114, 8:0.0862                          |\n",
            "|    68    |                          2:0.0563, 3:0.5226, 7:0.1456, 8:0.2595                          |\n",
            "|    69    | 0:0.0132, 1:0.0161, 2:0.0216, 3:0.2060, 4:0.5228, 5:0.1483, 6:0.0281, 7:0.0319, 8:0.0120 |\n",
            "|    70    |           1:0.0107, 2:0.0143, 3:0.3029, 4:0.6015, 5:0.0138, 6:0.0188, 7:0.0212           |\n",
            "|    71    |                          1:0.0257, 2:0.0978, 3:0.1298, 4:0.7288                          |\n",
            "|    72    |                                    3:0.0166, 7:0.9603                                    |\n",
            "|    73    |                               2:0.9193, 3:0.0332, 7:0.0116                               |\n",
            "|    74    | 0:0.0177, 1:0.4255, 2:0.0289, 3:0.3827, 4:0.0187, 5:0.0280, 6:0.0387, 7:0.0438, 8:0.0161 |\n",
            "|    75    |                                    3:0.0143, 7:0.9728                                    |\n",
            "|    76    | 0:0.0117, 1:0.7494, 2:0.0192, 3:0.1241, 4:0.0124, 5:0.0185, 6:0.0254, 7:0.0287, 8:0.0106 |\n",
            "|    77    |           1:0.7020, 2:0.0109, 3:0.0798, 5:0.0103, 6:0.0981, 7:0.0164, 8:0.0691           |\n",
            "|    78    | 0:0.0364, 1:0.0446, 2:0.0595, 3:0.2143, 4:0.0384, 5:0.0575, 6:0.0777, 7:0.4386, 8:0.0331 |\n",
            "|    79    |                0:0.8596, 2:0.0132, 3:0.0519, 5:0.0127, 6:0.0173, 7:0.0196                |\n",
            "|    80    | 0:0.0561, 1:0.0686, 2:0.0916, 3:0.3299, 4:0.0592, 5:0.0885, 6:0.1196, 7:0.1355, 8:0.0509 |\n",
            "|    81    |                               3:0.3326, 6:0.0116, 7:0.6171                               |\n",
            "|    82    |                                    3:0.0285, 7:0.9318                                    |\n",
            "|    83    |                     1:0.6540, 2:0.0100, 3:0.2798, 6:0.0133, 7:0.0150                     |\n",
            "|    84    |                          1:0.0910, 2:0.0632, 3:0.0352, 5:0.7977                          |\n",
            "|    85    |                     2:0.0101, 3:0.3069, 6:0.0132, 7:0.0150, 8:0.6250                     |\n",
            "|    86    | 0:0.3599, 1:0.0217, 2:0.0289, 3:0.4455, 4:0.0187, 5:0.0279, 6:0.0382, 7:0.0431, 8:0.0161 |\n",
            "|    87    |           1:0.2681, 2:0.0132, 3:0.3228, 5:0.0127, 6:0.0174, 7:0.0200, 8:0.3292           |\n",
            "|    88    |                                    2:0.9423, 3:0.0230                                    |\n",
            "|    89    | 0:0.0177, 1:0.0217, 2:0.0291, 3:0.3931, 4:0.0187, 5:0.0280, 6:0.4320, 7:0.0436, 8:0.0161 |\n",
            "|    90    |                     2:0.2002, 3:0.0526, 5:0.0104, 6:0.0140, 7:0.6955                     |\n",
            "|    91    |                               2:0.7880, 3:0.1201, 6:0.0766                               |\n",
            "|    92    |                               3:0.3405, 4:0.1595, 7:0.4653                               |\n",
            "|    93    |           1:0.0117, 2:0.0156, 3:0.8859, 4:0.0101, 5:0.0151, 6:0.0204, 7:0.0231           |\n",
            "|    94    |                          2:0.1248, 3:0.0493, 4:0.5904, 7:0.2135                          |\n",
            "|    95    |                     2:0.0132, 3:0.9036, 5:0.0128, 6:0.0172, 7:0.0195                     |\n",
            "|    96    |                1:0.0107, 2:0.0143, 3:0.8938, 5:0.0138, 6:0.0191, 7:0.0225                |\n",
            "|    97    |           1:0.0117, 2:0.0156, 3:0.0574, 4:0.0101, 5:0.0151, 6:0.0210, 7:0.8509           |\n",
            "|    98    |                          2:0.1322, 3:0.1209, 4:0.4926, 7:0.2377                          |\n",
            "|    99    |                2:0.0123, 3:0.0565, 4:0.8619, 5:0.0118, 6:0.0159, 7:0.0182                |\n",
            "|   100    |                          3:0.0394, 5:0.9032, 6:0.0117, 7:0.0137                          |\n",
            "|   101    | 0:0.0132, 1:0.0162, 2:0.0215, 3:0.0776, 4:0.0139, 5:0.7849, 6:0.0281, 7:0.0326, 8:0.0120 |\n",
            "|   102    |                          2:0.6744, 3:0.2166, 6:0.0462, 7:0.0518                          |\n",
            "|   103    |      0:0.0167, 1:0.0794, 2:0.0121, 3:0.1381, 4:0.0108, 5:0.6330, 6:0.0344, 7:0.0749      |\n",
            "|   104    | 0:0.0117, 1:0.0143, 2:0.0192, 3:0.3383, 4:0.0124, 5:0.5403, 6:0.0249, 7:0.0283, 8:0.0106 |\n",
            "|   105    |                          3:0.2093, 5:0.0805, 7:0.0860, 8:0.6006                          |\n",
            "|   106    |                     2:0.0107, 3:0.1790, 5:0.7529, 6:0.0143, 7:0.0158                     |\n",
            "|   107    |      0:0.0561, 1:0.0116, 2:0.0533, 3:0.2489, 4:0.0300, 5:0.1003, 6:0.4703, 7:0.0287      |\n",
            "|   108    |                1:0.0107, 2:0.0143, 3:0.8940, 5:0.0138, 6:0.0202, 7:0.0212                |\n",
            "|   109    |      0:0.0105, 1:0.0129, 2:0.1228, 3:0.7686, 4:0.0111, 5:0.0166, 6:0.0224, 7:0.0256      |\n",
            "|   110    |                0:0.1622, 2:0.0919, 3:0.2540, 4:0.0586, 5:0.0343, 6:0.3921                |\n",
            "|   111    |                     0:0.1918, 1:0.0316, 2:0.0953, 3:0.2010, 6:0.4729                     |\n",
            "|   112    |                          0:0.5986, 1:0.2337, 3:0.0655, 8:0.0786                          |\n",
            "|   113    |                     0:0.4897, 1:0.1881, 3:0.1780, 7:0.0494, 8:0.0822                     |\n",
            "|   114    |                     1:0.0417, 2:0.0269, 3:0.1430, 5:0.7374, 6:0.0388                     |\n",
            "|   115    |           1:0.2483, 2:0.0157, 3:0.6484, 4:0.0101, 5:0.0151, 6:0.0210, 7:0.0233           |\n",
            "|   116    |      0:0.5882, 1:0.0107, 2:0.0143, 3:0.2279, 4:0.0972, 5:0.0138, 6:0.0187, 7:0.0212      |\n",
            "|   117    |                     0:0.4887, 3:0.3940, 4:0.0619, 6:0.0120, 7:0.0140                     |\n",
            "|   118    |      0:0.0105, 1:0.0129, 2:0.0172, 3:0.1725, 4:0.0111, 5:0.6144, 6:0.1262, 7:0.0257      |\n",
            "|   119    |                     1:0.2382, 3:0.5761, 5:0.0760, 6:0.0119, 7:0.0725                     |\n",
            "|   120    |                          1:0.0320, 3:0.5163, 5:0.3600, 7:0.0736                          |\n",
            "|   121    |                                    2:0.7463, 3:0.2247                                    |\n",
            "|   122    |                0:0.0830, 2:0.0122, 3:0.3614, 5:0.0118, 6:0.4896, 7:0.0182                |\n",
            "|   123    |                          0:0.0331, 3:0.3124, 6:0.5794, 8:0.0505                          |\n",
            "|   124    |                     0:0.0390, 2:0.0798, 3:0.3794, 4:0.0528, 6:0.4265                     |\n",
            "|   125    |                     2:0.0132, 3:0.9032, 5:0.0127, 6:0.0174, 7:0.0197                     |\n",
            "|   126    | 0:0.0269, 1:0.0330, 2:0.0440, 3:0.6781, 4:0.0284, 5:0.0425, 6:0.0575, 7:0.0651, 8:0.0245 |\n",
            "|   127    | 0:0.0213, 1:0.0261, 2:0.0349, 3:0.1326, 4:0.0225, 5:0.6458, 6:0.0457, 7:0.0516, 8:0.0194 |\n",
            "|   128    |                1:0.3146, 2:0.1420, 3:0.3120, 4:0.0409, 6:0.1148, 7:0.0627                |\n",
            "|   129    |                          0:0.0580, 3:0.0957, 6:0.0113, 7:0.8015                          |\n",
            "|   130    |                          3:0.4968, 5:0.3772, 6:0.0775, 7:0.0147                          |\n",
            "|   131    | 0:0.0213, 1:0.0262, 2:0.0349, 3:0.1563, 4:0.0225, 5:0.0337, 6:0.2629, 7:0.4228, 8:0.0194 |\n",
            "|   132    |                1:0.0977, 2:0.0107, 3:0.3272, 5:0.0103, 6:0.5186, 7:0.0161                |\n",
            "|   133    |                     3:0.0296, 4:0.0539, 5:0.3803, 6:0.5003, 7:0.0122                     |\n",
            "|   134    | 0:0.0151, 1:0.0185, 2:0.0247, 3:0.3343, 4:0.0160, 5:0.0239, 6:0.0322, 7:0.5215, 8:0.0137 |\n",
            "|   135    |                0:0.1612, 1:0.0501, 3:0.3457, 4:0.2646, 5:0.0199, 7:0.1509                |\n",
            "|   136    |                     1:0.0625, 3:0.0484, 4:0.0291, 5:0.5686, 6:0.2769                     |\n",
            "|   137    |                          2:0.0393, 3:0.2785, 4:0.0936, 8:0.5619                          |\n",
            "|   138    | 0:0.2870, 1:0.0329, 2:0.0439, 3:0.1583, 4:0.0284, 5:0.0425, 6:0.0574, 7:0.3251, 8:0.0244 |\n",
            "|   139    |           1:0.0117, 2:0.2588, 3:0.1774, 4:0.0101, 5:0.2786, 6:0.0206, 7:0.2247           |\n",
            "|   140    |                     2:0.0132, 3:0.2026, 5:0.6529, 6:0.0179, 7:0.0797                     |\n",
            "|   141    | 0:0.0117, 1:0.0143, 2:0.0191, 3:0.8602, 4:0.0124, 5:0.0185, 6:0.0249, 7:0.0283, 8:0.0106 |\n",
            "|   142    |                          2:0.0451, 3:0.0985, 5:0.1182, 7:0.7127                          |\n",
            "|   143    |                          3:0.1169, 5:0.6626, 6:0.1496, 7:0.0553                          |\n",
            "|   144    | 0:0.0177, 1:0.0217, 2:0.4962, 3:0.3208, 4:0.0187, 5:0.0279, 6:0.0379, 7:0.0431, 8:0.0161 |\n",
            "|   145    | 0:0.0213, 1:0.0262, 2:0.0349, 3:0.1565, 4:0.0225, 5:0.0337, 6:0.2629, 7:0.4226, 8:0.0194 |\n",
            "|   146    | 0:0.0269, 1:0.0330, 2:0.0440, 3:0.4064, 4:0.0284, 5:0.0426, 6:0.3291, 7:0.0651, 8:0.0245 |\n",
            "|   147    |           1:0.0117, 2:0.2341, 3:0.5099, 4:0.0101, 5:0.0151, 6:0.1779, 7:0.0232           |\n",
            "|   148    | 0:0.0177, 1:0.0217, 2:0.0289, 3:0.5177, 4:0.2882, 5:0.0279, 6:0.0378, 7:0.0440, 8:0.0161 |\n",
            "|   149    |                                    3:0.0904, 4:0.8659                                    |\n",
            "|   150    |                     0:0.1451, 2:0.0100, 3:0.0392, 6:0.6860, 7:0.0904                     |\n",
            "|   151    |                     2:0.0100, 3:0.0388, 4:0.0726, 6:0.8345, 7:0.0152                     |\n",
            "|   152    |                     2:0.0122, 3:0.2783, 5:0.0118, 6:0.6482, 7:0.0182                     |\n",
            "|   153    |                               3:0.0758, 6:0.8796, 7:0.0110                               |\n",
            "|   154    |                     0:0.1598, 2:0.0418, 3:0.1035, 6:0.5015, 7:0.1757                     |\n",
            "|   155    |                     2:0.0424, 3:0.2994, 4:0.2949, 6:0.1330, 7:0.2140                     |\n",
            "|   156    |      0:0.0105, 1:0.0129, 2:0.0172, 3:0.2564, 4:0.0111, 5:0.0167, 6:0.5216, 7:0.1442      |\n",
            "|   157    |                          3:0.0942, 5:0.7310, 6:0.0124, 7:0.1303                          |\n",
            "|   158    |                                    3:0.2619, 6:0.7096                                    |\n",
            "|   159    |                0:0.1093, 2:0.2299, 3:0.5990, 5:0.0103, 6:0.0144, 7:0.0163                |\n",
            "|   160    |           2:0.0107, 3:0.3025, 4:0.1620, 5:0.0104, 6:0.0161, 7:0.0162, 8:0.4676           |\n",
            "|   161    |                0:0.1093, 2:0.2299, 3:0.5990, 5:0.0103, 6:0.0144, 7:0.0163                |\n",
            "|   162    |                     0:0.4184, 3:0.1996, 6:0.2316, 7:0.0140, 8:0.1063                     |\n",
            "|   163    |           0:0.3855, 3:0.0862, 4:0.0879, 5:0.2862, 6:0.0126, 7:0.0940, 8:0.0458           |\n",
            "|   164    | 0:0.0151, 1:0.0185, 2:0.0247, 3:0.8194, 4:0.0160, 5:0.0239, 6:0.0322, 7:0.0365, 8:0.0137 |\n",
            "|   165    | 0:0.0117, 1:0.0143, 2:0.0191, 3:0.6343, 4:0.0124, 5:0.2442, 6:0.0252, 7:0.0283, 8:0.0106 |\n",
            "|   166    |      0:0.0105, 1:0.0129, 2:0.0172, 3:0.8744, 4:0.0111, 5:0.0166, 6:0.0224, 7:0.0254      |\n",
            "|   167    |                          3:0.6753, 4:0.2731, 6:0.0101, 7:0.0115                          |\n",
            "|   168    |                          3:0.4614, 5:0.0324, 6:0.3864, 7:0.1055                          |\n",
            "|   169    | 0:0.0117, 1:0.0143, 2:0.0191, 3:0.0902, 4:0.1254, 5:0.4635, 6:0.0259, 7:0.0283, 8:0.2215 |\n",
            "|   170    |                          3:0.8610, 4:0.0483, 5:0.0501, 7:0.0107                          |\n",
            "|   171    |                0:0.0402, 1:0.0198, 3:0.1149, 5:0.6303, 6:0.1367, 7:0.0541                |\n",
            "|   172    |                     2:0.0840, 3:0.5782, 4:0.0425, 7:0.0102, 8:0.2612                     |\n",
            "|   173    | 0:0.0132, 1:0.0161, 2:0.0215, 3:0.0776, 4:0.2689, 5:0.5302, 6:0.0286, 7:0.0319, 8:0.0120 |\n",
            "|   174    | 0:0.0132, 1:0.0161, 2:0.0215, 3:0.2159, 4:0.0139, 5:0.0209, 6:0.0281, 7:0.3966, 8:0.2737 |\n",
            "|   175    |                          3:0.2982, 5:0.1770, 7:0.1095, 8:0.3997                          |\n",
            "|   176    | 0:0.7445, 1:0.0185, 2:0.0247, 3:0.0895, 4:0.0160, 5:0.0239, 6:0.0323, 7:0.0370, 8:0.0137 |\n",
            "|   177    |                     1:0.0520, 2:0.0344, 3:0.1051, 7:0.0747, 8:0.7160                     |\n",
            "|   178    |      0:0.8227, 1:0.0129, 2:0.0172, 3:0.0621, 4:0.0111, 5:0.0166, 6:0.0225, 7:0.0256      |\n",
            "|   179    |                               3:0.8747, 6:0.0124, 7:0.0700                               |\n",
            "|   180    |                     3:0.3478, 4:0.1690, 5:0.0660, 6:0.3752, 7:0.0143                     |\n",
            "|   181    |                0:0.8642, 2:0.0132, 3:0.0475, 5:0.0127, 6:0.0172, 7:0.0196                |\n",
            "|   182    |           1:0.0107, 2:0.0143, 3:0.6436, 5:0.0138, 6:0.0187, 7:0.1882, 8:0.0928           |\n",
            "|   183    |                     0:0.6293, 3:0.1717, 4:0.0684, 5:0.0415, 6:0.0696                     |\n",
            "|   184    |                0:0.8898, 2:0.0107, 3:0.0386, 5:0.0103, 6:0.0140, 7:0.0159                |\n",
            "|   185    | 0:0.0117, 1:0.0143, 2:0.0192, 3:0.6085, 4:0.0124, 5:0.0187, 6:0.2759, 7:0.0287, 8:0.0106 |\n",
            "|   186    |                          0:0.9023, 3:0.0342, 6:0.0124, 7:0.0141                          |\n",
            "|   187    | 0:0.0269, 1:0.0329, 2:0.0439, 3:0.1583, 4:0.5485, 5:0.0425, 6:0.0574, 7:0.0650, 8:0.0244 |\n",
            "|   188    |                          3:0.3706, 5:0.0728, 6:0.4041, 7:0.1445                          |\n",
            "|   189    |           0:0.0859, 2:0.0132, 3:0.3520, 5:0.3292, 6:0.0173, 7:0.0195, 8:0.1646           |\n",
            "|   190    |                          0:0.9122, 3:0.0307, 6:0.0111, 7:0.0126                          |\n",
            "|   191    |           1:0.0278, 2:0.0520, 3:0.2859, 4:0.2223, 5:0.0375, 6:0.0136, 8:0.3574           |\n",
            "|   192    |                          3:0.5388, 5:0.0265, 6:0.3149, 7:0.1079                          |\n",
            "|   193    |                          3:0.2101, 5:0.2261, 6:0.3691, 7:0.1833                          |\n",
            "|   194    |                2:0.0538, 3:0.0276, 4:0.0887, 5:0.3362, 6:0.4265, 7:0.0542                |\n",
            "|   195    |                2:0.0831, 3:0.0360, 4:0.0993, 5:0.4871, 6:0.2162, 7:0.0641                |\n",
            "|   196    |                     3:0.1314, 4:0.1493, 5:0.0583, 6:0.0106, 7:0.6268                     |\n",
            "|   197    |                2:0.0644, 3:0.0281, 4:0.0835, 5:0.5831, 6:0.1751, 7:0.0542                |\n",
            "|   198    |                2:0.0591, 3:0.0258, 4:0.0772, 5:0.6137, 6:0.1628, 7:0.0504                |\n",
            "|   199    | 0:0.0269, 1:0.0329, 2:0.0439, 3:0.4184, 4:0.0284, 5:0.3025, 6:0.0574, 7:0.0650, 8:0.0244 |\n",
            "|   200    |                               3:0.8410, 6:0.0821, 7:0.0521                               |\n",
            "|   201    | 0:0.0177, 1:0.0217, 2:0.0289, 3:0.2752, 4:0.0187, 5:0.5408, 6:0.0381, 7:0.0428, 8:0.0161 |\n",
            "|   202    | 0:0.0117, 1:0.0143, 2:0.0191, 3:0.3076, 4:0.0124, 5:0.5710, 6:0.0251, 7:0.0283, 8:0.0106 |\n",
            "|   203    |                     1:0.0516, 3:0.3423, 5:0.0568, 7:0.1101, 8:0.4148                     |\n",
            "|   204    | 0:0.0269, 1:0.0330, 2:0.0440, 3:0.6774, 4:0.0284, 5:0.0425, 6:0.0583, 7:0.0650, 8:0.0244 |\n",
            "|   205    |                0:0.3551, 1:0.0448, 3:0.2565, 5:0.2047, 7:0.0947, 8:0.0360                |\n",
            "|   206    | 0:0.0177, 1:0.0217, 2:0.0289, 3:0.1117, 4:0.0187, 5:0.2004, 6:0.0378, 7:0.5471, 8:0.0161 |\n",
            "|   207    |      0:0.0105, 1:0.0129, 2:0.0172, 3:0.0664, 4:0.0111, 5:0.1201, 6:0.0224, 7:0.7299      |\n",
            "|   208    | 0:0.0269, 1:0.0329, 2:0.0439, 3:0.1651, 4:0.0284, 5:0.0425, 6:0.0574, 7:0.0653, 8:0.5375 |\n",
            "|   209    |                          1:0.0548, 3:0.3656, 4:0.3897, 7:0.1708                          |\n",
            "|   210    | 0:0.0151, 1:0.0185, 2:0.0247, 3:0.1145, 4:0.0160, 5:0.0239, 6:0.0323, 7:0.7414, 8:0.0137 |\n",
            "|   211    |                2:0.0122, 3:0.0806, 5:0.0118, 6:0.0162, 7:0.7851, 8:0.0696                |\n",
            "|   212    |                2:0.0122, 3:0.0843, 5:0.0118, 6:0.0172, 7:0.3674, 8:0.4826                |\n",
            "|   213    |           1:0.0107, 2:0.0143, 3:0.0669, 4:0.8378, 5:0.0139, 6:0.0187, 7:0.0211           |\n",
            "|   214    |                2:0.0114, 3:0.0594, 5:0.0110, 6:0.1980, 7:0.2425, 8:0.4548                |\n",
            "|   215    |                2:0.0114, 3:0.0733, 5:0.0110, 6:0.0158, 7:0.4193, 8:0.4463                |\n",
            "|   216    | 0:0.0132, 1:0.0162, 2:0.0216, 3:0.4299, 4:0.0139, 5:0.4321, 6:0.0282, 7:0.0329, 8:0.0120 |\n",
            "|   217    |                     3:0.0449, 4:0.1265, 6:0.2511, 7:0.1994, 8:0.3523                     |\n",
            "|   218    |                               0:0.8064, 3:0.1215, 6:0.0415                               |\n",
            "|   219    |                               0:0.7935, 3:0.1410, 6:0.0377                               |\n",
            "|   220    |                               0:0.7888, 3:0.1529, 6:0.0336                               |\n",
            "|   221    |                          2:0.1271, 3:0.4151, 6:0.4142, 7:0.0162                          |\n",
            "|   222    |                0:0.0735, 2:0.0549, 3:0.2179, 5:0.0422, 6:0.4082, 7:0.1977                |\n",
            "|   223    |                          3:0.3074, 5:0.2820, 6:0.3690, 7:0.0128                          |\n",
            "|   224    | 0:0.6395, 1:0.0143, 2:0.0191, 3:0.2321, 4:0.0124, 5:0.0185, 6:0.0251, 7:0.0284, 8:0.0106 |\n",
            "|   225    | 0:0.0214, 1:0.0262, 2:0.0350, 3:0.1310, 4:0.0225, 5:0.0341, 6:0.6496, 7:0.0608, 8:0.0194 |\n",
            "|   226    |                          0:0.8183, 3:0.1298, 6:0.0101, 7:0.0115                          |\n",
            "|   227    |                0:0.8271, 2:0.0107, 3:0.1014, 5:0.0103, 6:0.0139, 7:0.0158                |\n",
            "|   228    | 0:0.0269, 1:0.0329, 2:0.0439, 3:0.1651, 4:0.0284, 5:0.0425, 6:0.0574, 7:0.0653, 8:0.5374 |\n",
            "|   229    |           1:0.0117, 2:0.0156, 3:0.0585, 4:0.7337, 5:0.0151, 6:0.0205, 7:0.1268           |\n",
            "|   230    |                     2:0.0694, 3:0.3923, 6:0.1318, 7:0.0159, 8:0.3607                     |\n",
            "|   231    |                     0:0.0271, 1:0.0722, 3:0.7039, 6:0.0531, 7:0.1305                     |\n",
            "|   232    |                0:0.6354, 2:0.0107, 3:0.2926, 5:0.0103, 6:0.0142, 7:0.0160                |\n",
            "|   233    |                     2:0.0114, 3:0.9166, 5:0.0110, 6:0.0149, 7:0.0169                     |\n",
            "|   234    |                     3:0.6378, 4:0.0401, 5:0.0433, 6:0.1035, 7:0.1581                     |\n",
            "|   235    |                2:0.0450, 3:0.6857, 4:0.0398, 5:0.1347, 6:0.0416, 7:0.0474                |\n",
            "|   236    |                1:0.1342, 2:0.0107, 3:0.5917, 5:0.0104, 6:0.1512, 7:0.0825                |\n",
            "|   237    | 0:0.0269, 1:0.0329, 2:0.0439, 3:0.6723, 4:0.0284, 5:0.0425, 6:0.0579, 7:0.0707, 8:0.0244 |\n",
            "|   238    |                     2:0.0114, 3:0.2822, 5:0.6453, 6:0.0149, 7:0.0169                     |\n",
            "|   239    | 0:0.0132, 1:0.0161, 2:0.4030, 3:0.4610, 4:0.0139, 5:0.0208, 6:0.0281, 7:0.0319, 8:0.0120 |\n",
            "|   240    |                          2:0.1422, 3:0.7177, 5:0.0503, 6:0.0748                          |\n",
            "|   241    |                0:0.0618, 2:0.1216, 3:0.2022, 5:0.5695, 6:0.0124, 7:0.0140                |\n",
            "|   242    |                          2:0.1532, 3:0.6854, 5:0.0533, 6:0.0937                          |\n",
            "|   243    |                1:0.1119, 2:0.0145, 3:0.7935, 5:0.0138, 6:0.0189, 7:0.0215                |\n",
            "|   244    |                          1:0.1989, 3:0.0471, 6:0.0117, 7:0.7084                          |\n",
            "|   245    |                0:0.0859, 2:0.0132, 3:0.7468, 5:0.0127, 6:0.0172, 7:0.0986                |\n",
            "|   246    |                1:0.0884, 2:0.0114, 3:0.3064, 5:0.0110, 6:0.1013, 7:0.4609                |\n",
            "|   247    |                          1:0.0716, 3:0.3199, 6:0.0860, 7:0.4886                          |\n",
            "|   248    |                               3:0.6327, 6:0.0854, 7:0.2631                               |\n",
            "|   249    |                     0:0.0263, 1:0.1421, 3:0.6511, 6:0.0380, 7:0.1296                     |\n",
            "|   250    |                1:0.6988, 2:0.0132, 3:0.0589, 5:0.0128, 6:0.0174, 7:0.1751                |\n",
            "|   251    |                     1:0.0617, 3:0.2106, 6:0.6057, 7:0.0134, 8:0.0812                     |\n",
            "|   252    |                     1:0.7407, 2:0.0100, 3:0.0422, 6:0.0132, 7:0.1659                     |\n",
            "|   253    | 0:0.0151, 1:0.7398, 2:0.0247, 3:0.0929, 4:0.0160, 5:0.0239, 6:0.0327, 7:0.0411, 8:0.0137 |\n",
            "|   254    |                1:0.8875, 2:0.0107, 3:0.0422, 5:0.0103, 6:0.0139, 7:0.0160                |\n",
            "|   255    |      0:0.1119, 1:0.0129, 2:0.6046, 3:0.0620, 4:0.1345, 5:0.0166, 6:0.0226, 7:0.0254      |\n",
            "|   256    |                0:0.0512, 1:0.1263, 3:0.0317, 5:0.1949, 7:0.1680, 8:0.4179                |\n",
            "|   257    |                1:0.4049, 3:0.2117, 5:0.2329, 6:0.0673, 7:0.0503, 8:0.0256                |\n",
            "|   258    |                     2:0.1012, 3:0.1035, 5:0.6721, 6:0.0675, 8:0.0399                     |\n",
            "|   259    |      0:0.1759, 1:0.5568, 2:0.0172, 3:0.0627, 4:0.1126, 5:0.0166, 6:0.0225, 7:0.0261      |\n",
            "|   260    | 0:0.0859, 1:0.1938, 2:0.0132, 3:0.1137, 4:0.2112, 5:0.0127, 6:0.0183, 7:0.0508, 8:0.3005 |\n",
            "|   261    |                          0:0.0920, 1:0.8353, 3:0.0284, 7:0.0112                          |\n",
            "|   262    |      0:0.1775, 1:0.0107, 2:0.0143, 3:0.0517, 5:0.0138, 6:0.0186, 7:0.0213, 8:0.6829      |\n",
            "|   263    |                0:0.2068, 1:0.1041, 3:0.0816, 6:0.0111, 7:0.0127, 8:0.5613                |\n",
            "|   264    | 0:0.0132, 1:0.0161, 2:0.0216, 3:0.1028, 4:0.0139, 5:0.2757, 6:0.5118, 7:0.0328, 8:0.0120 |\n",
            "|   265    |                2:0.0132, 3:0.6546, 4:0.0900, 5:0.0128, 6:0.1056, 7:0.0986                |\n",
            "|   266    | 0:0.0151, 1:0.0185, 2:0.0248, 3:0.8190, 4:0.0160, 5:0.0239, 6:0.0324, 7:0.0366, 8:0.0137 |\n",
            "|   267    |                     1:0.1083, 3:0.0865, 5:0.2030, 6:0.4781, 7:0.1082                     |\n",
            "|   268    | 0:0.0177, 1:0.5348, 2:0.0289, 3:0.1041, 4:0.1898, 5:0.0281, 6:0.0378, 7:0.0428, 8:0.0161 |\n",
            "|   269    |      0:0.0272, 1:0.0929, 2:0.0576, 3:0.0282, 5:0.6320, 6:0.0107, 7:0.1269, 8:0.0149      |\n",
            "|   270    |                     0:0.0332, 3:0.1063, 4:0.0369, 5:0.6784, 6:0.1354                     |\n",
            "|   271    |                          0:0.3270, 1:0.5336, 2:0.0845, 3:0.0246                          |\n",
            "|   272    |                1:0.0711, 3:0.1374, 4:0.0622, 5:0.0343, 6:0.2477, 7:0.4370                |\n",
            "|   273    |                1:0.1169, 3:0.0477, 5:0.1449, 6:0.4863, 7:0.1695, 8:0.0276                |\n",
            "|   274    |                     1:0.1140, 3:0.2009, 5:0.2686, 6:0.3347, 7:0.0720                     |\n",
            "|   275    |                1:0.0903, 2:0.0100, 3:0.0378, 6:0.0132, 7:0.1958, 8:0.6305                |\n",
            "|   276    |                          1:0.2103, 3:0.2662, 6:0.0114, 7:0.4798                          |\n",
            "|   277    |                     1:0.0166, 2:0.0890, 3:0.0454, 7:0.0809, 8:0.7602                     |\n",
            "|   278    | 0:0.0214, 1:0.0262, 2:0.0349, 3:0.4853, 4:0.0225, 5:0.0338, 6:0.0463, 7:0.3103, 8:0.0194 |\n",
            "|   279    |           0:0.1806, 2:0.0560, 3:0.1227, 4:0.1250, 5:0.2837, 6:0.2133, 7:0.0102           |\n",
            "|   280    | 0:0.0117, 1:0.0143, 2:0.0191, 3:0.8601, 4:0.0124, 5:0.0185, 6:0.0249, 7:0.0284, 8:0.0106 |\n",
            "|   281    |                2:0.0114, 3:0.8493, 5:0.0110, 6:0.0149, 7:0.0169, 8:0.0737                |\n",
            "|   282    | 0:0.0177, 1:0.0217, 2:0.7028, 3:0.1136, 4:0.0187, 5:0.0281, 6:0.0386, 7:0.0428, 8:0.0161 |\n",
            "|   283    |                2:0.7544, 3:0.0453, 4:0.1303, 5:0.0118, 6:0.0167, 7:0.0181                |\n",
            "|   284    |                          0:0.4470, 1:0.4850, 3:0.0274, 7:0.0103                          |\n",
            "|   285    |                     1:0.8511, 3:0.0349, 4:0.0607, 6:0.0117, 7:0.0135                     |\n",
            "|   286    |           0:0.0796, 2:0.5786, 3:0.0440, 4:0.0915, 5:0.0119, 6:0.0161, 7:0.1624           |\n",
            "|   287    |                0:0.1115, 2:0.6393, 3:0.0333, 4:0.0643, 6:0.0118, 7:0.1193                |\n",
            "|   288    |           1:0.0733, 2:0.1548, 3:0.1625, 5:0.4368, 6:0.0132, 7:0.0756, 8:0.0711           |\n",
            "|   289    |      0:0.2863, 1:0.0117, 2:0.0156, 3:0.1637, 4:0.0101, 5:0.4597, 6:0.0209, 7:0.0233      |\n",
            "|   290    |                     2:0.0132, 3:0.9034, 5:0.0127, 6:0.0175, 7:0.0195                     |\n",
            "|   291    |                2:0.0497, 3:0.1489, 4:0.0559, 5:0.0956, 6:0.1469, 7:0.4993                |\n",
            "|   292    | 0:0.0410, 1:0.0322, 2:0.0140, 3:0.0142, 4:0.0172, 5:0.5984, 6:0.1749, 7:0.0908, 8:0.0173 |\n",
            "|   293    |                          2:0.0100, 3:0.9264, 6:0.0133, 7:0.0149                          |\n",
            "|   294    |                2:0.0132, 3:0.6449, 5:0.0127, 6:0.0173, 7:0.1577, 8:0.1278                |\n",
            "|   295    |                               3:0.9405, 6:0.0107, 7:0.0120                               |\n",
            "|   296    |                     3:0.2682, 4:0.1165, 5:0.4456, 6:0.0561, 7:0.0953                     |\n",
            "|   297    |                          3:0.3034, 5:0.1705, 6:0.4825, 7:0.0132                          |\n",
            "|   298    | 0:0.0132, 1:0.0161, 2:0.0216, 3:0.4913, 4:0.0139, 5:0.0209, 6:0.3759, 7:0.0350, 8:0.0120 |\n",
            "|   299    |                               3:0.3393, 6:0.6082, 7:0.0137                               |\n",
            "|   300    |                3:0.1424, 4:0.0827, 5:0.4284, 6:0.1490, 7:0.1355, 8:0.0481                |\n",
            "|   301    |           1:0.1094, 2:0.0132, 3:0.6132, 5:0.0127, 6:0.0177, 7:0.0195, 8:0.1976           |\n",
            "|   302    |                          1:0.0477, 2:0.0530, 3:0.8612, 7:0.0102                          |\n",
            "|   303    |                0:0.0715, 2:0.5678, 3:0.1115, 4:0.0461, 6:0.0741, 7:0.1141                |\n",
            "|   304    |                1:0.0379, 2:0.0769, 3:0.1768, 5:0.5740, 7:0.0734, 8:0.0470                |\n",
            "|   305    |                          1:0.0516, 3:0.0280, 6:0.1713, 7:0.7223                          |\n",
            "|   306    |                3:0.7141, 4:0.0222, 5:0.0979, 6:0.0433, 7:0.0358, 8:0.0797                |\n",
            "|   307    |                          1:0.4313, 3:0.1948, 5:0.1722, 7:0.1827                          |\n",
            "|   308    |                0:0.5299, 1:0.1080, 2:0.1057, 3:0.0258, 6:0.1809, 8:0.0365                |\n",
            "|   309    | 0:0.0269, 1:0.0329, 2:0.0439, 3:0.1583, 4:0.0284, 5:0.0425, 6:0.0584, 7:0.5842, 8:0.0244 |\n",
            "|   310    | 0:0.0117, 1:0.0143, 2:0.5971, 3:0.1692, 4:0.0124, 5:0.0185, 6:0.1380, 7:0.0283, 8:0.0106 |\n",
            "|   311    |                               2:0.1095, 3:0.8070, 5:0.0628                               |\n",
            "|   312    |                     0:0.0666, 1:0.0407, 3:0.0241, 6:0.1442, 7:0.7064                     |\n",
            "|   313    | 0:0.0117, 1:0.0143, 2:0.0191, 3:0.6071, 4:0.0124, 5:0.0185, 6:0.0250, 7:0.1683, 8:0.1237 |\n",
            "|   314    |                          3:0.4332, 4:0.0916, 7:0.2098, 8:0.2406                          |\n",
            "|   315    |                          3:0.3395, 4:0.1399, 7:0.2538, 8:0.2395                          |\n",
            "|   316    |                               3:0.1767, 4:0.0764, 7:0.7175                               |\n",
            "|   317    |                     1:0.0703, 3:0.7783, 6:0.0106, 7:0.0122, 8:0.1024                     |\n",
            "|   318    | 0:0.0214, 1:0.0261, 2:0.0349, 3:0.3320, 4:0.0225, 5:0.0337, 6:0.4584, 7:0.0516, 8:0.0194 |\n",
            "|   319    |                     3:0.1056, 4:0.0878, 5:0.0508, 6:0.0798, 7:0.6655                     |\n",
            "|   320    |                     0:0.0483, 1:0.0509, 3:0.7214, 7:0.1005, 8:0.0497                     |\n",
            "|   321    |                          1:0.4144, 3:0.1700, 5:0.2063, 7:0.1922                          |\n",
            "|   322    |                0:0.0411, 1:0.0431, 2:0.0439, 3:0.7262, 7:0.0853, 8:0.0420                |\n",
            "|   323    |                2:0.0122, 3:0.4957, 5:0.0118, 6:0.0160, 7:0.2302, 8:0.2094                |\n",
            "|   324    |                               2:0.0953, 3:0.8297, 5:0.0564                               |\n",
            "|   325    |                2:0.6228, 3:0.0604, 4:0.1642, 5:0.0127, 6:0.0175, 7:0.0972                |\n",
            "|   326    |                     2:0.5997, 3:0.2365, 4:0.0429, 5:0.0449, 7:0.0548                     |\n",
            "|   327    |                0:0.0346, 2:0.5916, 3:0.2454, 4:0.0348, 5:0.0364, 7:0.0432                |\n",
            "|   328    |                2:0.5658, 3:0.0596, 4:0.1962, 5:0.0103, 6:0.0141, 7:0.1335                |\n",
            "|   329    |      0:0.0465, 1:0.0304, 2:0.0310, 3:0.5477, 5:0.0670, 6:0.1508, 7:0.0678, 8:0.0559      |\n",
            "|   330    | 0:0.0151, 1:0.0185, 2:0.0247, 3:0.0889, 4:0.0160, 5:0.0239, 6:0.3223, 7:0.0387, 8:0.4520 |\n",
            "|   331    |                     1:0.0768, 2:0.2965, 3:0.5244, 5:0.0415, 8:0.0386                     |\n",
            "|   332    |                          2:0.3967, 3:0.4996, 5:0.0392, 7:0.0439                          |\n",
            "|   333    |                     1:0.0506, 2:0.0507, 3:0.7263, 6:0.1420, 7:0.0106                     |\n",
            "|   334    |                     0:0.0310, 2:0.5187, 3:0.3719, 5:0.0306, 7:0.0340                     |\n",
            "|   335    |                     1:0.1036, 3:0.3406, 5:0.1599, 6:0.0919, 7:0.2774                     |\n",
            "|   336    | 0:0.0561, 1:0.0686, 2:0.0916, 3:0.3299, 4:0.0592, 5:0.0885, 6:0.1196, 7:0.1355, 8:0.0509 |\n",
            "|   337    |      0:0.0244, 1:0.0672, 3:0.6495, 4:0.0165, 5:0.0229, 6:0.0689, 7:0.0979, 8:0.0508      |\n",
            "|   338    |      0:0.0105, 1:0.0129, 2:0.4226, 3:0.2650, 4:0.1127, 5:0.1180, 6:0.0233, 7:0.0254      |\n",
            "|   339    |           1:0.0355, 2:0.0348, 3:0.1805, 5:0.0283, 6:0.0576, 7:0.0630, 8:0.5976           |\n",
            "|   340    |           1:0.0970, 2:0.4221, 3:0.1398, 4:0.0343, 5:0.1746, 7:0.0694, 8:0.0592           |\n",
            "|   341    | 0:0.0132, 1:0.1435, 2:0.0215, 3:0.4012, 4:0.1638, 5:0.1817, 6:0.0281, 7:0.0350, 8:0.0120 |\n",
            "|   342    | 0:0.0177, 1:0.0217, 2:0.1507, 3:0.6647, 4:0.0187, 5:0.0279, 6:0.0395, 7:0.0429, 8:0.0161 |\n",
            "|   343    |                1:0.0107, 2:0.0143, 3:0.3150, 5:0.0138, 6:0.5990, 7:0.0214                |\n",
            "|   344    | 0:0.0177, 1:0.5349, 2:0.0289, 3:0.2752, 4:0.0187, 5:0.0279, 6:0.0378, 7:0.0428, 8:0.0161 |\n",
            "|   345    |                          1:0.0799, 3:0.2165, 6:0.5810, 7:0.0987                          |\n",
            "|   346    | 0:0.0177, 1:0.0217, 2:0.0289, 3:0.5964, 4:0.0187, 5:0.0279, 6:0.2290, 7:0.0435, 8:0.0161 |\n",
            "|   347    |                     2:0.6433, 3:0.2883, 5:0.0103, 6:0.0144, 7:0.0163                     |\n",
            "|   348    |                          0:0.0287, 3:0.5939, 7:0.2489, 8:0.1081                          |\n",
            "|   349    |      0:0.0105, 1:0.0129, 2:0.6200, 3:0.0618, 4:0.0111, 5:0.0166, 6:0.0224, 7:0.2351      |\n",
            "|   350    |                     1:0.0785, 2:0.3810, 3:0.2391, 7:0.1813, 8:0.0999                     |\n",
            "|   351    | 0:0.0117, 1:0.0143, 2:0.0191, 3:0.7440, 4:0.0124, 5:0.0185, 6:0.0253, 7:0.1442, 8:0.0106 |\n",
            "|   352    |      0:0.0105, 1:0.1144, 2:0.6177, 3:0.0777, 4:0.0111, 5:0.0166, 6:0.1155, 7:0.0270      |\n",
            "|   353    |      0:0.0105, 1:0.0129, 2:0.2203, 3:0.2467, 4:0.0111, 5:0.4377, 6:0.0230, 7:0.0282      |\n",
            "|   354    |           1:0.0117, 2:0.0156, 3:0.1773, 4:0.0101, 5:0.0151, 6:0.5036, 7:0.2484           |\n",
            "|   355    |                          0:0.0738, 1:0.0262, 3:0.7259, 6:0.1589                          |\n",
            "|   356    |                          3:0.2942, 6:0.6006, 7:0.0118, 8:0.0626                          |\n",
            "|   357    |                     0:0.0597, 1:0.0269, 2:0.0183, 3:0.7451, 6:0.1403                     |\n",
            "|   358    |           1:0.0255, 2:0.0775, 3:0.1878, 4:0.0210, 6:0.0743, 7:0.0430, 8:0.5684           |\n",
            "|   359    |                     2:0.1567, 3:0.1171, 5:0.4231, 6:0.0162, 7:0.2556                     |\n",
            "|   360    |                     2:0.1215, 3:0.1548, 5:0.4119, 6:0.1410, 7:0.1464                     |\n",
            "|   361    |                0:0.0426, 2:0.0354, 3:0.2615, 4:0.3570, 5:0.1350, 6:0.1537                |\n",
            "|   362    |                          1:0.6265, 3:0.2485, 6:0.0103, 7:0.0854                          |\n",
            "|   363    |                               1:0.6150, 3:0.2348, 7:0.1168                               |\n",
            "|   364    |      0:0.0503, 1:0.1095, 2:0.0415, 3:0.2032, 4:0.3126, 6:0.0339, 7:0.0254, 8:0.2222      |\n",
            "|   365    |                          0:0.0411, 3:0.2783, 6:0.5915, 7:0.0644                          |\n",
            "|   366    | 0:0.0480, 1:0.0944, 2:0.0393, 3:0.2337, 4:0.3051, 5:0.0226, 6:0.0258, 7:0.0234, 8:0.2078 |\n",
            "|   367    |           1:0.0117, 2:0.0156, 3:0.2403, 4:0.0101, 5:0.0151, 6:0.6658, 7:0.0232           |\n",
            "|   368    |                0:0.0289, 1:0.1111, 3:0.1090, 5:0.1146, 7:0.5786, 8:0.0451                |\n",
            "|   369    |                     1:0.3861, 2:0.0570, 3:0.2640, 7:0.1340, 8:0.1442                     |\n",
            "|   370    |                               1:0.5896, 3:0.2944, 7:0.0783                               |\n",
            "|   371    |      0:0.0105, 1:0.0129, 2:0.1222, 3:0.0757, 4:0.0111, 5:0.0166, 6:0.7157, 7:0.0258      |\n",
            "|   372    |           2:0.0340, 3:0.2520, 4:0.0172, 5:0.4034, 6:0.1106, 7:0.1080, 8:0.0719           |\n",
            "|   373    |                2:0.0123, 3:0.1851, 5:0.0118, 6:0.1159, 7:0.4749, 8:0.1754                |\n",
            "|   374    |                               3:0.2991, 6:0.6496, 7:0.0127                               |\n",
            "|   375    |                     2:0.0114, 3:0.8397, 5:0.0110, 6:0.0151, 7:0.0936                     |\n",
            "|   376    |                          1:0.4648, 2:0.1647, 3:0.2290, 7:0.1234                          |\n",
            "|   377    |                     2:0.5134, 3:0.3093, 6:0.0127, 7:0.0145, 8:0.1219                     |\n",
            "|   378    |                               3:0.7178, 5:0.1755, 8:0.0747                               |\n",
            "|   379    |           1:0.4724, 2:0.0156, 3:0.4248, 4:0.0101, 5:0.0151, 6:0.0206, 7:0.0233           |\n",
            "|   380    |                     2:0.0812, 3:0.3461, 5:0.3990, 6:0.1320, 7:0.0158                     |\n",
            "|   381    |      0:0.0181, 2:0.1069, 3:0.2302, 4:0.0495, 5:0.3185, 6:0.0509, 7:0.1697, 8:0.0543      |\n",
            "|   382    |                0:0.1381, 2:0.1151, 3:0.1043, 5:0.5995, 6:0.0120, 7:0.0136                |\n",
            "|   383    |                     2:0.0114, 3:0.2430, 5:0.0110, 6:0.6885, 7:0.0169                     |\n",
            "|   384    |                               1:0.1061, 3:0.2747, 7:0.5936                               |\n",
            "|   385    |                     2:0.1069, 3:0.3606, 4:0.0271, 6:0.1231, 7:0.3718                     |\n",
            "|   386    |      1:0.0274, 2:0.0723, 3:0.1888, 4:0.0117, 5:0.0334, 6:0.1199, 7:0.0376, 8:0.5084      |\n",
            "|   387    |                1:0.1049, 2:0.0114, 3:0.3917, 5:0.0110, 6:0.4426, 7:0.0176                |\n",
            "|   388    |                     0:0.0967, 2:0.0493, 3:0.2337, 6:0.5893, 7:0.0111                     |\n",
            "|   389    |           1:0.0450, 2:0.0818, 3:0.1669, 4:0.0231, 5:0.0776, 6:0.4760, 7:0.1263           |\n",
            "|   390    |                          0:0.0728, 2:0.0397, 3:0.2754, 6:0.5889                          |\n",
            "|   391    |                     0:0.0527, 1:0.0301, 2:0.0329, 3:0.2804, 6:0.5898                     |\n",
            "|   392    |                0:0.0695, 1:0.0501, 2:0.0288, 3:0.2084, 6:0.5824, 7:0.0538                |\n",
            "|   393    |                0:0.1109, 1:0.0687, 3:0.0576, 4:0.0602, 6:0.5949, 7:0.0852                |\n",
            "|   394    | 0:0.0151, 1:0.0185, 2:0.0247, 3:0.8186, 4:0.0160, 5:0.0239, 6:0.0330, 7:0.0365, 8:0.0137 |\n",
            "|   395    |                     1:0.0731, 2:0.1446, 3:0.2665, 5:0.4496, 6:0.0535                     |\n",
            "|   396    |                          3:0.1153, 4:0.0735, 5:0.0742, 6:0.7136                          |\n",
            "|   397    | 0:0.0117, 1:0.0143, 2:0.0191, 3:0.1369, 4:0.0124, 5:0.0185, 6:0.7482, 7:0.0283, 8:0.0106 |\n",
            "|   398    |                          2:0.0490, 3:0.0256, 6:0.8456, 7:0.0548                          |\n",
            "|   399    |                     2:0.0380, 3:0.0419, 4:0.0375, 6:0.7780, 7:0.0887                     |\n",
            "|   400    |                          2:0.0470, 3:0.0246, 6:0.8518, 7:0.0525                          |\n",
            "|   401    |                1:0.0724, 2:0.0398, 3:0.0399, 4:0.0156, 6:0.7277, 7:0.0997                |\n",
            "|   402    |                     2:0.0772, 3:0.3047, 5:0.4649, 6:0.1147, 7:0.0142                     |\n",
            "|   403    |                     1:0.0429, 2:0.0425, 3:0.3296, 5:0.5151, 6:0.0529                     |\n",
            "|   404    |           1:0.2185, 2:0.0544, 3:0.0977, 4:0.0219, 5:0.0469, 6:0.4799, 7:0.0791           |\n",
            "|   405    |                     1:0.0284, 2:0.0303, 3:0.3336, 5:0.5260, 6:0.0695                     |\n",
            "|   406    |                1:0.4605, 2:0.0809, 3:0.1778, 4:0.0770, 5:0.1170, 7:0.0810                |\n",
            "|   407    |                3:0.2595, 4:0.5019, 5:0.0683, 6:0.0129, 7:0.0145, 8:0.1206                |\n",
            "|   408    |           0:0.0326, 1:0.0386, 3:0.3062, 4:0.4661, 5:0.0378, 7:0.0439, 8:0.0631           |\n",
            "|   409    |                     2:0.3940, 3:0.3712, 5:0.0118, 6:0.0161, 7:0.1756                     |\n",
            "|   410    |                               0:0.0632, 3:0.8319, 7:0.0661                               |\n",
            "|   411    |                     3:0.2554, 4:0.0446, 5:0.1170, 6:0.4313, 7:0.1319                     |\n",
            "|   412    |                          2:0.0588, 3:0.2321, 6:0.6663, 7:0.0127                          |\n",
            "|   413    | 0:0.2278, 1:0.0261, 2:0.0349, 3:0.1282, 4:0.0225, 5:0.0337, 6:0.0455, 7:0.4618, 8:0.0194 |\n",
            "|   414    | 0:0.1888, 1:0.0217, 2:0.0289, 3:0.1063, 4:0.0187, 5:0.0279, 6:0.0378, 7:0.3829, 8:0.1871 |\n",
            "|   415    |                          2:0.4658, 3:0.2799, 6:0.0132, 7:0.2057                          |\n",
            "|   416    |                     3:0.1343, 4:0.0703, 5:0.1274, 6:0.6248, 7:0.0330                     |\n",
            "|   417    |                     2:0.0277, 3:0.1079, 4:0.1410, 5:0.0783, 6:0.6334                     |\n",
            "|   418    | 0:0.0151, 1:0.0185, 2:0.1706, 3:0.5266, 4:0.0160, 5:0.0240, 6:0.0325, 7:0.0368, 8:0.1598 |\n",
            "|   419    |                0:0.0255, 3:0.4816, 5:0.0383, 6:0.1275, 7:0.2896, 8:0.0282                |\n",
            "|   420    |                1:0.0953, 2:0.0527, 3:0.3097, 4:0.2449, 6:0.1543, 7:0.1328                |\n",
            "|   421    |           1:0.3803, 2:0.0158, 3:0.2913, 4:0.0395, 5:0.0235, 6:0.1966, 7:0.0506           |\n",
            "|   422    |                     1:0.0923, 3:0.7100, 5:0.0388, 6:0.0618, 7:0.0854                     |\n",
            "|   423    | 0:0.0132, 1:0.0161, 2:0.6590, 3:0.0776, 4:0.0139, 5:0.0208, 6:0.1555, 7:0.0319, 8:0.0120 |\n",
            "|   424    |      0:0.0105, 1:0.0129, 2:0.0172, 3:0.6697, 4:0.0111, 5:0.0166, 6:0.2271, 7:0.0254      |\n",
            "|   425    |      0:0.0105, 1:0.0129, 2:0.0172, 3:0.6697, 4:0.0111, 5:0.0166, 6:0.2271, 7:0.0254      |\n",
            "|   426    | 0:0.0117, 1:0.0143, 2:0.6078, 3:0.1006, 4:0.0124, 5:0.0185, 6:0.0250, 7:0.1992, 8:0.0106 |\n",
            "|   427    |                2:0.5593, 3:0.1958, 4:0.0775, 5:0.0110, 6:0.0149, 7:0.1196                |\n",
            "|   428    |           1:0.0117, 2:0.4692, 3:0.2826, 4:0.0101, 5:0.0151, 6:0.0204, 7:0.1728           |\n",
            "|   429    |                                    3:0.4614, 7:0.5117                                    |\n",
            "|   430    |                1:0.0107, 2:0.4380, 3:0.3027, 5:0.0982, 6:0.1031, 7:0.0214                |\n",
            "|   431    |                          0:0.0588, 3:0.3733, 4:0.0321, 7:0.5148                          |\n",
            "|   432    |                          1:0.0286, 3:0.4566, 7:0.4657, 8:0.0320                          |\n",
            "|   433    |                0:0.0859, 2:0.0132, 3:0.0496, 5:0.0127, 6:0.0172, 7:0.7957                |\n",
            "|   434    |                2:0.0555, 3:0.1479, 4:0.1511, 5:0.0731, 6:0.4939, 7:0.0643                |\n",
            "|   435    |                1:0.0877, 2:0.0132, 3:0.6693, 5:0.0127, 6:0.1738, 7:0.0195                |\n",
            "|   436    |                2:0.0743, 3:0.2147, 4:0.0907, 5:0.0308, 6:0.4706, 7:0.1121                |\n",
            "|   437    |      0:0.1248, 1:0.0693, 2:0.0100, 3:0.1327, 5:0.1017, 6:0.0132, 7:0.0149, 8:0.5268      |\n",
            "|   438    |           0:0.0696, 2:0.0107, 3:0.2160, 5:0.0984, 6:0.0140, 7:0.0162, 8:0.5602           |\n",
            "|   439    |                2:0.1972, 3:0.2149, 5:0.0743, 6:0.0112, 7:0.0126, 8:0.4727                |\n",
            "|   440    |                          2:0.6385, 3:0.3100, 6:0.0106, 7:0.0123                          |\n",
            "|   441    |                     2:0.5628, 3:0.3183, 4:0.0646, 6:0.0124, 7:0.0145                     |\n",
            "|   442    |                     2:0.1616, 3:0.0548, 6:0.6875, 7:0.0129, 8:0.0580                     |\n",
            "|   443    |                     0:0.0686, 3:0.6545, 5:0.0707, 6:0.0926, 7:0.0973                     |\n",
            "|   444    |                0:0.0601, 2:0.0715, 3:0.6197, 5:0.0377, 6:0.0781, 7:0.1234                |\n",
            "|   445    |                     0:0.1009, 3:0.0316, 5:0.0565, 6:0.0106, 7:0.7765                     |\n",
            "|   446    |           1:0.0599, 2:0.0248, 3:0.2918, 4:0.0282, 6:0.0539, 7:0.0575, 8:0.4809           |\n",
            "|   447    |                     2:0.0522, 3:0.2584, 6:0.0517, 7:0.0370, 8:0.5899                     |\n",
            "|   448    |                     0:0.0608, 1:0.0318, 3:0.1721, 5:0.0319, 7:0.6872                     |\n",
            "|   449    |                          2:0.3496, 3:0.2967, 5:0.1861, 6:0.1494                          |\n",
            "|   450    |                0:0.0457, 1:0.0243, 3:0.2198, 4:0.0525, 5:0.0457, 7:0.6020                |\n",
            "|   451    |           2:0.0480, 3:0.1859, 4:0.0277, 5:0.0680, 6:0.5817, 7:0.0500, 8:0.0318           |\n",
            "|   452    |           0:0.0920, 1:0.0599, 3:0.1420, 4:0.0494, 5:0.0776, 7:0.0110, 8:0.5509           |\n",
            "|   453    |                0:0.0502, 2:0.0585, 3:0.6527, 5:0.0328, 6:0.0864, 7:0.1113                |\n",
            "|   454    |                          0:0.0814, 3:0.1352, 5:0.0455, 7:0.7099                          |\n",
            "+----------+------------------------------------------------------------------------------------------+\n"
          ]
        },
        {
          "output_type": "stream",
          "name": "stderr",
          "text": [
            "/usr/local/lib/python3.10/dist-packages/ipykernel/ipkernel.py:283: DeprecationWarning: `should_run_async` will not call `transform_cell` automatically in the future. Please pass the result to `transformed_cell` argument and any exception that happen during thetransform in `preprocessing_exc_tuple` in IPython 7.17 and above.\n",
            "  and should_run_async(code)\n"
          ]
        }
      ]
    },
    {
      "cell_type": "code",
      "source": [
        "#'Date' and 'Comment' columns\n",
        "df['Date'] = df['Date'].apply(lambda x: parser.parse(x))"
      ],
      "metadata": {
        "colab": {
          "base_uri": "https://localhost:8080/"
        },
        "id": "D_lowkhd8bqk",
        "outputId": "ba029b15-784b-48f9-eda8-7e5b58140c2b"
      },
      "execution_count": 22,
      "outputs": [
        {
          "output_type": "stream",
          "name": "stderr",
          "text": [
            "/usr/local/lib/python3.10/dist-packages/ipykernel/ipkernel.py:283: DeprecationWarning: `should_run_async` will not call `transform_cell` automatically in the future. Please pass the result to `transformed_cell` argument and any exception that happen during thetransform in `preprocessing_exc_tuple` in IPython 7.17 and above.\n",
            "  and should_run_async(code)\n"
          ]
        }
      ]
    },
    {
      "cell_type": "code",
      "source": [
        "# Group comments by month-year and count the number of comments in each group\n",
        "comments_by_month = df.groupby(df['Date'].dt.to_period(\"M\")).size()"
      ],
      "metadata": {
        "colab": {
          "base_uri": "https://localhost:8080/"
        },
        "id": "UtDv0cNz8nvA",
        "outputId": "7a309433-b97a-4621-cd70-5a7863760da9"
      },
      "execution_count": 23,
      "outputs": [
        {
          "output_type": "stream",
          "name": "stderr",
          "text": [
            "/usr/local/lib/python3.10/dist-packages/ipykernel/ipkernel.py:283: DeprecationWarning: `should_run_async` will not call `transform_cell` automatically in the future. Please pass the result to `transformed_cell` argument and any exception that happen during thetransform in `preprocessing_exc_tuple` in IPython 7.17 and above.\n",
            "  and should_run_async(code)\n"
          ]
        }
      ]
    },
    {
      "cell_type": "code",
      "source": [
        "# Print the summary of comments by month\n",
        "print(\"Timeline of Comments:\")\n",
        "for period, count in comments_by_month.items():\n",
        "    print(f\"{period.to_timestamp().strftime('%b %Y')}: {count} comments\")"
      ],
      "metadata": {
        "colab": {
          "base_uri": "https://localhost:8080/"
        },
        "id": "5fVLdEaQ8rCu",
        "outputId": "1fbddefc-0da0-40c3-c517-7d41dab1963f"
      },
      "execution_count": 24,
      "outputs": [
        {
          "output_type": "stream",
          "name": "stdout",
          "text": [
            "Timeline of Comments:\n",
            "Nov 2022: 125 comments\n",
            "Mar 2023: 106 comments\n",
            "May 2023: 220 comments\n",
            "Jun 2023: 3 comments\n"
          ]
        },
        {
          "output_type": "stream",
          "name": "stderr",
          "text": [
            "/usr/local/lib/python3.10/dist-packages/ipykernel/ipkernel.py:283: DeprecationWarning: `should_run_async` will not call `transform_cell` automatically in the future. Please pass the result to `transformed_cell` argument and any exception that happen during thetransform in `preprocessing_exc_tuple` in IPython 7.17 and above.\n",
            "  and should_run_async(code)\n"
          ]
        }
      ]
    },
    {
      "cell_type": "code",
      "source": [
        "# Plotting the timeline graph\n",
        "plt.figure(figsize=(10, 6))\n",
        "comments_by_month.plot(kind='line', marker='o')\n",
        "plt.xlabel('Month-Year')\n",
        "plt.ylabel('Number of Comments')\n",
        "plt.title('Timeline of Comments')\n",
        "plt.grid(True)\n",
        "plt.show()"
      ],
      "metadata": {
        "colab": {
          "base_uri": "https://localhost:8080/",
          "height": 635
        },
        "id": "YJKsj37K9StE",
        "outputId": "12f0bcb9-1a8b-489b-dc8e-115808e71c7e"
      },
      "execution_count": 25,
      "outputs": [
        {
          "output_type": "stream",
          "name": "stderr",
          "text": [
            "/usr/local/lib/python3.10/dist-packages/ipykernel/ipkernel.py:283: DeprecationWarning: `should_run_async` will not call `transform_cell` automatically in the future. Please pass the result to `transformed_cell` argument and any exception that happen during thetransform in `preprocessing_exc_tuple` in IPython 7.17 and above.\n",
            "  and should_run_async(code)\n"
          ]
        },
        {
          "output_type": "display_data",
          "data": {
            "text/plain": [
              "<Figure size 1000x600 with 1 Axes>"
            ],
            "image/png": "[encoded data removed]"
          },
          "metadata": {}
        }
      ]
    },
    {
      "cell_type": "code",
      "source": [
        "# Initialize the VADER sentiment analyzer\n",
        "nltk.download('vader_lexicon')\n",
        "sid = SentimentIntensityAnalyzer()"
      ],
      "metadata": {
        "colab": {
          "base_uri": "https://localhost:8080/"
        },
        "id": "leWaO42P9XE_",
        "outputId": "958a4248-c3b5-441b-858e-3ce375d9eb02"
      },
      "execution_count": 26,
      "outputs": [
        {
          "output_type": "stream",
          "name": "stderr",
          "text": [
            "/usr/local/lib/python3.10/dist-packages/ipykernel/ipkernel.py:283: DeprecationWarning: `should_run_async` will not call `transform_cell` automatically in the future. Please pass the result to `transformed_cell` argument and any exception that happen during thetransform in `preprocessing_exc_tuple` in IPython 7.17 and above.\n",
            "  and should_run_async(code)\n",
            "[nltk_data] Downloading package vader_lexicon to /root/nltk_data...\n"
          ]
        }
      ]
    },
    {
      "cell_type": "code",
      "source": [
        "# List to store sentiment labels for each comment\n",
        "sentiments = []"
      ],
      "metadata": {
        "colab": {
          "base_uri": "https://localhost:8080/"
        },
        "id": "y8p5VcaV9axr",
        "outputId": "4d703888-f31a-4616-f796-3e3a90a69f5f"
      },
      "execution_count": 27,
      "outputs": [
        {
          "output_type": "stream",
          "name": "stderr",
          "text": [
            "/usr/local/lib/python3.10/dist-packages/ipykernel/ipkernel.py:283: DeprecationWarning: `should_run_async` will not call `transform_cell` automatically in the future. Please pass the result to `transformed_cell` argument and any exception that happen during thetransform in `preprocessing_exc_tuple` in IPython 7.17 and above.\n",
            "  and should_run_async(code)\n"
          ]
        }
      ]
    },
    {
      "cell_type": "code",
      "source": [
        "# Perform sentiment analysis on each comment\n",
        "for comment in cleaned_comments:\n",
        "    sentiment_scores = sid.polarity_scores(\" \".join(comment))\n",
        "\n",
        "    # Determine sentiment label based on compound score\n",
        "    if sentiment_scores['compound'] >= 0.05:\n",
        "        sentiment = \"Positive\"\n",
        "    elif sentiment_scores['compound'] <= -0.05:\n",
        "        sentiment = \"Negative\"\n",
        "    else:\n",
        "        sentiment = \"Neutral\"\n",
        "\n",
        "    sentiments.append(sentiment)"
      ],
      "metadata": {
        "colab": {
          "base_uri": "https://localhost:8080/"
        },
        "id": "z_fYAMhH9dPm",
        "outputId": "fd4ea854-850f-4a1b-b574-57f25cc2538c"
      },
      "execution_count": 28,
      "outputs": [
        {
          "output_type": "stream",
          "name": "stderr",
          "text": [
            "/usr/local/lib/python3.10/dist-packages/ipykernel/ipkernel.py:283: DeprecationWarning: `should_run_async` will not call `transform_cell` automatically in the future. Please pass the result to `transformed_cell` argument and any exception that happen during thetransform in `preprocessing_exc_tuple` in IPython 7.17 and above.\n",
            "  and should_run_async(code)\n"
          ]
        }
      ]
    },
    {
      "cell_type": "code",
      "source": [
        "# Add the calculated sentiments to the DataFrame (assuming you have a DataFrame named df)\n",
        "df = pd.DataFrame({'Comment': cleaned_comments})\n",
        "df['Sentiment'] = sentiments"
      ],
      "metadata": {
        "colab": {
          "base_uri": "https://localhost:8080/"
        },
        "id": "m3pw7_2N9neI",
        "outputId": "2e1519bb-ea0e-4c3b-a930-bea88d4fb5cd"
      },
      "execution_count": 29,
      "outputs": [
        {
          "output_type": "stream",
          "name": "stderr",
          "text": [
            "/usr/local/lib/python3.10/dist-packages/ipykernel/ipkernel.py:283: DeprecationWarning: `should_run_async` will not call `transform_cell` automatically in the future. Please pass the result to `transformed_cell` argument and any exception that happen during thetransform in `preprocessing_exc_tuple` in IPython 7.17 and above.\n",
            "  and should_run_async(code)\n"
          ]
        }
      ]
    },
    {
      "cell_type": "code",
      "source": [
        "# Analyze and visualize overall sentiment distribution\n",
        "sentiment_distribution = df['Sentiment'].value_counts(normalize=True)"
      ],
      "metadata": {
        "colab": {
          "base_uri": "https://localhost:8080/"
        },
        "id": "Fc2l9r-D9pEc",
        "outputId": "0ab8ec6e-2901-4f18-a404-595d9b6d7778"
      },
      "execution_count": 30,
      "outputs": [
        {
          "output_type": "stream",
          "name": "stderr",
          "text": [
            "/usr/local/lib/python3.10/dist-packages/ipykernel/ipkernel.py:283: DeprecationWarning: `should_run_async` will not call `transform_cell` automatically in the future. Please pass the result to `transformed_cell` argument and any exception that happen during thetransform in `preprocessing_exc_tuple` in IPython 7.17 and above.\n",
            "  and should_run_async(code)\n"
          ]
        }
      ]
    },
    {
      "cell_type": "code",
      "source": [
        "# Define custom colors\n",
        "colors = ['#66c2a5', '#fc8d62', '#8da0cb']  # Green, Orange, Blue"
      ],
      "metadata": {
        "colab": {
          "base_uri": "https://localhost:8080/"
        },
        "id": "vqbbPGQ39s1g",
        "outputId": "d5e438a4-213e-4361-f21b-8571ceb1885a"
      },
      "execution_count": 31,
      "outputs": [
        {
          "output_type": "stream",
          "name": "stderr",
          "text": [
            "/usr/local/lib/python3.10/dist-packages/ipykernel/ipkernel.py:283: DeprecationWarning: `should_run_async` will not call `transform_cell` automatically in the future. Please pass the result to `transformed_cell` argument and any exception that happen during thetransform in `preprocessing_exc_tuple` in IPython 7.17 and above.\n",
            "  and should_run_async(code)\n"
          ]
        }
      ]
    },
    {
      "cell_type": "code",
      "source": [
        "# Create a bar plot with custom colors\n",
        "plt.figure(figsize=(8, 6))\n",
        "sns.barplot(x=sentiment_distribution.index, y=sentiment_distribution.values, palette=colors)\n",
        "\n",
        "# Set labels and title\n",
        "plt.xlabel('Sentiment')\n",
        "plt.ylabel('Proportion')\n",
        "plt.title('Overall Sentiment Distribution')\n",
        "\n",
        "# Customize the style\n",
        "sns.set_style(\"whitegrid\")\n",
        "plt.xticks(rotation=0)  # To make x-axis labels more readable\n",
        "\n",
        "# Show the plot\n",
        "plt.show()"
      ],
      "metadata": {
        "colab": {
          "base_uri": "https://localhost:8080/",
          "height": 723
        },
        "id": "X48oGykN9v8N",
        "outputId": "c456cd7c-119b-4f18-b862-2e42b49351c8"
      },
      "execution_count": 35,
      "outputs": [
        {
          "output_type": "stream",
          "name": "stderr",
          "text": [
            "/usr/local/lib/python3.10/dist-packages/ipykernel/ipkernel.py:283: DeprecationWarning: `should_run_async` will not call `transform_cell` automatically in the future. Please pass the result to `transformed_cell` argument and any exception that happen during thetransform in `preprocessing_exc_tuple` in IPython 7.17 and above.\n",
            "  and should_run_async(code)\n",
            "/usr/local/lib/python3.10/dist-packages/seaborn/_oldcore.py:1498: FutureWarning: is_categorical_dtype is deprecated and will be removed in a future version. Use isinstance(dtype, CategoricalDtype) instead\n",
            "  if pd.api.types.is_categorical_dtype(vector):\n",
            "/usr/local/lib/python3.10/dist-packages/seaborn/_oldcore.py:1498: FutureWarning: is_categorical_dtype is deprecated and will be removed in a future version. Use isinstance(dtype, CategoricalDtype) instead\n",
            "  if pd.api.types.is_categorical_dtype(vector):\n",
            "/usr/local/lib/python3.10/dist-packages/seaborn/_oldcore.py:1498: FutureWarning: is_categorical_dtype is deprecated and will be removed in a future version. Use isinstance(dtype, CategoricalDtype) instead\n",
            "  if pd.api.types.is_categorical_dtype(vector):\n"
          ]
        },
        {
          "output_type": "display_data",
          "data": {
            "text/plain": [
              "<Figure size 800x600 with 1 Axes>"
            ],
            "image/png": "[encoded data removed]"
          },
          "metadata": {}
        }
      ]
    },
    {
      "cell_type": "code",
      "source": [
        "# Print sentiment distribution\n",
        "for sentiment, proportion in sentiment_distribution.items():\n",
        "    print(f\"{sentiment}: {proportion:.2%}\")"
      ],
      "metadata": {
        "colab": {
          "base_uri": "https://localhost:8080/"
        },
        "id": "8qSBX2_c93I_",
        "outputId": "1380d164-5cbe-4018-a38f-0de65d19a2c0"
      },
      "execution_count": 36,
      "outputs": [
        {
          "output_type": "stream",
          "name": "stdout",
          "text": [
            "Positive: 70.93%\n",
            "Negative: 20.48%\n",
            "Neutral: 8.59%\n"
          ]
        },
        {
          "output_type": "stream",
          "name": "stderr",
          "text": [
            "/usr/local/lib/python3.10/dist-packages/ipykernel/ipkernel.py:283: DeprecationWarning: `should_run_async` will not call `transform_cell` automatically in the future. Please pass the result to `transformed_cell` argument and any exception that happen during thetransform in `preprocessing_exc_tuple` in IPython 7.17 and above.\n",
            "  and should_run_async(code)\n"
          ]
        }
      ]
    }
  ]
}