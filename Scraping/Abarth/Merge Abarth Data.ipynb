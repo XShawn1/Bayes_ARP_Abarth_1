{
 "cells": [
  {
   "cell_type": "code",
   "execution_count": 1,
   "id": "4e889951",
   "metadata": {},
   "outputs": [],
   "source": [
    "import pandas as pd"
   ]
  },
  {
   "cell_type": "code",
   "execution_count": 2,
   "id": "f59aa07c",
   "metadata": {},
   "outputs": [],
   "source": [
    "# Define the paths to the CSV files\n",
    "csv_file_paths = [\n",
    "    '/Users/nadiaarif/Desktop/pistonheads1.csv',  \n",
    "    '/Users/nadiaarif/Desktop/pistonheads2.csv',\n",
    "    '/Users/nadiaarif/Desktop/pistonheads3.csv',\n",
    "    '/Users/nadiaarif/Desktop/pistonheads4.csv'\n",
    "]"
   ]
  },
  {
   "cell_type": "code",
   "execution_count": 3,
   "id": "730aea6c",
   "metadata": {},
   "outputs": [],
   "source": [
    "# Initialize an empty list to store DataFrames\n",
    "data_frames = []"
   ]
  },
  {
   "cell_type": "code",
   "execution_count": 4,
   "id": "b1494483",
   "metadata": {},
   "outputs": [],
   "source": [
    "# Read each CSV file and append to the list of DataFrames\n",
    "for path in csv_file_paths:\n",
    "    df = pd.read_csv(path)\n",
    "    data_frames.append(df)"
   ]
  },
  {
   "cell_type": "code",
   "execution_count": 5,
   "id": "f4aae878",
   "metadata": {},
   "outputs": [],
   "source": [
    "# Concatenate the DataFrames into a single DataFrame\n",
    "merged_df = pd.concat(data_frames, ignore_index=True)"
   ]
  },
  {
   "cell_type": "code",
   "execution_count": 6,
   "id": "eff9ecf1",
   "metadata": {},
   "outputs": [
    {
     "name": "stdout",
     "output_type": "stream",
     "text": [
      "             Name                                            Comment  \\\n",
      "0         flukey5  T1berious said:\\n Very interesting,I don't see...   \n",
      "1         Maracus  WayOutWest said:\\n\\nT1berious said:\\n Very int...   \n",
      "2        Brett748  I don’t want an EV until I absolutely have to ...   \n",
      "3           raspy  SRT77 said:\\n On their website the 0 - 100km t...   \n",
      "4          rewild  Every new small EV that comes out just highlig...   \n",
      "..            ...                                                ...   \n",
      "449        biggbn  jamies30 said:\\n\\nbiggbn said:\\n\\nJulian Scott...   \n",
      "450         geemy  \"If they stuck a much more powerful motor in t...   \n",
      "451  Julian Scott  Iceblue said:\\n\\nJulian Scott said:\\n How much...   \n",
      "452  Julian Scott  biggbn said:\\n\\ngeemy said:\\n\\nJerryF said:\\n ...   \n",
      "453  Julian Scott  biggbn said:\\n\\nJulian Scott said:\\n\\nbiggbn s...   \n",
      "\n",
      "                           Date  \n",
      "0    Tuesday 22nd November 2022  \n",
      "1    Tuesday 22nd November 2022  \n",
      "2    Tuesday 22nd November 2022  \n",
      "3    Tuesday 22nd November 2022  \n",
      "4    Tuesday 22nd November 2022  \n",
      "..                          ...  \n",
      "449             Friday 26th May  \n",
      "450             Friday 26th May  \n",
      "451             Friday 2nd June  \n",
      "452             Friday 2nd June  \n",
      "453             Friday 2nd June  \n",
      "\n",
      "[454 rows x 3 columns]\n"
     ]
    }
   ],
   "source": [
    "# Display the merged DataFrame\n",
    "print(merged_df)"
   ]
  },
  {
   "cell_type": "code",
   "execution_count": 8,
   "id": "62c4778e",
   "metadata": {},
   "outputs": [],
   "source": [
    "# Define the path to save the merged CSV file\n",
    "merged_csv_path = '/Users/nadiaarif/Desktop/merged.csv'"
   ]
  },
  {
   "cell_type": "code",
   "execution_count": 9,
   "id": "471cf295",
   "metadata": {},
   "outputs": [
    {
     "name": "stdout",
     "output_type": "stream",
     "text": [
      "Merged DataFrame saved to: /Users/nadiaarif/Desktop/merged.csv\n"
     ]
    }
   ],
   "source": [
    "# Save the merged DataFrame to a CSV file\n",
    "merged_df.to_csv(merged_csv_path, index=False)\n",
    "print(\"Merged DataFrame saved to:\", merged_csv_path)"
   ]
  },
  {
   "cell_type": "code",
   "execution_count": null,
   "id": "3a10f38c",
   "metadata": {},
   "outputs": [],
   "source": []
  }
 ],
 "metadata": {
  "kernelspec": {
   "display_name": "Python 3 (ipykernel)",
   "language": "python",
   "name": "python3"
  },
  "language_info": {
   "codemirror_mode": {
    "name": "ipython",
    "version": 3
   },
   "file_extension": ".py",
   "mimetype": "text/x-python",
   "name": "python",
   "nbconvert_exporter": "python",
   "pygments_lexer": "ipython3",
   "version": "3.9.12"
  }
 },
 "nbformat": 4,
 "nbformat_minor": 5
}
