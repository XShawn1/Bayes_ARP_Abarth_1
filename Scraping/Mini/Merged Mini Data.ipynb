{
 "cells": [
  {
   "cell_type": "code",
   "execution_count": 1,
   "id": "667e1d9d",
   "metadata": {},
   "outputs": [],
   "source": [
    "import pandas as pd"
   ]
  },
  {
   "cell_type": "code",
   "execution_count": 2,
   "id": "d2e6352b",
   "metadata": {},
   "outputs": [],
   "source": [
    "# Define the paths to the CSV files\n",
    "csv_file_paths = [\n",
    "    '/Users/nadiaarif/Desktop/mini1.csv',  \n",
    "    '/Users/nadiaarif/Desktop/mini2.csv',\n",
    "    '/Users/nadiaarif/Desktop/mini3.csv',\n",
    "    '/Users/nadiaarif/Desktop/mini4.csv'\n",
    "]"
   ]
  },
  {
   "cell_type": "code",
   "execution_count": 3,
   "id": "a257a71b",
   "metadata": {},
   "outputs": [],
   "source": [
    "# Initialize an empty list to store DataFrames\n",
    "data_frames = []"
   ]
  },
  {
   "cell_type": "code",
   "execution_count": 4,
   "id": "aa766d09",
   "metadata": {},
   "outputs": [],
   "source": [
    "# Read each CSV file and append to the list of DataFrames\n",
    "for path in csv_file_paths:\n",
    "    df = pd.read_csv(path)\n",
    "    data_frames.append(df)"
   ]
  },
  {
   "cell_type": "code",
   "execution_count": 5,
   "id": "4f33ae5f",
   "metadata": {},
   "outputs": [],
   "source": [
    "# Concatenate the DataFrames into a single DataFrame\n",
    "merged_df = pd.concat(data_frames, ignore_index=True)"
   ]
  },
  {
   "cell_type": "code",
   "execution_count": 6,
   "id": "584d86f1",
   "metadata": {},
   "outputs": [],
   "source": [
    "# Define the path to save the merged CSV file on your desktop\n",
    "output_path = '/Users/nadiaarif/Desktop/mergedmini.csv'"
   ]
  },
  {
   "cell_type": "code",
   "execution_count": 7,
   "id": "70c219bf",
   "metadata": {},
   "outputs": [
    {
     "name": "stdout",
     "output_type": "stream",
     "text": [
      "Merged DataFrame saved to: /Users/nadiaarif/Desktop/mergedmini.csv\n"
     ]
    }
   ],
   "source": [
    "# Save the merged DataFrame to a CSV file\n",
    "merged_df.to_csv(output_path, index=False)\n",
    "\n",
    "print(\"Merged DataFrame saved to:\", output_path)"
   ]
  },
  {
   "cell_type": "code",
   "execution_count": null,
   "id": "97228903",
   "metadata": {},
   "outputs": [],
   "source": []
  }
 ],
 "metadata": {
  "kernelspec": {
   "display_name": "Python 3 (ipykernel)",
   "language": "python",
   "name": "python3"
  },
  "language_info": {
   "codemirror_mode": {
    "name": "ipython",
    "version": 3
   },
   "file_extension": ".py",
   "mimetype": "text/x-python",
   "name": "python",
   "nbconvert_exporter": "python",
   "pygments_lexer": "ipython3",
   "version": "3.9.12"
  }
 },
 "nbformat": 4,
 "nbformat_minor": 5
}
